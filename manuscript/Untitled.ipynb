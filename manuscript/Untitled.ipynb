{
 "cells": [
  {
   "cell_type": "code",
   "execution_count": 1,
   "metadata": {},
   "outputs": [],
   "source": [
    "import numpy as np\n",
    "import matplotlib.pyplot as plt"
   ]
  },
  {
   "cell_type": "code",
   "execution_count": 2,
   "metadata": {},
   "outputs": [],
   "source": [
    "from rfest.utils import get_n_samples, split_data, fetch_data, uvec"
   ]
  },
  {
   "cell_type": "code",
   "execution_count": 3,
   "metadata": {},
   "outputs": [
    {
     "name": "stdout",
     "output_type": "stream",
     "text": [
      "(Maheswaranathan et. al. 2018) is already downloaded. To re-download the same file, please set `overwrite=False`.\n",
      "Loading data...\n",
      "Done.\n"
     ]
    }
   ],
   "source": [
    "data_mah = fetch_data(2, datapath='../../data_RFEst/')"
   ]
  },
  {
   "cell_type": "code",
   "execution_count": 6,
   "metadata": {},
   "outputs": [
    {
     "data": {
      "text/plain": [
       "array([[-0.23667907,  0.48188643, -0.85992833, ...,  1.34712194,\n",
       "        -0.54128482,  0.26636628],\n",
       "       [-0.23667907,  0.48188643, -0.85992833, ...,  1.34712194,\n",
       "        -0.54128482,  0.26636628],\n",
       "       [-0.23667907,  0.48188643, -0.85992833, ...,  1.34712194,\n",
       "        -0.54128482,  0.26636628],\n",
       "       ...,\n",
       "       [-1.30981927,  0.19053328,  0.63716564, ...,  0.95910565,\n",
       "        -0.66876949, -1.40387219],\n",
       "       [-1.30981927,  0.19053328,  0.63716564, ...,  0.95910565,\n",
       "        -0.66876949, -1.40387219],\n",
       "       [-1.30981927,  0.19053328,  0.63716564, ...,  0.95910565,\n",
       "        -0.66876949, -1.40387219]])"
      ]
     },
     "execution_count": 6,
     "metadata": {},
     "output_type": "execute_result"
    }
   ],
   "source": [
    "data_mah['X']"
   ]
  },
  {
   "cell_type": "code",
   "execution_count": 11,
   "metadata": {},
   "outputs": [],
   "source": [
    "import pickle"
   ]
  },
  {
   "cell_type": "code",
   "execution_count": 12,
   "metadata": {},
   "outputs": [],
   "source": [
    "a = {'X': X, 'y': y, 'dt': 0.01}\n",
    "with open('../../data_RFEst/mahesaranathan.pickle', 'wb') as handle:\n",
    "    pickle.dump(a, handle, protocol=pickle.HIGHEST_PROTOCOL)"
   ]
  },
  {
   "cell_type": "code",
   "execution_count": null,
   "metadata": {},
   "outputs": [],
   "source": []
  }
 ],
 "metadata": {
  "kernelspec": {
   "display_name": "Python 3",
   "language": "python",
   "name": "python3"
  },
  "language_info": {
   "codemirror_mode": {
    "name": "ipython",
    "version": 3
   },
   "file_extension": ".py",
   "mimetype": "text/x-python",
   "name": "python",
   "nbconvert_exporter": "python",
   "pygments_lexer": "ipython3",
   "version": "3.7.7"
  }
 },
 "nbformat": 4,
 "nbformat_minor": 4
}
