{
 "cells": [
  {
   "cell_type": "code",
   "execution_count": 1,
   "metadata": {},
   "outputs": [],
   "source": [
    "import numpy as np\n",
    "import matplotlib.pyplot as plt\n",
    "\n",
    "from rfest import GLM, LNP, LNLN\n",
    "from rfest import build_design_matrix\n",
    "from rfest.utils import get_n_samples, split_data, fetch_data, uvec\n",
    "from rfest.check import plot3d, plot_diagnostics"
   ]
  },
  {
   "cell_type": "code",
   "execution_count": 2,
   "metadata": {},
   "outputs": [
    {
     "name": "stdout",
     "output_type": "stream",
     "text": [
      "(Liu, et al., 2017) is already downloaded. To re-download the same file, please set `overwrite=False`.\n",
      "Loading data...\n",
      "Done.\n"
     ]
    }
   ],
   "source": [
    "data_liu = fetch_data(4)"
   ]
  },
  {
   "cell_type": "markdown",
   "metadata": {},
   "source": [
    "### Vanilla model no spline"
   ]
  },
  {
   "cell_type": "code",
   "execution_count": 3,
   "metadata": {},
   "outputs": [
    {
     "name": "stdout",
     "output_type": "stream",
     "text": [
      "SUMMARY\n",
      "               N    Minutes   Fraction\n",
      "Total      36364       20.0        1.0\n",
      "Train      18182       10.0        0.5\n",
      "Dev         3636        2.0        0.1\n",
      "Test       14546        8.0        0.4\n"
     ]
    }
   ],
   "source": [
    "dims = [20, 25, 25]\n",
    "dt = 0.033\n",
    "num_subunits = 4\n",
    "\n",
    "n_samples = get_n_samples(20, dt) # 20 mins of the full dataset\n",
    "\n",
    "X = data_liu['train']['X'][:n_samples]\n",
    "y = data_liu['train']['y'][:n_samples]\n",
    "X = build_design_matrix(X[:n_samples], dims[0])\n",
    "# y = y[:n_samples]\n",
    "\n",
    "(X_train, y_train), (X_dev, y_dev), (X_test, y_test) = split_data(X, y, dt, frac_train=0.5, frac_dev=0.1)"
   ]
  },
  {
   "cell_type": "code",
   "execution_count": 15,
   "metadata": {},
   "outputs": [
    {
     "data": {
      "text/plain": [
       "(2.646640200264664, 2.233556689002233)"
      ]
     },
     "execution_count": 15,
     "metadata": {},
     "output_type": "execute_result"
    }
   ],
   "source": [
    "sum(y_train) / 18182 / 0.033, sum(y_dev) / 3636 / 0.033"
   ]
  },
  {
   "cell_type": "code",
   "execution_count": 4,
   "metadata": {},
   "outputs": [
    {
     "name": "stderr",
     "output_type": "stream",
     "text": [
      "WARNING:absl:No GPU/TPU found, falling back to CPU. (Set TF_CPP_MIN_LOG_LEVEL=0 and rerun for more info.)\n"
     ]
    },
    {
     "name": "stdout",
     "output_type": "stream",
     "text": [
      "Iters\t  Time (s)\tCost (train)\tCost (dev)\tMetric (train)\tMetric (dev)\n",
      "    0\t    18.848\t -1338.764\t   991.738\t     0.688\t     0.071\n",
      "  300\t   104.266\t -4548.603\t  4401.581\t     1.000\t     0.044\n",
      "Stop at 301 steps: cost (dev) has been monotonically increasing for 10 steps.\n",
      "\n",
      "Total time elapsed: 104.551 s.\n",
      "Iters\t  Time (s)\tCost (train)\tCost (dev)\tMetric (train)\tMetric (dev)\n",
      "    0\t    20.993\t   -76.474\t   967.595\t     0.689\t     0.079\n",
      "  300\t   106.338\t -4075.698\t  1001.635\t     0.992\t     0.135\n",
      "Stop at 331 steps: cost (train) has been changing less than 1e-5 for 10 steps.\n",
      "\n",
      "Total time elapsed: 115.395 s.\n",
      "Iters\t  Time (s)\tCost (train)\tCost (dev)\tMetric (train)\tMetric (dev)\n",
      "    0\t    17.357\t  1171.933\t  1001.326\t     0.688\t     0.081\n",
      "  300\t   102.009\t -2054.403\t  1717.452\t     0.781\t     0.074\n",
      "Stop at 532 steps: cost (train) has been changing less than 1e-5 for 10 steps.\n",
      "\n",
      "Total time elapsed: 169.757 s.\n",
      "Iters\t  Time (s)\tCost (train)\tCost (dev)\tMetric (train)\tMetric (dev)\n",
      "    0\t    19.789\t  2436.613\t  1007.476\t     0.687\t     0.082\n",
      "  300\t   103.890\t -3032.657\t  1128.248\t     0.923\t     0.132\n",
      "Stop at 429 steps: cost (train) has been changing less than 1e-5 for 10 steps.\n",
      "\n",
      "Total time elapsed: 141.782 s.\n",
      "Iters\t  Time (s)\tCost (train)\tCost (dev)\tMetric (train)\tMetric (dev)\n",
      "    0\t    18.944\t  3655.159\t  1011.041\t     0.686\t     0.077\n",
      "  300\t   103.810\t -3040.733\t   664.472\t     0.953\t     0.142\n",
      "Stop at 380 steps: cost (train) has been changing less than 1e-5 for 10 steps.\n",
      "\n",
      "Total time elapsed: 127.185 s.\n",
      "Iters\t  Time (s)\tCost (train)\tCost (dev)\tMetric (train)\tMetric (dev)\n",
      "    0\t    20.301\t  4877.156\t  1001.424\t     0.686\t     0.079\n",
      "  300\t   105.301\t -2625.265\t   636.914\t     0.917\t     0.113\n",
      "Stop at 409 steps: cost (dev) has been monotonically increasing for 10 steps.\n",
      "\n",
      "Total time elapsed: 137.119 s.\n"
     ]
    }
   ],
   "source": [
    "lnp_nospl = []\n",
    "lnp_nospl_metric = []\n",
    "lnp_nospl_time = []\n",
    "for beta in np.arange(0, 10., 1.):\n",
    "    lnp = LNP(X_train, y_train, dims=dims, dt=dt)\n",
    "    lnp.fit(extra={'X': X_dev, 'y': y_dev}, metric='corrcoef', \n",
    "             num_iters=1500, verbose=300, tolerance=10,\n",
    "             beta=beta, step_size=0.1, random_seed=2046,\n",
    "             fit_history_filter=False)\n",
    "    lnp_nospl.append(lnp)\n",
    "    lnp_nospl_metric.append(lnp.metric_dev_opt)\n",
    "    lnp_nospl_time.append(lnp.total_time_elapsed)\n",
    "    \n",
    "    if (np.diff(lnp_nospl_metric) > 0).all():\n",
    "        continue\n",
    "    else:\n",
    "        break    "
   ]
  },
  {
   "cell_type": "code",
   "execution_count": 6,
   "metadata": {},
   "outputs": [
    {
     "data": {
      "text/plain": [
       "[104.5505268573761,\n",
       " 115.39463996887207,\n",
       " 169.75662994384766,\n",
       " 141.78203105926514,\n",
       " 127.1850848197937,\n",
       " 137.11924695968628]"
      ]
     },
     "execution_count": 6,
     "metadata": {},
     "output_type": "execute_result"
    }
   ],
   "source": [
    "lnp_nospl_time"
   ]
  },
  {
   "cell_type": "code",
   "execution_count": 7,
   "metadata": {},
   "outputs": [
    {
     "data": {
      "text/plain": [
       "<matplotlib.lines.Line2D at 0x7fc732c18310>"
      ]
     },
     "execution_count": 7,
     "metadata": {},
     "output_type": "execute_result"
    },
    {
     "data": {
      "image/png": "[encoded data removed]",
      "text/plain": [
       "<Figure size 432x288 with 1 Axes>"
      ]
     },
     "metadata": {
      "needs_background": "light"
     },
     "output_type": "display_data"
    }
   ],
   "source": [
    "plt.plot(np.arange(0, 10., 1.)[:len(lnp_nospl_metric)], lnp_nospl_metric)\n",
    "plt.axvline(np.arange(0, 10., 1.)[:len(lnp_nospl_metric)][np.argmax(lnp_nospl_metric)])"
   ]
  },
  {
   "cell_type": "code",
   "execution_count": 8,
   "metadata": {},
   "outputs": [
    {
     "name": "stdout",
     "output_type": "stream",
     "text": [
      "Iters\t  Time (s)\tCost (train)\tCost (dev)\tMetric (train)\tMetric (dev)\n",
      "    0\t    18.443\t -1525.802\t   252.459\t     0.758\t     0.075\n",
      "  300\t   113.798\t -4546.604\t  1563.565\t     1.000\t     0.041\n",
      "Stop at 301 steps: cost (dev) has been monotonically increasing for 10 steps.\n",
      "\n",
      "Total time elapsed: 114.119 s.\n",
      "Iters\t  Time (s)\tCost (train)\tCost (dev)\tMetric (train)\tMetric (dev)\n",
      "    0\t    17.305\t  3392.771\t   237.889\t     0.757\t     0.073\n",
      "  300\t   113.148\t -2457.850\t   368.256\t     0.855\t     0.099\n",
      "Stop at 402 steps: cost (train) has been changing less than 1e-5 for 10 steps.\n",
      "\n",
      "Total time elapsed: 147.136 s.\n",
      "Iters\t  Time (s)\tCost (train)\tCost (dev)\tMetric (train)\tMetric (dev)\n",
      "    0\t    17.626\t  8195.576\t   215.733\t     0.753\t     0.083\n",
      "  300\t   119.353\t -2054.501\t   228.783\t     0.938\t     0.148\n",
      "  600\t   219.365\t -2209.954\t   227.436\t     0.929\t     0.149\n",
      "  900\t   318.965\t -2243.559\t   220.167\t     0.913\t     0.133\n",
      " 1200\t   418.715\t -2343.939\t   223.388\t     0.925\t     0.138\n",
      "Stop: reached 1500 steps.\n",
      "\n",
      "Total time elapsed: 519.899 s.\n"
     ]
    }
   ],
   "source": [
    "lnln_nospl = []\n",
    "lnln_nospl_metric = []\n",
    "lnln_nospl_time = []\n",
    "num_subunits = 4\n",
    "for beta in np.arange(0, 10., 1.):\n",
    "    lnln = LNLN(X_train, y_train, dims=dims, dt=dt)\n",
    "    lnln.fit(extra={'X': X_dev, 'y': y_dev}, metric='corrcoef', \n",
    "             num_subunits=num_subunits, num_iters=1500, verbose=300, tolerance=10,\n",
    "             beta=beta, step_size=0.1, random_seed=2046,\n",
    "             fit_history_filter=False)\n",
    "    lnln_nospl.append(lnln)\n",
    "    lnln_nospl_metric.append(lnln.metric_dev_opt)\n",
    "    lnln_nospl_time.append(lnln.total_time_elapsed)\n",
    "    \n",
    "    if (np.diff(lnln_nospl_metric) > 0).all():\n",
    "        continue\n",
    "    else:\n",
    "        break    "
   ]
  },
  {
   "cell_type": "code",
   "execution_count": 11,
   "metadata": {},
   "outputs": [
    {
     "data": {
      "text/plain": [
       "<matplotlib.lines.Line2D at 0x7fc09fd1a110>"
      ]
     },
     "execution_count": 11,
     "metadata": {},
     "output_type": "execute_result"
    },
    {
     "data": {
      "image/png": "[encoded data removed]",
      "text/plain": [
       "<Figure size 432x288 with 1 Axes>"
      ]
     },
     "metadata": {
      "needs_background": "light"
     },
     "output_type": "display_data"
    }
   ],
   "source": [
    "plt.plot(np.arange(0, 10., 1.)[:len(lnln_nospl_metric)], lnln_nospl_metric)\n",
    "plt.axvline(np.arange(0, 10., 1.)[:len(lnln_nospl_metric)][np.argmax(lnln_nospl_metric)])"
   ]
  },
  {
   "cell_type": "code",
   "execution_count": 22,
   "metadata": {},
   "outputs": [
    {
     "data": {
      "text/plain": [
       "([104.5505268573761,\n",
       "  115.39463996887207,\n",
       "  169.75662994384766,\n",
       "  141.78203105926514,\n",
       "  127.1850848197937,\n",
       "  137.11924695968628],\n",
       " [114.11864280700684, 147.1355311870575, 519.8985209465027])"
      ]
     },
     "execution_count": 22,
     "metadata": {},
     "output_type": "execute_result"
    }
   ],
   "source": [
    "lnp_nospl_time, lnln_nospl_time"
   ]
  },
  {
   "cell_type": "code",
   "execution_count": 23,
   "metadata": {},
   "outputs": [],
   "source": [
    "lnp_nospl_best = lnp_nospl[np.argmax(lnp_nospl_metric)]\n",
    "lnln_nospl_best = lnln_nospl[np.argmax(lnln_nospl_metric)]"
   ]
  },
  {
   "cell_type": "code",
   "execution_count": 24,
   "metadata": {},
   "outputs": [],
   "source": [
    "def plot_vanilla(lnp0, lnln0, dt=None, shift=None, title=None, response_type='spike', len_time=1, contour=None, figsize=None):\n",
    "    \n",
    "    from rfest.utils import get_spatial_and_temporal_filters\n",
    "    import matplotlib.gridspec as gridspec\n",
    "    import warnings\n",
    "    warnings.filterwarnings(\"ignore\")\n",
    "    \n",
    "    dims = lnln0.dims\n",
    "    dt = lnln0.dt if dt is None else dt\n",
    "    shift = 0 if shift is None else -shift\n",
    "    t_tRF = np.linspace(-(dims[0]-shift)*dt, shift*dt, dims[0]+1)[1:]\n",
    "\n",
    "    fig = plt.figure(figsize=figsize) if figsize is not None else (12,4)\n",
    "    \n",
    "    for counter, (lnp, lnln) in enumerate([(lnp0, lnln0)]):\n",
    "        \n",
    "        (idx0, idx1) = (0, 1) if counter == 0 else (2, 3)\n",
    "\n",
    "#         ws = uvec(lnln.w_opt)\n",
    "        ws = lnln.w_opt\n",
    "        num_subunits = ws.shape[1]\n",
    "\n",
    "        sRFs_max = []\n",
    "        sRFs_min = []\n",
    "        tRFs = []\n",
    "        for i in range(num_subunits):\n",
    "            w = ws[:, i].reshape(dims)\n",
    "            sRF, tRF = get_spatial_and_temporal_filters(w, dims)\n",
    "\n",
    "            ref = [sRF[2:, 2:].max(), sRF[2:, 2:].min()][np.argmax([np.abs(sRF.max()), np.abs(sRF.min())])]\n",
    "            max_coord = np.where(sRF == ref)\n",
    "            tRF = w[:, max_coord[0], max_coord[1]].flatten()\n",
    "            tRF_max = np.argmax(tRF)\n",
    "            sRF_max = w[tRF_max]\n",
    "            sRFs_max.append(sRF_max)\n",
    "            tRF_min = np.argmin(tRF)\n",
    "            sRF_min = w[tRF_min]\n",
    "            sRFs_min.append(sRF_min)\n",
    "            tRFs.append(tRF)\n",
    "\n",
    "        sRFs_max = np.stack(sRFs_max)\n",
    "        sRFs_min = np.stack(sRFs_min)\n",
    "\n",
    "        vmax = np.max([np.abs(sRFs_max.max()), np.abs(sRFs_max.min()), np.abs(sRFs_min.max()), np.abs(sRFs_min.min())])\n",
    "\n",
    "        ncols = num_subunits\n",
    "        ncols += 2 # add lnp\n",
    "        nrows = 4\n",
    "\n",
    "        spec = gridspec.GridSpec(ncols=ncols, nrows=nrows, figure=fig)  \n",
    "        axs = []\n",
    "        ax_sRF_mins= []\n",
    "        ax_sRF_maxs = []    \n",
    "\n",
    "        # LNP\n",
    "        w_lnp = lnp.w_opt.reshape(dims)\n",
    "        vmax_lnp = np.max([np.abs(w_lnp.max()), np.abs(w_lnp.min())])\n",
    "        sRF_lnp, tRF_lnp = get_spatial_and_temporal_filters(w_lnp, dims)\n",
    "        ref = [sRF_lnp[2:, 2:].max(), sRF_lnp[2:, 2:].min()][np.argmax([np.abs(sRF_lnp.max()), np.abs(sRF_lnp.min())])]\n",
    "        max_coord = np.where(sRF_lnp == ref)\n",
    "        tRF_lnp = w_lnp[:, max_coord[0], max_coord[1]].flatten()\n",
    "        tRF_max = np.argmax(tRF_lnp)\n",
    "        sRF_max = w_lnp[tRF_max]\n",
    "        tRF_min = np.argmin(tRF_lnp)\n",
    "        sRF_min = w_lnp[tRF_min]\n",
    "\n",
    "        ax_sRF_min = fig.add_subplot(spec[idx0, 0])       \n",
    "        ax_sRF_min.imshow(sRF_min, cmap=plt.cm.bwr, vmax=vmax_lnp, vmin=-vmax_lnp, aspect='auto')\n",
    "        ax_sRF_min.set_xticks([])\n",
    "        ax_sRF_min.set_yticks([])\n",
    "        if counter == 0:\n",
    "            ax_sRF_min.set_title(f'LNP')\n",
    "\n",
    "        if counter == 0:\n",
    "            ax_sRF_min.set_ylabel('No Spline')\n",
    "        else:\n",
    "            ax_sRF_min.set_ylabel('Spline')\n",
    "            \n",
    "        ax_sRF_mins.append(ax_sRF_min)\n",
    "        \n",
    "        ax_tRF = fig.add_subplot(spec[idx1, 0])       \n",
    "        ax_tRF.plot(t_tRF, tRF_lnp, color='black')\n",
    "        ax_tRF.spines['top'].set_visible(False)\n",
    "        ax_tRF.spines['right'].set_visible(False)\n",
    "#         ax_tRF.set_yticks([])\n",
    "        ax_tRF.set_xticks([])\n",
    "#         tRF_max = np.argmax(tRFs[i])\n",
    "        tRF_min = np.argmin(tRF_lnp)\n",
    "#         ax_tRF.axvline(t_tRF[tRF_max], color='C3', linestyle='--', alpha=0.6)\n",
    "        ax_tRF.axvline(t_tRF[tRF_min], color='C0', linestyle='--', alpha=0.6)\n",
    "    \n",
    "        vmax_tRF = np.max([np.abs(w_lnp.min()), np.abs(w_lnp.max()), np.abs(ws.min()), np.abs(ws.max())])\n",
    "        ax_tRF.set_ylim(-vmax_tRF, vmax_tRF)\n",
    "        # LNLN subunits\n",
    "\n",
    "        for i in range(num_subunits):\n",
    "            ax_sRF_min = fig.add_subplot(spec[idx0, i+1])       \n",
    "            ax_sRF_min.imshow(sRFs_min[i], cmap=plt.cm.bwr, vmax=vmax, vmin=-vmax, aspect='auto')\n",
    "            ax_sRF_min.set_xticks([])\n",
    "            ax_sRF_min.set_yticks([])\n",
    "            if i == 0 and counter == 0:\n",
    "                ax_sRF_min.set_title(f'LNLN')\n",
    "\n",
    "            ax_sRF_mins.append(ax_sRF_min)\n",
    "            \n",
    "            ax_tRF = fig.add_subplot(spec[idx1, i+1])       \n",
    "            ax_tRF.plot(t_tRF, tRFs[i], color='black')\n",
    "            ax_tRF.spines['top'].set_visible(False)\n",
    "            ax_tRF.spines['right'].set_visible(False)\n",
    "            ax_tRF.set_yticks([]) \n",
    "            ax_tRF.set_xticks([])\n",
    "    #         tRF_max = np.argmax(tRFs[i])\n",
    "            tRF_min = np.argmin(tRFs[i])\n",
    "        \n",
    "    #         ax_tRF.axvline(t_tRF[tRF_max], color='C3', linestyle='--', alpha=0.6)\n",
    "            ax_tRF.axvline(t_tRF[tRF_min], color='C0', linestyle='--', alpha=0.6)\n",
    "            ax_tRF.set_ylim(-vmax_tRF, vmax_tRF)\n",
    "#             ax_tRF.set_ylim(-0.1, 0.1)\n",
    "\n",
    "\n",
    "        if contour is not None and counter == 1: # then plot contour\n",
    "\n",
    "            for i in range(num_subunits+1):\n",
    "\n",
    "                color_min = 'black' if i == 0 else 'lightsteelblue'\n",
    "                color_max = 'black' if i == 0 else 'lightcoral'\n",
    "\n",
    "                ax_sRF_mins[i].contour(sRF_min, levels=[-contour], colors=[color_min], linestyles=['-'], alpha=1)\n",
    "\n",
    "                for j in range(num_subunits):\n",
    "                    if i-1 != j:\n",
    "                        color = 'grey'\n",
    "                        alpha = 0.5\n",
    "                        style = '--'                    \n",
    "                    else:\n",
    "                        color = 'black'\n",
    "                        alpha = 1\n",
    "                        style = '--'\n",
    "                    ax_sRF_mins[i].contour(sRFs_min[j], levels=[-contour], colors=[color], linestyles=[style], alpha=alpha)\n",
    "            \n",
    "    plt.subplots_adjust(wspace=0.5)\n",
    "\n",
    "\n",
    "\n",
    "\n"
   ]
  },
  {
   "cell_type": "code",
   "execution_count": 25,
   "metadata": {},
   "outputs": [
    {
     "data": {
      "image/png": "[encoded data removed]",
      "text/plain": [
       "<Figure size 864x504 with 10 Axes>"
      ]
     },
     "metadata": {
      "needs_background": "light"
     },
     "output_type": "display_data"
    }
   ],
   "source": [
    "plot_vanilla(lnp_nospl_best, lnln_nospl_best, figsize=(12, 3.5*2))\n",
    "plt.savefig('figs/Figure8a1.pdf')"
   ]
  },
  {
   "cell_type": "code",
   "execution_count": 26,
   "metadata": {},
   "outputs": [],
   "source": [
    "div = int(X_test.shape[0]/4)\n",
    "cc_test_vanilla = np.array([[m.score(X_test[i*div:(i+1)*div], y_test[i*div:(i+1)*div]) for m in [lnp_nospl_best, lnln_nospl_best]] for i in range(4)])"
   ]
  },
  {
   "cell_type": "code",
   "execution_count": 27,
   "metadata": {},
   "outputs": [
    {
     "data": {
      "text/plain": [
       "array([[0.15835939, 0.18905382],\n",
       "       [0.18182629, 0.19020814],\n",
       "       [0.13541479, 0.1838887 ],\n",
       "       [0.14027695, 0.16000965]])"
      ]
     },
     "execution_count": 27,
     "metadata": {},
     "output_type": "execute_result"
    }
   ],
   "source": [
    "cc_test_vanilla"
   ]
  },
  {
   "cell_type": "markdown",
   "metadata": {},
   "source": [
    "### Select intial degrees of freedom based on cross-validated MLE prediction"
   ]
  },
  {
   "cell_type": "code",
   "execution_count": 3,
   "metadata": {},
   "outputs": [
    {
     "name": "stdout",
     "output_type": "stream",
     "text": [
      "SUMMARY\n",
      "               N    Minutes   Fraction\n",
      "Total      36364       20.0        1.0\n",
      "Train      18182       10.0        0.5\n",
      "Dev         3636        2.0        0.1\n",
      "Test       14546        8.0        0.4\n"
     ]
    }
   ],
   "source": [
    "dims = [20, 25, 25]\n",
    "dt = 0.033\n",
    "num_subunits = 4\n",
    "\n",
    "n_samples = get_n_samples(20, dt) # 20 mins of the full dataset\n",
    "\n",
    "X = data_liu['train']['X'][:n_samples]\n",
    "y = data_liu['train']['y'][:n_samples]\n",
    "# X = build_design_matrix(X[:n_samples], dims[0])\n",
    "# y = y[:n_samples]\n",
    "\n",
    "(X_train, y_train), (X_dev, y_dev), (X_test, y_test) = split_data(X, y, dt, frac_train=0.5, frac_dev=0.1)\n"
   ]
  },
  {
   "cell_type": "code",
   "execution_count": 4,
   "metadata": {},
   "outputs": [],
   "source": [
    "def build_model(df):\n",
    "    \n",
    "    m = GLM(distr='poisson', output_nonlinearity='softplus')\n",
    "    m.add_design_matrix(X_train, dims=dims, df=df, smooth='cr', filter_nonlinearity='softplus', name='stimulus') # light stimulus\n",
    "    m.add_design_matrix(X_dev, dims=dims, name='stimulus', kind='dev')\n",
    "    m.initialize({'train': y_train, 'dev': y_dev}, num_subunits=1, dt=dt, method='mle', random_seed=2046)\n",
    "    \n",
    "    return m"
   ]
  },
  {
   "cell_type": "code",
   "execution_count": 51,
   "metadata": {},
   "outputs": [
    {
     "data": {
      "text/plain": [
       "(array([6., 8., 8.]), array([13., 16., 16.]))"
      ]
     },
     "execution_count": 51,
     "metadata": {},
     "output_type": "execute_result"
    }
   ],
   "source": [
    "np.floor(np.array(dims) * 1 / 3), np.floor(np.array(dims) * 2 / 3), "
   ]
  },
  {
   "cell_type": "code",
   "execution_count": 52,
   "metadata": {},
   "outputs": [
    {
     "name": "stdout",
     "output_type": "stream",
     "text": [
      "{'df': [6, 8, 8], 'metric': 0.18143803160391578, 'time': 3.719245195388794}\n",
      "{'df': [6, 9, 9], 'metric': 0.1856284297205215, 'time': 3.647449016571045}\n",
      "{'df': [6, 10, 10], 'metric': 0.1733050440597021, 'time': 3.8185958862304688}\n",
      "{'df': [6, 11, 11], 'metric': 0.18284391187676438, 'time': 4.297021865844727}\n",
      "{'df': [6, 12, 12], 'metric': 0.18406338039236494, 'time': 4.833588123321533}\n",
      "{'df': [6, 13, 13], 'metric': 0.182405435723783, 'time': 5.435270071029663}\n",
      "{'df': [6, 14, 14], 'metric': 0.17522939432642728, 'time': 6.66328763961792}\n",
      "{'df': [6, 15, 15], 'metric': 0.1701497297324601, 'time': 7.976320028305054}\n",
      "{'df': [6, 16, 16], 'metric': 0.1614481334127242, 'time': 8.995028018951416}\n",
      "{'df': [7, 8, 8], 'metric': 0.16755941309591751, 'time': 3.0943212509155273}\n",
      "{'df': [7, 9, 9], 'metric': 0.1734275445237841, 'time': 3.6099400520324707}\n",
      "{'df': [7, 10, 10], 'metric': 0.16198689373195163, 'time': 4.1232008934021}\n",
      "{'df': [7, 11, 11], 'metric': 0.16299988709196966, 'time': 4.68812894821167}\n",
      "{'df': [7, 12, 12], 'metric': 0.16461885632642267, 'time': 5.522404909133911}\n",
      "{'df': [7, 13, 13], 'metric': 0.16333279434678138, 'time': 6.297457933425903}\n",
      "{'df': [7, 14, 14], 'metric': 0.1539410365505245, 'time': 7.31496000289917}\n",
      "{'df': [7, 15, 15], 'metric': 0.14709527360350821, 'time': 9.211827278137207}\n",
      "{'df': [7, 16, 16], 'metric': 0.14002706714979107, 'time': 11.540584087371826}\n",
      "{'df': [8, 8, 8], 'metric': 0.2093484923701701, 'time': 3.729957103729248}\n",
      "{'df': [8, 9, 9], 'metric': 0.21397825717477356, 'time': 4.170114040374756}\n",
      "{'df': [8, 10, 10], 'metric': 0.20393069671893788, 'time': 4.5888588428497314}\n",
      "{'df': [8, 11, 11], 'metric': 0.20209562919131005, 'time': 5.5200278759002686}\n",
      "{'df': [8, 12, 12], 'metric': 0.20181257033386216, 'time': 6.537121057510376}\n",
      "{'df': [8, 13, 13], 'metric': 0.20428477578880075, 'time': 7.802543878555298}\n",
      "{'df': [8, 14, 14], 'metric': 0.1905178437973132, 'time': 9.425034999847412}\n",
      "{'df': [8, 15, 15], 'metric': 0.18581131313244112, 'time': 11.900304794311523}\n",
      "{'df': [8, 16, 16], 'metric': 0.17784855993366983, 'time': 13.7451913356781}\n",
      "{'df': [9, 8, 8], 'metric': 0.21191878694336153, 'time': 3.8121862411499023}\n",
      "{'df': [9, 9, 9], 'metric': 0.21889940427558532, 'time': 4.4088709354400635}\n",
      "{'df': [9, 10, 10], 'metric': 0.2061589655781844, 'time': 4.984073877334595}\n",
      "{'df': [9, 11, 11], 'metric': 0.20471539178849849, 'time': 6.131826877593994}\n",
      "{'df': [9, 12, 12], 'metric': 0.20415333351720294, 'time': 7.353460073471069}\n",
      "{'df': [9, 13, 13], 'metric': 0.20187444114754205, 'time': 8.9530770778656}\n",
      "{'df': [9, 14, 14], 'metric': 0.18568582462781685, 'time': 10.75348687171936}\n",
      "{'df': [9, 15, 15], 'metric': 0.18542796932419794, 'time': 13.816200017929077}\n",
      "{'df': [9, 16, 16], 'metric': 0.17627244065215505, 'time': 16.532928943634033}\n",
      "{'df': [10, 8, 8], 'metric': 0.20229926491024838, 'time': 4.194628000259399}\n",
      "{'df': [10, 9, 9], 'metric': 0.20738198758165483, 'time': 4.647844076156616}\n",
      "{'df': [10, 10, 10], 'metric': 0.19687453158430326, 'time': 5.588399887084961}\n",
      "{'df': [10, 11, 11], 'metric': 0.19079771449093563, 'time': 6.912826061248779}\n",
      "{'df': [10, 12, 12], 'metric': 0.18863617050713535, 'time': 8.385733842849731}\n",
      "{'df': [10, 13, 13], 'metric': 0.19041655698293006, 'time': 10.319409847259521}\n",
      "{'df': [10, 14, 14], 'metric': 0.17600337196662083, 'time': 12.514729022979736}\n",
      "{'df': [10, 15, 15], 'metric': 0.172244790574135, 'time': 15.219356060028076}\n",
      "{'df': [10, 16, 16], 'metric': 0.16794236236387847, 'time': 19.44999408721924}\n",
      "{'df': [11, 8, 8], 'metric': 0.19774891140548798, 'time': 4.436383008956909}\n",
      "{'df': [11, 9, 9], 'metric': 0.2017726310874746, 'time': 5.03019905090332}\n",
      "{'df': [11, 10, 10], 'metric': 0.19233765031025402, 'time': 6.386337995529175}\n",
      "{'df': [11, 11, 11], 'metric': 0.1876770855955209, 'time': 7.733875036239624}\n",
      "{'df': [11, 12, 12], 'metric': 0.18568866560577396, 'time': 9.5919668674469}\n",
      "{'df': [11, 13, 13], 'metric': 0.1874005702244099, 'time': 11.64268708229065}\n",
      "{'df': [11, 14, 14], 'metric': 0.17762679292496034, 'time': 14.272691011428833}\n",
      "{'df': [11, 15, 15], 'metric': 0.174275464554798, 'time': 18.35370969772339}\n",
      "{'df': [11, 16, 16], 'metric': 0.17087831629304984, 'time': 22.00900912284851}\n",
      "{'df': [12, 8, 8], 'metric': 0.19876999208873983, 'time': 4.876678943634033}\n",
      "{'df': [12, 9, 9], 'metric': 0.20219908728639116, 'time': 5.618131399154663}\n",
      "{'df': [12, 10, 10], 'metric': 0.19323214282571813, 'time': 6.81086802482605}\n",
      "{'df': [12, 11, 11], 'metric': 0.18476040176217426, 'time': 8.644373893737793}\n",
      "{'df': [12, 12, 12], 'metric': 0.18349833898039958, 'time': 11.19173789024353}\n",
      "{'df': [12, 13, 13], 'metric': 0.18527947830674266, 'time': 14.43343997001648}\n",
      "{'df': [12, 14, 14], 'metric': 0.1721836048891703, 'time': 17.497385025024414}\n",
      "{'df': [12, 15, 15], 'metric': 0.17167228034538434, 'time': 20.812263011932373}\n",
      "{'df': [12, 16, 16], 'metric': 0.1689677540329881, 'time': 25.868698120117188}\n",
      "{'df': [13, 8, 8], 'metric': 0.2069022018071745, 'time': 4.9645421504974365}\n",
      "{'df': [13, 9, 9], 'metric': 0.20981157678266288, 'time': 5.9745261669158936}\n",
      "{'df': [13, 10, 10], 'metric': 0.1993732382134946, 'time': 7.467007160186768}\n",
      "{'df': [13, 11, 11], 'metric': 0.1876934672369338, 'time': 9.561047792434692}\n",
      "{'df': [13, 12, 12], 'metric': 0.18442992198705277, 'time': 11.824946403503418}\n",
      "{'df': [13, 13, 13], 'metric': 0.18554513290497807, 'time': 14.828489065170288}\n",
      "{'df': [13, 14, 14], 'metric': 0.17279910664696863, 'time': 18.785260915756226}\n",
      "{'df': [13, 15, 15], 'metric': 0.16889096414416982, 'time': 23.56811785697937}\n",
      "{'df': [13, 16, 16], 'metric': 0.16173380553906455, 'time': 28.229371786117554}\n"
     ]
    }
   ],
   "source": [
    "import time\n",
    "dfts = np.arange(6, 13+1, 1)\n",
    "dfss = np.arange(8, 16+1, 1)\n",
    "\n",
    "ms = []\n",
    "results = {}\n",
    "heatmap_ = np.zeros([len(dfts), len(dfss)])\n",
    "\n",
    "i = 0\n",
    "for ii, dft in enumerate(dfts):\n",
    "    for jj, dfs in enumerate(dfss):\n",
    "        df = [dft, dfs, dfs]\n",
    "        time_start= time.time()\n",
    "        m = build_model(df)\n",
    "        time_elapsed = time.time() - time_start\n",
    "        metric_dev = m._score(m.y['dev'], m.forwardpass(m.p['mle'], 'dev'), 'corrcoef')\n",
    "        results[i] = {'df': df, 'metric': metric_dev, 'time': time_elapsed}\n",
    "        \n",
    "        heatmap[ii, jj] = metric_dev\n",
    "\n",
    "        print(results[i])\n",
    "        i+= 1"
   ]
  },
  {
   "cell_type": "code",
   "execution_count": 63,
   "metadata": {},
   "outputs": [
    {
     "data": {
      "image/png": "[encoded data removed]",
      "text/plain": [
       "<Figure size 576x576 with 2 Axes>"
      ]
     },
     "metadata": {
      "needs_background": "light"
     },
     "output_type": "display_data"
    }
   ],
   "source": [
    "max_y, max_x = np.where(heatmap.max() == heatmap)\n",
    "fig, ax = plt.subplots(figsize=(8,8))\n",
    "cbar = ax.imshow(heatmap[:, :-1], cmap=plt.cm.Blues, origin='lower')\n",
    "ax.set_xticks(np.arange(-0, len(dfss), 1))\n",
    "ax.set_xticklabels(np.hstack([dfss, 16]), fontsize=14)\n",
    "ax.set_yticklabels(np.hstack([0, dfts, 14]), fontsize=14)\n",
    "ax.scatter(max_x, max_y, color='red', marker='x', s=80)\n",
    "ax.set_xlabel('$df$ for Spatial Dimenstion', fontsize=18)\n",
    "ax.set_ylabel('$df$ for Temporal Dimenstion', fontsize=18)\n",
    "fig.colorbar(cbar,fraction=0.041, pad=0.04)\n",
    "ax.set_title('Data set (1)', fontsize=20)\n",
    "# cbar.set_label('CV performance')\n",
    "fig.savefig('figs/Figure_CV_a.pdf')"
   ]
  },
  {
   "cell_type": "code",
   "execution_count": 54,
   "metadata": {},
   "outputs": [
    {
     "data": {
      "text/plain": [
       "11.27667602300644"
      ]
     },
     "execution_count": 54,
     "metadata": {},
     "output_type": "execute_result"
    }
   ],
   "source": [
    "np.sum([results[i]['time'] for i in range(len(results))]) / 60"
   ]
  },
  {
   "cell_type": "code",
   "execution_count": 46,
   "metadata": {},
   "outputs": [
    {
     "name": "stdout",
     "output_type": "stream",
     "text": [
      "Iters\t  Time (s)\tCost (train)\tCost (dev)\tcorrcoef (train)\tcorrcoef (dev)\n",
      "    0\t     1.098\t 20850.290\t  3921.579\t     0.225\t     0.194\n",
      "  100\t     3.812\t  3874.952\t   730.284\t     0.577\t     0.412\n",
      "  200\t     6.522\t  3753.043\t   705.842\t     0.577\t     0.434\n",
      "  300\t     9.216\t  3740.650\t   704.687\t     0.575\t     0.435\n",
      "  400\t    12.754\t  3739.570\t   705.042\t     0.574\t     0.435\n",
      "Stop at 483 steps: cost (dev) has been monotonically increasing for 10 steps.\n",
      "\n",
      "0.5 0.4366116149134391\n",
      "Iters\t  Time (s)\tCost (train)\tCost (dev)\tcorrcoef (train)\tcorrcoef (dev)\n",
      "    0\t     0.984\t 20859.371\t  3921.482\t     0.229\t     0.196\n",
      "  100\t     3.688\t  3928.623\t   725.220\t     0.570\t     0.424\n",
      "  200\t     6.354\t  3811.088\t   700.778\t     0.570\t     0.443\n",
      "  300\t     9.017\t  3799.846\t   698.878\t     0.568\t     0.445\n",
      "  400\t    12.550\t  3798.980\t   699.565\t     0.567\t     0.443\n",
      "Stop at 423 steps: cost (dev) has been monotonically increasing for 10 steps.\n",
      "\n",
      "0.6 0.4454759204976407\n",
      "Iters\t  Time (s)\tCost (train)\tCost (dev)\tcorrcoef (train)\tcorrcoef (dev)\n",
      "    0\t     0.987\t 20868.452\t  3921.065\t     0.228\t     0.199\n",
      "  100\t     3.647\t  3977.194\t   721.316\t     0.563\t     0.436\n",
      "  200\t     6.346\t  3863.677\t   696.887\t     0.564\t     0.451\n",
      "  300\t     8.984\t  3853.301\t   694.679\t     0.562\t     0.452\n",
      "  400\t    12.465\t  3852.608\t   694.753\t     0.561\t     0.451\n",
      "Stop at 490 steps: cost (dev) has been monotonically increasing for 10 steps.\n",
      "\n",
      "0.7 0.4521040521592953\n",
      "Iters\t  Time (s)\tCost (train)\tCost (dev)\tcorrcoef (train)\tcorrcoef (dev)\n",
      "    0\t     0.958\t 20877.533\t  3922.549\t     0.229\t     0.200\n",
      "  100\t     3.626\t  4020.985\t   718.739\t     0.556\t     0.444\n",
      "  200\t     6.295\t  3911.901\t   693.886\t     0.557\t     0.458\n",
      "  300\t     8.949\t  3901.872\t   691.663\t     0.555\t     0.458\n",
      "  400\t    12.463\t  3901.347\t   691.226\t     0.554\t     0.458\n",
      "  500\t    15.976\t  3901.488\t   691.174\t     0.554\t     0.458\n",
      "  600\t    19.482\t  3901.515\t   691.482\t     0.554\t     0.457\n",
      "  700\t    23.015\t  3901.466\t   691.586\t     0.554\t     0.457\n",
      "  800\t    26.527\t  3901.488\t   691.776\t     0.554\t     0.457\n",
      "  900\t    30.071\t  3901.441\t   691.594\t     0.554\t     0.458\n",
      " 1000\t    33.551\t  3901.338\t   692.102\t     0.554\t     0.456\n",
      " 1100\t    37.108\t  3901.485\t   691.683\t     0.554\t     0.457\n",
      " 1200\t    40.613\t  3901.316\t   691.633\t     0.554\t     0.457\n",
      "Stop at 1288 steps: cost (dev) has been monotonically increasing for 10 steps.\n",
      "\n",
      "0.7999999999999999 0.45920619935062057\n",
      "Iters\t  Time (s)\tCost (train)\tCost (dev)\tcorrcoef (train)\tcorrcoef (dev)\n",
      "    0\t     1.062\t 20886.614\t  3923.062\t     0.231\t     0.205\n",
      "  100\t     3.758\t  4061.633\t   716.831\t     0.550\t     0.451\n",
      "  200\t     6.497\t  3955.718\t   691.499\t     0.550\t     0.463\n",
      "  300\t     9.227\t  3946.281\t   689.397\t     0.549\t     0.463\n",
      "  400\t    12.744\t  3945.403\t   689.322\t     0.548\t     0.462\n",
      "  500\t    16.279\t  3945.763\t   688.705\t     0.548\t     0.463\n",
      "Stop at 532 steps: cost (dev) has been monotonically increasing for 10 steps.\n",
      "\n",
      "0.8999999999999999 0.4639190146637708\n",
      "Iters\t  Time (s)\tCost (train)\tCost (dev)\tcorrcoef (train)\tcorrcoef (dev)\n",
      "    0\t     1.072\t 20895.696\t  3921.910\t     0.232\t     0.208\n",
      "  100\t     3.804\t  4098.938\t   716.556\t     0.544\t     0.454\n",
      "  200\t     6.532\t  3995.141\t   690.141\t     0.544\t     0.468\n",
      "  300\t     9.243\t  3986.949\t   687.157\t     0.543\t     0.468\n",
      "  400\t    12.823\t  3986.115\t   687.305\t     0.542\t     0.466\n",
      "Stop at 487 steps: cost (dev) has been monotonically increasing for 10 steps.\n",
      "\n",
      "0.9999999999999999 0.46839424733446383\n",
      "Iters\t  Time (s)\tCost (train)\tCost (dev)\tcorrcoef (train)\tcorrcoef (dev)\n",
      "    0\t     1.043\t 20904.777\t  3922.859\t     0.230\t     0.215\n",
      "  100\t     3.743\t  4133.091\t   715.971\t     0.539\t     0.458\n",
      "  200\t     6.454\t  4031.911\t   689.771\t     0.539\t     0.469\n",
      "  300\t     9.182\t  4024.047\t   686.927\t     0.537\t     0.469\n",
      "  400\t    12.753\t  4023.866\t   686.247\t     0.537\t     0.469\n",
      "Stop at 421 steps: cost (dev) has been monotonically increasing for 10 steps.\n",
      "\n",
      "1.0999999999999999 0.46981201703587894\n",
      "Iters\t  Time (s)\tCost (train)\tCost (dev)\tcorrcoef (train)\tcorrcoef (dev)\n",
      "    0\t     1.039\t 20913.858\t  3922.521\t     0.230\t     0.213\n",
      "  100\t     3.783\t  4165.225\t   716.760\t     0.532\t     0.459\n",
      "  200\t     6.527\t  4066.510\t   690.088\t     0.533\t     0.470\n",
      "  300\t     9.236\t  4060.383\t   686.643\t     0.533\t     0.469\n",
      "  400\t    12.746\t  4059.111\t   686.391\t     0.532\t     0.469\n",
      "  500\t    16.281\t  4058.723\t   686.194\t     0.531\t     0.469\n",
      "  600\t    19.816\t  4059.002\t   686.240\t     0.531\t     0.469\n",
      "  700\t    23.388\t  4058.969\t   686.398\t     0.531\t     0.469\n",
      "  800\t    26.900\t  4059.193\t   685.875\t     0.532\t     0.470\n",
      "  900\t    30.514\t  4059.408\t   686.078\t     0.531\t     0.469\n",
      " 1000\t    34.050\t  4059.229\t   686.373\t     0.531\t     0.469\n",
      "Stop at 1090 steps: cost (dev) has been monotonically increasing for 10 steps.\n",
      "\n",
      "1.1999999999999997 0.47071642375777706\n",
      "Iters\t  Time (s)\tCost (train)\tCost (dev)\tcorrcoef (train)\tcorrcoef (dev)\n",
      "    0\t     1.085\t 20922.939\t  3922.602\t     0.230\t     0.214\n",
      "  100\t     3.843\t  4195.308\t   716.812\t     0.528\t     0.461\n",
      "  200\t     6.591\t  4099.433\t   689.754\t     0.529\t     0.470\n",
      "  300\t     9.313\t  4091.992\t   686.742\t     0.527\t     0.468\n",
      "  400\t    12.915\t  4091.921\t   686.597\t     0.527\t     0.467\n",
      "  500\t    16.523\t  4092.084\t   686.395\t     0.526\t     0.467\n",
      "  600\t    20.131\t  4091.801\t   686.240\t     0.527\t     0.468\n",
      "  700\t    23.749\t  4092.257\t   686.114\t     0.527\t     0.468\n",
      "  800\t    27.344\t  4092.071\t   686.292\t     0.527\t     0.468\n",
      "  900\t    30.981\t  4091.914\t   686.512\t     0.526\t     0.467\n",
      " 1000\t    34.576\t  4092.288\t   686.103\t     0.527\t     0.468\n",
      " 1100\t    38.160\t  4091.963\t   686.323\t     0.526\t     0.467\n",
      " 1200\t    41.723\t  4092.322\t   685.954\t     0.526\t     0.468\n",
      " 1300\t    45.267\t  4092.262\t   685.979\t     0.527\t     0.468\n",
      " 1400\t    48.817\t  4092.409\t   686.669\t     0.526\t     0.467\n",
      "Stop: reached 1500 steps.\n",
      "\n",
      "1.2999999999999998 0.46870771669511313\n"
     ]
    }
   ],
   "source": [
    "ms_lnpspl = []\n",
    "mdev_lnpspl = []\n",
    "lnp_spl_time = []\n",
    "\n",
    "for beta in np.arange(0.5 , 1.5, .1):\n",
    "    \n",
    "    lnp_spl = GLM(distr='poisson', output_nonlinearity='softplus')\n",
    "    lnp_spl.add_design_matrix(X_train, dims=dims, df=df, smooth='cr', filter_nonlinearity='softplus', name='stimulus') # light stimulus\n",
    "    lnp_spl.add_design_matrix(X_dev, name='stimulus', kind='dev')\n",
    "    lnp_spl.initialize({'train': y_train, 'dev': y_dev}, num_subunits=1, dt=dt, method='mle', random_seed=2046)\n",
    "    lnp_spl.fit(num_iters=1500, verbose=100, step_size=0.1, beta=beta)\n",
    "    mdev_lnpspl.append(lnp_spl.metric_dev_opt)\n",
    "    ms_lnpspl.append(lnp_spl)\n",
    "    lnp_spl_time.append(lnp_spl.total_time_elapsed)\n",
    "    print(beta, mdev_lnpspl[-1])\n",
    "    plt.show()\n",
    "    \n",
    "    if (np.diff(mdev_lnpspl) > 0).all():\n",
    "        continue\n",
    "    else:\n",
    "        break"
   ]
  },
  {
   "cell_type": "code",
   "execution_count": 47,
   "metadata": {},
   "outputs": [
    {
     "data": {
      "text/plain": [
       "[<matplotlib.lines.Line2D at 0x7fae4586bcd0>]"
      ]
     },
     "execution_count": 47,
     "metadata": {},
     "output_type": "execute_result"
    },
    {
     "data": {
      "image/png": "[encoded data removed]",
      "text/plain": [
       "<Figure size 432x288 with 1 Axes>"
      ]
     },
     "metadata": {
      "needs_background": "light"
     },
     "output_type": "display_data"
    }
   ],
   "source": [
    "plt.plot(mdev_lnpspl)"
   ]
  },
  {
   "cell_type": "code",
   "execution_count": 18,
   "metadata": {},
   "outputs": [],
   "source": [
    "lnp_nospl_time=[104.5505268573761,\n",
    "  115.39463996887207,\n",
    "  169.75662994384766,\n",
    "  141.78203105926514,\n",
    "  127.1850848197937,\n",
    "  137.11924695968628],\n",
    "lnln_nospl_time=[114.11864280700684, 147.1355311870575, 519.8985209465027]"
   ]
  },
  {
   "cell_type": "code",
   "execution_count": 48,
   "metadata": {},
   "outputs": [
    {
     "data": {
      "text/plain": [
       "array([15.67818189, 13.3658917 , 15.61581421, 43.72547483, 17.40795183,\n",
       "       15.91633487, 13.512429  , 37.30452514, 52.34313321])"
      ]
     },
     "execution_count": 48,
     "metadata": {},
     "output_type": "execute_result"
    }
   ],
   "source": [
    "np.array(lnp_spl_time)"
   ]
  },
  {
   "cell_type": "code",
   "execution_count": 49,
   "metadata": {},
   "outputs": [
    {
     "data": {
      "text/plain": [
       "array([ 49.38274264,  44.96216083, 144.36834979,  78.61284208,\n",
       "        81.35455799, 131.46786118,  67.52511096])"
      ]
     },
     "execution_count": 49,
     "metadata": {},
     "output_type": "execute_result"
    }
   ],
   "source": [
    "np.array(lnln_spl_time)"
   ]
  },
  {
   "cell_type": "code",
   "execution_count": 50,
   "metadata": {},
   "outputs": [
    {
     "data": {
      "text/plain": [
       "{'whiskers': [<matplotlib.lines.Line2D at 0x7fa62f71c310>,\n",
       "  <matplotlib.lines.Line2D at 0x7fa62f724510>,\n",
       "  <matplotlib.lines.Line2D at 0x7fa62f723110>,\n",
       "  <matplotlib.lines.Line2D at 0x7fa62f742f90>,\n",
       "  <matplotlib.lines.Line2D at 0x7fa62f723c50>,\n",
       "  <matplotlib.lines.Line2D at 0x7fa5c04474d0>,\n",
       "  <matplotlib.lines.Line2D at 0x7fa6304eca10>,\n",
       "  <matplotlib.lines.Line2D at 0x7fa630526c50>],\n",
       " 'caps': [<matplotlib.lines.Line2D at 0x7fa62f73f750>,\n",
       "  <matplotlib.lines.Line2D at 0x7fa62f71c7d0>,\n",
       "  <matplotlib.lines.Line2D at 0x7fa62f723590>,\n",
       "  <matplotlib.lines.Line2D at 0x7fa5c0442d50>,\n",
       "  <matplotlib.lines.Line2D at 0x7fa5c0447990>,\n",
       "  <matplotlib.lines.Line2D at 0x7fa6304cef90>,\n",
       "  <matplotlib.lines.Line2D at 0x7fae45e78c50>,\n",
       "  <matplotlib.lines.Line2D at 0x7fa5be5589d0>],\n",
       " 'boxes': [<matplotlib.lines.Line2D at 0x7fa62f724210>,\n",
       "  <matplotlib.lines.Line2D at 0x7fa62f7440d0>,\n",
       "  <matplotlib.lines.Line2D at 0x7fa5c045a090>,\n",
       "  <matplotlib.lines.Line2D at 0x7fa6304ce210>],\n",
       " 'medians': [<matplotlib.lines.Line2D at 0x7fa62f73fd10>,\n",
       "  <matplotlib.lines.Line2D at 0x7fa5c044b410>,\n",
       "  <matplotlib.lines.Line2D at 0x7fa5c0447550>,\n",
       "  <matplotlib.lines.Line2D at 0x7fae4607c350>],\n",
       " 'fliers': [<matplotlib.lines.Line2D at 0x7fa62f723550>,\n",
       "  <matplotlib.lines.Line2D at 0x7fa62f735a10>,\n",
       "  <matplotlib.lines.Line2D at 0x7fa6304ec810>,\n",
       "  <matplotlib.lines.Line2D at 0x7fa5be558190>],\n",
       " 'means': []}"
      ]
     },
     "execution_count": 50,
     "metadata": {},
     "output_type": "execute_result"
    },
    {
     "data": {
      "image/png": "[encoded data removed]",
      "text/plain": [
       "<Figure size 432x288 with 1 Axes>"
      ]
     },
     "metadata": {
      "needs_background": "light"
     },
     "output_type": "display_data"
    }
   ],
   "source": [
    "plt.boxplot([np.array(lnp_nospl_time), np.array(lnln_nospl_time), np.array(lnp_spl_time), np.array(lnln_spl_time)])"
   ]
  },
  {
   "cell_type": "code",
   "execution_count": 51,
   "metadata": {},
   "outputs": [],
   "source": [
    "lnp_spl = ms_lnpspl[np.argmax(mdev_lnpspl)]\n",
    "lnln_spl = ms_lnlnspl[np.argmax(mdev_lnlnspl)]"
   ]
  },
  {
   "cell_type": "code",
   "execution_count": 26,
   "metadata": {},
   "outputs": [
    {
     "name": "stdout",
     "output_type": "stream",
     "text": [
      "Iters\t  Time (s)\tCost (train)\tCost (dev)\tcorrcoef (train)\tcorrcoef (dev)\n",
      "    0\t     1.259\t 51670.228\t  9972.901\t     0.185\t     0.156\n",
      "  100\t     9.965\t  4189.365\t   783.629\t     0.551\t     0.420\n",
      "  200\t    18.675\t  3697.829\t   711.795\t     0.623\t     0.439\n",
      "  300\t    27.488\t  3535.574\t   692.600\t     0.652\t     0.441\n",
      "  400\t    37.234\t  3471.663\t   687.852\t     0.670\t     0.436\n",
      "  500\t    46.877\t  3432.175\t   686.527\t     0.685\t     0.441\n",
      "Stop at 526 steps: cost (dev) has been monotonically increasing for 10 steps.\n",
      "\n",
      "0.5 0.43733317901174723\n",
      "Iters\t  Time (s)\tCost (train)\tCost (dev)\tcorrcoef (train)\tcorrcoef (dev)\n",
      "    0\t     1.312\t 51706.201\t  9974.141\t     0.187\t     0.156\n",
      "  100\t    10.123\t  4237.636\t   780.707\t     0.543\t     0.428\n",
      "  200\t    18.816\t  3776.416\t   707.735\t     0.608\t     0.447\n",
      "  300\t    27.526\t  3632.227\t   686.729\t     0.631\t     0.454\n",
      "  400\t    37.138\t  3578.663\t   680.121\t     0.646\t     0.457\n",
      "Stop at 481 steps: cost (dev) has been monotonically increasing for 10 steps.\n",
      "\n",
      "0.6 0.4615583746710546\n",
      "Iters\t  Time (s)\tCost (train)\tCost (dev)\tcorrcoef (train)\tcorrcoef (dev)\n",
      "    0\t     1.464\t 51742.174\t  9974.668\t     0.188\t     0.158\n",
      "  100\t    10.162\t  4281.044\t   779.154\t     0.536\t     0.432\n",
      "  200\t    18.874\t  3846.030\t   704.081\t     0.595\t     0.458\n",
      "  300\t    27.615\t  3712.040\t   684.698\t     0.612\t     0.462\n",
      "  400\t    37.246\t  3668.104\t   676.393\t     0.623\t     0.471\n",
      "  500\t    46.893\t  3652.571\t   674.667\t     0.628\t     0.470\n",
      "  600\t    56.590\t  3646.372\t   675.033\t     0.632\t     0.469\n",
      "  700\t    66.229\t  3644.152\t   674.951\t     0.634\t     0.469\n",
      "  800\t    75.910\t  3643.672\t   674.859\t     0.635\t     0.470\n",
      "  900\t    85.863\t  3643.390\t   674.707\t     0.635\t     0.470\n",
      " 1000\t    95.819\t  3643.214\t   675.318\t     0.636\t     0.466\n",
      " 1100\t   105.456\t  3642.857\t   675.413\t     0.635\t     0.468\n",
      " 1200\t   115.127\t  3643.587\t   676.588\t     0.636\t     0.465\n",
      " 1300\t   124.757\t  3643.794\t   674.764\t     0.635\t     0.468\n",
      " 1400\t   134.582\t  3643.445\t   674.657\t     0.636\t     0.468\n",
      "Stop: reached 1500 steps.\n",
      "\n",
      "0.7 0.4727583024434633\n",
      "Iters\t  Time (s)\tCost (train)\tCost (dev)\tcorrcoef (train)\tcorrcoef (dev)\n",
      "    0\t     1.291\t 51778.148\t  9977.182\t     0.189\t     0.159\n",
      "  100\t    10.120\t  4321.404\t   778.218\t     0.529\t     0.435\n",
      "  200\t    18.828\t  3918.210\t   699.595\t     0.577\t     0.465\n",
      "  300\t    27.619\t  3781.144\t   681.324\t     0.598\t     0.470\n",
      "  400\t    37.295\t  3743.009\t   672.282\t     0.607\t     0.476\n",
      "  500\t    46.885\t  3729.831\t   669.517\t     0.611\t     0.479\n",
      "  600\t    56.478\t  3724.890\t   669.100\t     0.614\t     0.478\n",
      "  700\t    66.061\t  3723.469\t   668.255\t     0.616\t     0.480\n",
      "  800\t    75.640\t  3722.709\t   668.688\t     0.616\t     0.479\n",
      "Stop at 831 steps: cost (dev) has been monotonically increasing for 10 steps.\n",
      "\n",
      "0.7999999999999999 0.48042047728540266\n",
      "Iters\t  Time (s)\tCost (train)\tCost (dev)\tcorrcoef (train)\tcorrcoef (dev)\n",
      "    0\t     1.280\t 51814.121\t  9974.573\t     0.190\t     0.160\n",
      "  100\t     9.992\t  4358.956\t   777.903\t     0.523\t     0.436\n",
      "  200\t    18.763\t  3967.374\t   698.344\t     0.569\t     0.468\n",
      "  300\t    27.503\t  3844.656\t   677.384\t     0.585\t     0.475\n",
      "  400\t    37.154\t  3807.765\t   670.430\t     0.592\t     0.480\n",
      "  500\t    46.889\t  3796.864\t   668.967\t     0.597\t     0.477\n",
      "  600\t    56.597\t  3793.022\t   668.069\t     0.599\t     0.478\n",
      "  700\t    66.357\t  3791.794\t   666.235\t     0.600\t     0.480\n",
      "  800\t    76.111\t  3791.642\t   666.459\t     0.601\t     0.479\n",
      "Stop at 854 steps: cost (dev) has been monotonically increasing for 10 steps.\n",
      "\n",
      "0.8999999999999999 0.4818018493800276\n",
      "Iters\t  Time (s)\tCost (train)\tCost (dev)\tcorrcoef (train)\tcorrcoef (dev)\n",
      "    0\t     1.417\t 51850.094\t  9973.878\t     0.191\t     0.162\n",
      "  100\t    10.195\t  4393.545\t   777.782\t     0.516\t     0.437\n",
      "  200\t    20.204\t  4027.599\t   697.980\t     0.558\t     0.471\n",
      "  300\t    29.436\t  3899.193\t   675.326\t     0.574\t     0.478\n",
      "  400\t    39.073\t  3865.653\t   668.129\t     0.580\t     0.481\n",
      "  500\t    49.029\t  3855.763\t   666.063\t     0.584\t     0.482\n",
      "  600\t    58.852\t  3852.573\t   666.163\t     0.586\t     0.479\n",
      "  700\t    68.787\t  3852.364\t   664.843\t     0.587\t     0.482\n",
      "  800\t    78.526\t  3851.667\t   664.684\t     0.588\t     0.482\n",
      "  900\t    88.116\t  3851.279\t   664.179\t     0.588\t     0.482\n",
      " 1000\t    97.755\t  3852.425\t   665.149\t     0.588\t     0.480\n",
      " 1100\t   107.395\t  3852.082\t   664.460\t     0.589\t     0.483\n",
      " 1200\t   116.969\t  3851.987\t   665.026\t     0.588\t     0.479\n",
      " 1300\t   126.697\t  3850.764\t   665.264\t     0.589\t     0.480\n",
      "Stop at 1349 steps: cost (dev) has been monotonically increasing for 10 steps.\n",
      "\n",
      "0.9999999999999999 0.4841393922042191\n",
      "Iters\t  Time (s)\tCost (train)\tCost (dev)\tcorrcoef (train)\tcorrcoef (dev)\n",
      "    0\t     1.249\t 51886.068\t  9976.474\t     0.192\t     0.165\n",
      "  100\t     9.944\t  4425.933\t   778.266\t     0.510\t     0.436\n",
      "  200\t    18.647\t  4072.000\t   699.674\t     0.551\t     0.470\n",
      "  300\t    27.385\t  3943.260\t   676.556\t     0.567\t     0.479\n",
      "  400\t    37.134\t  3916.742\t   668.144\t     0.569\t     0.482\n",
      "  500\t    46.830\t  3909.080\t   666.359\t     0.573\t     0.481\n",
      "  600\t    56.476\t  3906.282\t   664.707\t     0.574\t     0.480\n",
      "  700\t    66.161\t  3905.472\t   663.627\t     0.576\t     0.484\n",
      "Stop at 714 steps: cost (dev) has been monotonically increasing for 10 steps.\n",
      "\n",
      "1.0999999999999999 0.48378501219984243\n"
     ]
    }
   ],
   "source": [
    "df = [9,9,9]\n",
    "ms_lnlnspl = []\n",
    "mdev_lnlnspl = []\n",
    "lnln_spl_time = []\n",
    "\n",
    "for beta in np.arange(0.5 , 1.5, .1):\n",
    "    \n",
    "    lnln_spl = GLM(distr='poisson', output_nonlinearity='softplus')\n",
    "    lnln_spl.add_design_matrix(X_train, dims=dims, df=df, smooth='cr', filter_nonlinearity='softplus', name='stimulus') # light stimulus\n",
    "    lnln_spl.add_design_matrix(X_dev, name='stimulus', kind='dev')\n",
    "    lnln_spl.initialize({'train': y_train, 'dev': y_dev}, num_subunits=4, dt=dt, method='mle', random_seed=2046)\n",
    "    lnln_spl.fit(num_iters=1500, verbose=100, step_size=0.1, beta=beta)\n",
    "    \n",
    "    mdev_lnlnspl.append(lnln_spl.metric_dev_opt)\n",
    "    ms_lnlnspl.append(lnln_spl)\n",
    "    lnln_spl_time.append(lnln_spl.total_time_elapsed)\n",
    "    \n",
    "    print(beta, mdev_lnlnspl[-1])\n",
    "    plt.show()\n",
    "    \n",
    "    if (np.diff(mdev_lnlnspl) > 0).all():\n",
    "        continue\n",
    "    else:\n",
    "        break"
   ]
  },
  {
   "cell_type": "code",
   "execution_count": 27,
   "metadata": {},
   "outputs": [
    {
     "data": {
      "text/plain": [
       "[<matplotlib.lines.Line2D at 0x7fa553a3d190>]"
      ]
     },
     "execution_count": 27,
     "metadata": {},
     "output_type": "execute_result"
    },
    {
     "data": {
      "image/png": "[encoded data removed]",
      "text/plain": [
       "<Figure size 432x288 with 1 Axes>"
      ]
     },
     "metadata": {
      "needs_background": "light"
     },
     "output_type": "display_data"
    }
   ],
   "source": [
    "plt.plot(mdev_lnlnspl)"
   ]
  },
  {
   "cell_type": "code",
   "execution_count": 52,
   "metadata": {},
   "outputs": [
    {
     "data": {
      "text/plain": [
       "[<matplotlib.lines.Line2D at 0x7f92706b4410>]"
      ]
     },
     "execution_count": 52,
     "metadata": {},
     "output_type": "execute_result"
    },
    {
     "data": {
      "image/png": "[encoded data removed]",
      "text/plain": [
       "<Figure size 432x288 with 1 Axes>"
      ]
     },
     "metadata": {
      "needs_background": "light"
     },
     "output_type": "display_data"
    }
   ],
   "source": [
    "plt.plot(np.arange(1, 2, 0.25)[:len(mdev)], mdev)"
   ]
  },
  {
   "cell_type": "code",
   "execution_count": 132,
   "metadata": {},
   "outputs": [
    {
     "name": "stdout",
     "output_type": "stream",
     "text": [
      "Iters\t  Time (s)\tCost (train)\tCost (dev)\tcorrcoef (train)\tcorrcoef (dev)\n",
      "    0\t     1.582\t 51850.094\t  9973.878\t     0.191\t     0.162\n",
      "  100\t    11.032\t  4393.545\t   777.782\t     0.516\t     0.437\n",
      "  200\t    19.965\t  4027.599\t   697.980\t     0.558\t     0.471\n",
      "  300\t    28.984\t  3899.193\t   675.326\t     0.574\t     0.478\n",
      "  400\t    38.871\t  3865.653\t   668.129\t     0.580\t     0.481\n",
      "  500\t    48.579\t  3855.573\t   666.970\t     0.583\t     0.481\n",
      "  600\t    58.272\t  3853.440\t   664.959\t     0.586\t     0.483\n",
      "  700\t    67.975\t  3852.025\t   664.293\t     0.587\t     0.482\n",
      "  800\t    77.661\t  3851.553\t   664.121\t     0.588\t     0.483\n",
      "  900\t    87.386\t  3851.216\t   664.273\t     0.588\t     0.482\n",
      " 1000\t    97.086\t  3852.082\t   664.732\t     0.588\t     0.482\n",
      "Stop at 1095 steps: cost (dev) has been monotonically increasing for 10 steps.\n",
      "\n"
     ]
    }
   ],
   "source": [
    "m_lnln = GLM(distr='poisson', output_nonlinearity='softplus')\n",
    "m_lnln.add_design_matrix(X_train, dims=dims, df=df, smooth='cr', filter_nonlinearity='softplus', name='stimulus') # light stimulus\n",
    "m_lnln.add_design_matrix(X_dev, name='stimulus', kind='dev')\n",
    "m_lnln.initialize({'train': y_train, 'dev': y_dev}, num_subunits=4, dt=dt, method='mle', random_seed=2046)\n",
    "m_lnln.fit(num_iters=2000, verbose=100, step_size=0.1, beta=1.)"
   ]
  },
  {
   "cell_type": "code",
   "execution_count": 34,
   "metadata": {},
   "outputs": [],
   "source": [
    "from rfest.check import significance\n",
    "\n",
    "def plot_spline(lnp0, lnln0, dt=None, shift=None, title=None, response_type='spike', len_time=1, contour=None, figsize=None):\n",
    "    \n",
    "    from rfest.utils import get_spatial_and_temporal_filters\n",
    "    import matplotlib.gridspec as gridspec\n",
    "    import warnings\n",
    "    warnings.filterwarnings(\"ignore\")\n",
    "    \n",
    "    dims = lnln0.dims['stimulus']\n",
    "    dt = lnln0.dt if dt is None else dt\n",
    "    shift = 0 if shift is None else -shift\n",
    "    t_tRF = np.linspace(-(dims[0]-shift)*dt, shift*dt, dims[0]+1)[1:]\n",
    "\n",
    "    W_score_lnp, p_values_lnp = significance(lnp0, 'opt')\n",
    "    W_score_lnln, p_values_lnln = significance(lnln0, 'opt')\n",
    "    \n",
    "    fig = plt.figure(figsize=figsize) if figsize is not None else (12,4)\n",
    "    \n",
    "    for counter, (lnp, lnln) in enumerate([(lnp0, lnln0)]):\n",
    "        \n",
    "        (idx0, idx1) = (0, 1) if counter == 0 else (2, 3)\n",
    "\n",
    "#         ws = uvec(lnln.w_opt)\n",
    "        ws = np.hstack([lnln.w['opt'][name] for name in lnln.w['opt']])\n",
    "        num_subunits = ws.shape[1]\n",
    "\n",
    "        sRFs_max = []\n",
    "        sRFs_min = []\n",
    "        tRFs = []\n",
    "        tRFs_u = []\n",
    "        tRFs_l = []\n",
    "        for i, name in enumerate(lnln0.filter_names):\n",
    "            w = lnln.w['opt'][name].flatten()\n",
    "            w_se = lnln.w_se['opt'][name].flatten()\n",
    "            wu = w + 2 * w_se\n",
    "            wl = w - 2 * w_se\n",
    "            \n",
    "            w = w.reshape(dims)\n",
    "            wu = wu.reshape(dims)\n",
    "            wl = wl.reshape(dims)\n",
    "            \n",
    "            sRF, tRF = get_spatial_and_temporal_filters(w, dims)\n",
    "\n",
    "            ref = [sRF[2:, 2:].max(), sRF[2:, 2:].min()][np.argmax([np.abs(sRF.max()), np.abs(sRF.min())])]\n",
    "            max_coord = np.where(sRF == ref)\n",
    "            tRF = w[:, max_coord[0], max_coord[1]].flatten()\n",
    "            tRFu = wu[:, max_coord[0], max_coord[1]].flatten()\n",
    "            tRFl = wl[:, max_coord[0], max_coord[1]].flatten()\n",
    "\n",
    "            tRF_max = np.argmax(tRF)\n",
    "            sRF_max = w[tRF_max]\n",
    "            sRFs_max.append(sRF_max)\n",
    "            tRF_min = np.argmin(tRF)\n",
    "            sRF_min = w[tRF_min]\n",
    "            sRFs_min.append(sRF_min)\n",
    "            tRFs.append(tRF)\n",
    "            tRFs_u.append(tRFu)\n",
    "            tRFs_l.append(tRFl)\n",
    "\n",
    "        sRFs_max = np.stack(sRFs_max)\n",
    "        sRFs_min = np.stack(sRFs_min)\n",
    "\n",
    "        vmax = np.max([np.abs(sRFs_max.max()), np.abs(sRFs_max.min()), np.abs(sRFs_min.max()), np.abs(sRFs_min.min())])\n",
    "\n",
    "        ncols = num_subunits\n",
    "        ncols += 2 # add lnp\n",
    "        nrows = 4\n",
    "\n",
    "        spec = gridspec.GridSpec(ncols=ncols, nrows=nrows, figure=fig)  \n",
    "        axs = []\n",
    "        ax_sRF_mins= []\n",
    "        ax_sRF_maxs = []    \n",
    "\n",
    "        # LNP\n",
    "        w_lnp = lnp.w['opt']['stimulus'].flatten()\n",
    "        w_se_lnp = lnp.w_se['opt']['stimulus'].flatten()\n",
    "        wu_lnp = w_lnp + 2 * w_se_lnp\n",
    "        wl_lnp = w_lnp - 2 * w_se_lnp\n",
    "        \n",
    "        w_lnp = w_lnp.reshape(dims)\n",
    "        wu_lnp = wu_lnp.reshape(dims)\n",
    "        wl_lnp = wl_lnp.reshape(dims)\n",
    "        \n",
    "        vmax_lnp = np.max([np.abs(w_lnp.max()), np.abs(w_lnp.min())])\n",
    "        sRF_lnp, tRF_lnp = get_spatial_and_temporal_filters(w_lnp, dims)\n",
    "        ref = [sRF_lnp[2:, 2:].max(), sRF_lnp[2:, 2:].min()][np.argmax([np.abs(sRF_lnp.max()), np.abs(sRF_lnp.min())])]\n",
    "        max_coord = np.where(sRF_lnp == ref)\n",
    "        \n",
    "        tRF_lnp = w_lnp[:, max_coord[0], max_coord[1]].flatten()\n",
    "        tRFu_lnp = wu_lnp[:, max_coord[0], max_coord[1]].flatten()\n",
    "        tRFl_lnp = wl_lnp[:, max_coord[0], max_coord[1]].flatten()\n",
    "        \n",
    "        tRF_max = np.argmax(tRF_lnp)\n",
    "        sRF_max = w_lnp[tRF_max]\n",
    "        tRF_min = np.argmin(tRF_lnp)\n",
    "        sRF_min = w_lnp[tRF_min]\n",
    "\n",
    "        ax_sRF_min = fig.add_subplot(spec[idx0, 0])       \n",
    "        ax_sRF_min.imshow(sRF_min, cmap=plt.cm.bwr, vmax=vmax_lnp, vmin=-vmax_lnp, aspect='auto')\n",
    "        ax_sRF_min.set_xticks([])\n",
    "        ax_sRF_min.set_yticks([])\n",
    "#         ax_sRF_min.set_title(f'')\n",
    "        p = p_values_lnp['stimulus']\n",
    "\n",
    "        stars = '*'\n",
    "\n",
    "        if p < 0.001:\n",
    "            stars *= 3\n",
    "            ax_sRF_min.set_title(f'p<0.001{stars} ', fontsize=14)\n",
    "        elif p<0.01:\n",
    "            stars *= 2\n",
    "            ax_sRF_min.set_title(f'p<0.01{stars} ', fontsize=14)\n",
    "        elif p<0.05:\n",
    "            stars *= 1\n",
    "            ax_sRF_min.set_title(f'p<0.05{stars} ', fontsize=14)\n",
    "        else:\n",
    "            stars = '[n.s.]'\n",
    "            ax_sRF_min.set_title(f'p>0.05{stars} ', fontsize=14)\n",
    "\n",
    "#         ax_sRF_min.set_ylabel('Spline')\n",
    "            \n",
    "        ax_sRF_mins.append(ax_sRF_min)\n",
    "        \n",
    "        ax_tRF = fig.add_subplot(spec[idx1, 0])       \n",
    "        ax_tRF.plot(t_tRF, tRF_lnp, color='black')\n",
    "        ax_tRF.fill_between(t_tRF, tRFu_lnp, tRFl_lnp, color='gray', alpha=0.5)\n",
    "\n",
    "\n",
    "        ax_tRF.spines['top'].set_visible(False)\n",
    "        ax_tRF.spines['right'].set_visible(False)\n",
    "#         ax_tRF.set_yticks([])\n",
    "        ax_tRF.set_xticks([])\n",
    "#         tRF_max = np.argmax(tRFs[i])\n",
    "        tRF_min = np.argmin(tRF_lnp)\n",
    "#         ax_tRF.axvline(t_tRF[tRF_max], color='C3', linestyle='--', alpha=0.6)\n",
    "        ax_tRF.axvline(t_tRF[tRF_min], color='C0', linestyle='--', alpha=0.6)\n",
    "    \n",
    "        vmax_tRF = np.max([np.abs(w_lnp.min()), np.abs(w_lnp.max()), np.abs(ws.min()), np.abs(ws.max())])\n",
    "        ax_tRF.set_ylim(-vmax_tRF, vmax_tRF)\n",
    "        # LNLN subunits\n",
    "\n",
    "        for i, name in enumerate(lnln0.filter_names):\n",
    "            ax_sRF_min = fig.add_subplot(spec[idx0, i+1])       \n",
    "            ax_sRF_min.imshow(sRFs_min[i], cmap=plt.cm.bwr, vmax=vmax, vmin=-vmax, aspect='auto')\n",
    "            ax_sRF_min.set_xticks([])\n",
    "            ax_sRF_min.set_yticks([])\n",
    "            if i == 0 and counter == 0:\n",
    "                ax_sRF_min.set_title(f'LNLN')\n",
    "\n",
    "            ax_sRF_mins.append(ax_sRF_min)\n",
    "            \n",
    "            ax_tRF = fig.add_subplot(spec[idx1, i+1])       \n",
    "            ax_tRF.plot(t_tRF, tRFs[i], color='black')\n",
    "            ax_tRF.fill_between(t_tRF, tRFs_u[i], tRFs_l[i], color='gray', alpha=0.5)\n",
    "            ax_tRF.spines['top'].set_visible(False)\n",
    "            ax_tRF.spines['right'].set_visible(False)\n",
    "            ax_tRF.set_yticks([]) \n",
    "            ax_tRF.set_xlabel('Time Lag (s)', fontsize=14)\n",
    "#             ax_tRF.set_xticks([])\n",
    "    #         tRF_max = np.argmax(tRFs[i])\n",
    "            tRF_min = np.argmin(tRFs[i])\n",
    "            \n",
    "    #         ax_tRF.axvline(t_tRF[tRF_max], color='C3', linestyle='--', alpha=0.6)\n",
    "            ax_tRF.axvline(t_tRF[tRF_min], color='C0', linestyle='--', alpha=0.6)\n",
    "            ax_tRF.set_ylim(-vmax_tRF, vmax_tRF)\n",
    "#             ax_tRF.set_ylim(-0.1, 0.1)\n",
    "\n",
    "            p = p_values_lnln[name]\n",
    "\n",
    "            stars = '*'\n",
    "\n",
    "            if p < 0.001:\n",
    "                stars *= 3\n",
    "                ax_sRF_min.set_title(f'p<0.001{stars} ', fontsize=14)\n",
    "            elif p<0.01:\n",
    "                stars *= 2\n",
    "                ax_sRF_min.set_title(f'p<0.01{stars} ', fontsize=14)\n",
    "            elif p<0.05:\n",
    "                stars *= 1\n",
    "                ax_sRF_min.set_title(f'p<0.05{stars} ', fontsize=14)\n",
    "            else:\n",
    "                stars = '[n.s.]'\n",
    "                ax_sRF_min.set_title(f'p>0.05{stars} ', fontsize=14)\n",
    "\n",
    "        if contour is not None and counter == 0: # then plot contour\n",
    "\n",
    "            for i in range(num_subunits+1):\n",
    "\n",
    "                color_min = 'black' if i == 0 else 'gray'\n",
    "                color_max = 'black' if i == 0 else 'gray'\n",
    "\n",
    "                ax_sRF_mins[i].contour(sRF_min, levels=[-contour], colors=[color_min], linestyles=['-'], alpha=1)\n",
    "\n",
    "                for j in range(num_subunits):\n",
    "                    if i-1 != j:\n",
    "                        color = 'grey'\n",
    "                        alpha = 0.5\n",
    "                        style = '--'                    \n",
    "                    else:\n",
    "                        color = 'black'\n",
    "                        alpha = 1\n",
    "                        style = '--'\n",
    "                    ax_sRF_mins[i].contour(sRFs_min[j], levels=[-contour], colors=[color], linestyles=[style], alpha=alpha)\n",
    "            \n",
    "    plt.subplots_adjust(wspace=0.5)\n",
    "\n",
    "\n",
    "\n",
    "\n",
    "\n"
   ]
  },
  {
   "cell_type": "code",
   "execution_count": 60,
   "metadata": {},
   "outputs": [
    {
     "data": {
      "image/png": "[encoded data removed]",
      "text/plain": [
       "<Figure size 864x504 with 10 Axes>"
      ]
     },
     "metadata": {
      "needs_background": "light"
     },
     "output_type": "display_data"
    }
   ],
   "source": [
    "plot_spline(lnp_spl, lnln_spl, figsize=(12, 3.5*2), contour=0.045)\n",
    "plt.savefig('figs/Figure8a2.pdf')"
   ]
  },
  {
   "cell_type": "code",
   "execution_count": 61,
   "metadata": {},
   "outputs": [],
   "source": [
    "div = int(X_test.shape[0]/4)\n",
    "cc_test_spline = np.array([[m.score(X_test[i*div:(i+1)*div], y_test[i*div:(i+1)*div]) for m in [lnp_spl, lnln_spl]] for i in range(4)])"
   ]
  },
  {
   "cell_type": "code",
   "execution_count": 62,
   "metadata": {},
   "outputs": [],
   "source": [
    "cc_test_vanilla= np.array([[0.15835939, 0.18905382],\n",
    "       [0.18182629, 0.19020814],\n",
    "       [0.13541479, 0.1838887 ],\n",
    "       [0.14027695, 0.16000965]])"
   ]
  },
  {
   "cell_type": "code",
   "execution_count": 63,
   "metadata": {},
   "outputs": [
    {
     "data": {
      "image/png": "[encoded data removed]",
      "text/plain": [
       "<Figure size 216x288 with 1 Axes>"
      ]
     },
     "metadata": {
      "needs_background": "light"
     },
     "output_type": "display_data"
    }
   ],
   "source": [
    "cc_test = np.hstack([cc_test_vanilla, cc_test_spline])\n",
    "cc_test_mean = cc_test.mean(0)\n",
    "\n",
    "\n",
    "cc_test_std = cc_test.std(0)\n",
    "fig, ax_bar = plt.subplots(figsize=(3,4))\n",
    "\n",
    "x = [0, 1, 2, 3]\n",
    "ax_bar.bar(x, cc_test_mean, yerr=cc_test_std, width=1, color=['lightblue', 'lightcoral', 'steelblue', 'firebrick'], capsize=5)\n",
    "labels = ['LNP',  'LNLN', 'LNP (spline)', 'LNLN (spline)']\n",
    "\n",
    "ax_bar.spines['top'].set_visible(False)\n",
    "ax_bar.spines['right'].set_visible(False)\n",
    "ax_bar.set_xticks(x)\n",
    "ax_bar.set_xticklabels(labels, rotation=90, fontsize=14)\n",
    "ax_bar.set_ylim(0, 0.5)\n",
    "ax_bar.set_ylabel('Correlation Coefficient', fontsize=14)\n",
    "\n",
    "plt.savefig('figs/Figure8a3.pdf')"
   ]
  },
  {
   "cell_type": "code",
   "execution_count": 75,
   "metadata": {},
   "outputs": [
    {
     "data": {
      "image/png": "[encoded data removed]",
      "text/plain": [
       "<Figure size 216x288 with 1 Axes>"
      ]
     },
     "metadata": {
      "needs_background": "light"
     },
     "output_type": "display_data"
    }
   ],
   "source": [
    "fig, ax_box = plt.subplots(figsize=(3,4))\n",
    "ax_box.boxplot([np.array(lnp_nospl_time)/60, np.array(lnln_nospl_time)/60, np.array(lnp_spl_time)/60, np.array(lnln_spl_time)/60])\n",
    "\n",
    "labels = ['LNP',  'LNLN', 'LNP (spline)', 'LNLN (spline)']\n",
    "\n",
    "ax_box.spines['top'].set_visible(False)\n",
    "ax_box.spines['right'].set_visible(False)\n",
    "ax_box.set_ylabel('Time (minutes)', fontsize=14)\n",
    "# ax_box.set_xticks(x)\n",
    "ax_box.set_xticklabels(labels, rotation=90, fontsize=14)\n",
    "\n",
    "plt.savefig('figs/Figure8a4.pdf')"
   ]
  }
 ],
 "metadata": {
  "kernelspec": {
   "display_name": "Python 3",
   "language": "python",
   "name": "python3"
  },
  "language_info": {
   "codemirror_mode": {
    "name": "ipython",
    "version": 3
   },
   "file_extension": ".py",
   "mimetype": "text/x-python",
   "name": "python",
   "nbconvert_exporter": "python",
   "pygments_lexer": "ipython3",
   "version": "3.7.7"
  },
  "varInspector": {
   "cols": {
    "lenName": 16,
    "lenType": 16,
    "lenVar": 40
   },
   "kernels_config": {
    "python": {
     "delete_cmd_postfix": "",
     "delete_cmd_prefix": "del ",
     "library": "var_list.py",
     "varRefreshCmd": "print(var_dic_list())"
    },
    "r": {
     "delete_cmd_postfix": ") ",
     "delete_cmd_prefix": "rm(",
     "library": "var_list.r",
     "varRefreshCmd": "cat(var_dic_list()) "
    }
   },
   "types_to_exclude": [
    "module",
    "function",
    "builtin_function_or_method",
    "instance",
    "_Feature"
   ],
   "window_display": false
  }
 },
 "nbformat": 4,
 "nbformat_minor": 4
}
