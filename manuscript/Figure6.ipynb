{
 "cells": [
  {
   "cell_type": "code",
   "execution_count": 1,
   "metadata": {},
   "outputs": [],
   "source": [
    "import time\n",
    "import numpy as np\n",
    "import matplotlib.pyplot as plt\n",
    "import matplotlib.gridspec as gridspec\n",
    "\n",
    "from rfest import splineLG, splineLNP\n",
    "from rfest.utils import get_n_samples, uvec, split_data, build_design_matrix\n",
    "from rfest.simulate import gaussian2d, noise2d, get_response\n",
    "from rfest.metrics import mse\n",
    "\n",
    "from tqdm import tqdm, tnrange, tqdm_notebook\n",
    "\n"
   ]
  },
  {
   "cell_type": "code",
   "execution_count": 2,
   "metadata": {},
   "outputs": [],
   "source": [
    "from rfest.priors import smoothness_kernel\n",
    "from rfest.splines import build_spline_matrix\n",
    "from rfest import ASD"
   ]
  },
  {
   "cell_type": "code",
   "execution_count": 3,
   "metadata": {},
   "outputs": [],
   "source": [
    "def STA(X, y, C=None):\n",
    "    k = X.T @ y     \n",
    "    return k    \n",
    "\n",
    "def MLE(X, y, C=None):\n",
    "    k = np.linalg.inv(X.T @ X) @ X.T @ y     \n",
    "    return k\n",
    "\n",
    "def MAP(X, y, C):\n",
    "    k = np.linalg.inv(X.T @ X + np.linalg.inv(C)) @ X.T @ y    \n",
    "    return k\n",
    "\n",
    "def SPL_MLE(XS, y, C=None):\n",
    "    k = S @ np.linalg.inv(XS.T @ XS) @ XS.T @ y\n",
    "    return k"
   ]
  },
  {
   "cell_type": "code",
   "execution_count": 4,
   "metadata": {},
   "outputs": [],
   "source": [
    "scale_factors = np.array([0.5, 1, 2, 4, 8, 16, 32, 64])\n",
    "\n",
    "\n",
    "def get_time(X_all, y_all, n_feature, method, C=None, S=None, \n",
    "             num_trials=10, scale_factors=None):\n",
    "\n",
    "    all_time_lapse_mean = []\n",
    "    all_time_lapse_std = []    \n",
    "\n",
    "    n_samples_list = (n_features * scale_factors).astype(int)\n",
    "    for ii in tnrange(len(scale_factors)):\n",
    "\n",
    "        time_lapse = []\n",
    "\n",
    "        for jj in range(num_trials):   \n",
    "#         for jj in range(num_trials):\n",
    "\n",
    "            X = X_all[:n_samples_list[ii]]\n",
    "            y = y_all[:n_samples_list[ii]]\n",
    "            \n",
    "            if S is not None:\n",
    "                X = X @ S\n",
    "\n",
    "            start = time.time()\n",
    "            k = method(X, y, C)      \n",
    "            time_lapse.append(time.time() - start)\n",
    "\n",
    "        all_time_lapse_mean.append(np.mean(time_lapse))\n",
    "        all_time_lapse_std.append(np.std(time_lapse))\n",
    "        \n",
    "    return np.array(all_time_lapse_mean), np.array(all_time_lapse_std)"
   ]
  },
  {
   "cell_type": "code",
   "execution_count": 5,
   "metadata": {},
   "outputs": [],
   "source": [
    "from rfest.utils import get_n_samples"
   ]
  },
  {
   "cell_type": "code",
   "execution_count": 8,
   "metadata": {},
   "outputs": [
    {
     "name": "stderr",
     "output_type": "stream",
     "text": [
      "/Users/ziweih/.pyenv/versions/miniconda3-latest/lib/python3.7/site-packages/ipykernel_launcher.py:11: TqdmDeprecationWarning: Please use `tqdm.notebook.trange` instead of `tqdm.tnrange`\n",
      "  # This is added back by InteractiveShellApp.init_path()\n"
     ]
    },
    {
     "data": {
      "application/vnd.jupyter.widget-view+json": {
       "model_id": "90bb2c25ea2949ff8905cf8aef1bd11e",
       "version_major": 2,
       "version_minor": 0
      },
      "text/plain": [
       "HBox(children=(FloatProgress(value=0.0, max=8.0), HTML(value='')))"
      ]
     },
     "metadata": {},
     "output_type": "display_data"
    },
    {
     "name": "stdout",
     "output_type": "stream",
     "text": [
      "\n"
     ]
    },
    {
     "data": {
      "application/vnd.jupyter.widget-view+json": {
       "model_id": "1888df67c1ca49578b4c9e49a4854833",
       "version_major": 2,
       "version_minor": 0
      },
      "text/plain": [
       "HBox(children=(FloatProgress(value=0.0, max=8.0), HTML(value='')))"
      ]
     },
     "metadata": {},
     "output_type": "display_data"
    },
    {
     "name": "stdout",
     "output_type": "stream",
     "text": [
      "\n"
     ]
    },
    {
     "data": {
      "application/vnd.jupyter.widget-view+json": {
       "model_id": "a44f3a5ba88b4d0a8fac34ba54366f6c",
       "version_major": 2,
       "version_minor": 0
      },
      "text/plain": [
       "HBox(children=(FloatProgress(value=0.0, max=8.0), HTML(value='')))"
      ]
     },
     "metadata": {},
     "output_type": "display_data"
    },
    {
     "name": "stdout",
     "output_type": "stream",
     "text": [
      "\n"
     ]
    },
    {
     "data": {
      "application/vnd.jupyter.widget-view+json": {
       "model_id": "975fce0d4adc44eba2cabbf477a601f1",
       "version_major": 2,
       "version_minor": 0
      },
      "text/plain": [
       "HBox(children=(FloatProgress(value=0.0, max=8.0), HTML(value='')))"
      ]
     },
     "metadata": {},
     "output_type": "display_data"
    },
    {
     "name": "stdout",
     "output_type": "stream",
     "text": [
      "\n"
     ]
    },
    {
     "data": {
      "application/vnd.jupyter.widget-view+json": {
       "model_id": "ffc901a9c84d4a1e8de33a8d56eb371a",
       "version_major": 2,
       "version_minor": 0
      },
      "text/plain": [
       "HBox(children=(FloatProgress(value=0.0, max=8.0), HTML(value='')))"
      ]
     },
     "metadata": {},
     "output_type": "display_data"
    },
    {
     "name": "stdout",
     "output_type": "stream",
     "text": [
      "\n"
     ]
    },
    {
     "data": {
      "application/vnd.jupyter.widget-view+json": {
       "model_id": "ea5e0828b8c44b48ab457fe69b8ddc75",
       "version_major": 2,
       "version_minor": 0
      },
      "text/plain": [
       "HBox(children=(FloatProgress(value=0.0, max=8.0), HTML(value='')))"
      ]
     },
     "metadata": {},
     "output_type": "display_data"
    },
    {
     "name": "stdout",
     "output_type": "stream",
     "text": [
      "\n"
     ]
    },
    {
     "data": {
      "application/vnd.jupyter.widget-view+json": {
       "model_id": "f2243c4b95964f5e9384ed45b4dd334c",
       "version_major": 2,
       "version_minor": 0
      },
      "text/plain": [
       "HBox(children=(FloatProgress(value=0.0, max=8.0), HTML(value='')))"
      ]
     },
     "metadata": {},
     "output_type": "display_data"
    },
    {
     "name": "stdout",
     "output_type": "stream",
     "text": [
      "\n"
     ]
    },
    {
     "data": {
      "application/vnd.jupyter.widget-view+json": {
       "model_id": "b4c9038a965641bc9eb7c02a73ef32d8",
       "version_major": 2,
       "version_minor": 0
      },
      "text/plain": [
       "HBox(children=(FloatProgress(value=0.0, max=8.0), HTML(value='')))"
      ]
     },
     "metadata": {},
     "output_type": "display_data"
    },
    {
     "name": "stdout",
     "output_type": "stream",
     "text": [
      "\n"
     ]
    },
    {
     "data": {
      "application/vnd.jupyter.widget-view+json": {
       "model_id": "7655ba0111014ebba9b8ea577a9fe8c1",
       "version_major": 2,
       "version_minor": 0
      },
      "text/plain": [
       "HBox(children=(FloatProgress(value=0.0, max=8.0), HTML(value='')))"
      ]
     },
     "metadata": {},
     "output_type": "display_data"
    },
    {
     "name": "stdout",
     "output_type": "stream",
     "text": [
      "\n"
     ]
    },
    {
     "data": {
      "application/vnd.jupyter.widget-view+json": {
       "model_id": "c4a5fe60b8474dd88581b08f5a7a2ff8",
       "version_major": 2,
       "version_minor": 0
      },
      "text/plain": [
       "HBox(children=(FloatProgress(value=0.0, max=8.0), HTML(value='')))"
      ]
     },
     "metadata": {},
     "output_type": "display_data"
    },
    {
     "name": "stdout",
     "output_type": "stream",
     "text": [
      "\n"
     ]
    },
    {
     "data": {
      "application/vnd.jupyter.widget-view+json": {
       "model_id": "4d5fb97cb2b54b7c905bdaab58e0f124",
       "version_major": 2,
       "version_minor": 0
      },
      "text/plain": [
       "HBox(children=(FloatProgress(value=0.0, max=8.0), HTML(value='')))"
      ]
     },
     "metadata": {},
     "output_type": "display_data"
    },
    {
     "name": "stdout",
     "output_type": "stream",
     "text": [
      "\n"
     ]
    },
    {
     "data": {
      "application/vnd.jupyter.widget-view+json": {
       "model_id": "d54caa2dcae94431a81830df17d8bf90",
       "version_major": 2,
       "version_minor": 0
      },
      "text/plain": [
       "HBox(children=(FloatProgress(value=0.0, max=8.0), HTML(value='')))"
      ]
     },
     "metadata": {},
     "output_type": "display_data"
    },
    {
     "name": "stdout",
     "output_type": "stream",
     "text": [
      "\n"
     ]
    },
    {
     "data": {
      "application/vnd.jupyter.widget-view+json": {
       "model_id": "f6ae293902904fdaacd952c416eed2ca",
       "version_major": 2,
       "version_minor": 0
      },
      "text/plain": [
       "HBox(children=(FloatProgress(value=0.0, max=8.0), HTML(value='')))"
      ]
     },
     "metadata": {},
     "output_type": "display_data"
    },
    {
     "name": "stdout",
     "output_type": "stream",
     "text": [
      "\n"
     ]
    },
    {
     "data": {
      "application/vnd.jupyter.widget-view+json": {
       "model_id": "26060d7acda245e5a9207f241427f6ca",
       "version_major": 2,
       "version_minor": 0
      },
      "text/plain": [
       "HBox(children=(FloatProgress(value=0.0, max=8.0), HTML(value='')))"
      ]
     },
     "metadata": {},
     "output_type": "display_data"
    },
    {
     "name": "stdout",
     "output_type": "stream",
     "text": [
      "\n"
     ]
    },
    {
     "data": {
      "application/vnd.jupyter.widget-view+json": {
       "model_id": "605c371907e043df8c9e81edb0f41e9c",
       "version_major": 2,
       "version_minor": 0
      },
      "text/plain": [
       "HBox(children=(FloatProgress(value=0.0, max=8.0), HTML(value='')))"
      ]
     },
     "metadata": {},
     "output_type": "display_data"
    },
    {
     "name": "stdout",
     "output_type": "stream",
     "text": [
      "\n"
     ]
    },
    {
     "data": {
      "image/png": "[encoded data removed]",
      "text/plain": [
       "<Figure size 864x288 with 3 Axes>"
      ]
     },
     "metadata": {
      "needs_background": "light"
     },
     "output_type": "display_data"
    }
   ],
   "source": [
    "fig, ax = plt.subplots(1, 3, figsize=(12,4))\n",
    "n_features_all = []\n",
    "xaxis = np.arange(len(scale_factors))\n",
    "\n",
    "dimss = [[15, 15], [20, 20], [30, 30]]\n",
    "stds = [[2,2], [4,4], [8,8]]\n",
    "xlabel = [0.,  0.5, 2.,  8., 32., 64.]\n",
    "\n",
    "dt = 0.033\n",
    "n_samples = get_n_samples(64, dt)\n",
    "\n",
    "    \n",
    "for xx in range(3):\n",
    "    \n",
    "    w_true = gaussian2d(dims=dimss[xx], std=stds[xx])\n",
    "\n",
    "    dims = w_true.shape\n",
    "    dt = 0.033\n",
    "\n",
    "    dims = w_true.shape\n",
    "    n_features = np.prod(dims)\n",
    "    n_features_all.append(n_features)\n",
    "    \n",
    "    X_all = noise2d(n_samples=n_samples, dims=dims, design_matrix=True, random_seed=2046)\n",
    "    X_all = X_all.reshape(n_samples, n_features)\n",
    "    y_all = get_response(X_all, w_true.flatten(), dt=dt)\n",
    "    \n",
    "    \n",
    "    m_sta, s_sta = get_time(X_all, y_all, n_feature=n_features, method=STA, scale_factors=scale_factors)\n",
    "    m_mle, s_mle = get_time(X_all, y_all, n_feature=n_features, method=MLE, scale_factors=scale_factors)\n",
    "\n",
    "    asd = ASD(X_all, y_all, dims=dims)\n",
    "    p0 = [1., 1., 2., 2.,]\n",
    "    C, _ = asd.update_C_prior(p0)\n",
    "    m_map, s_map = get_time(X_all, y_all, n_feature=n_features, method=MAP, C=C, scale_factors=scale_factors)\n",
    "\n",
    "    df = [5,5]\n",
    "    S = build_spline_matrix(dims=dims, df=df, smooth='cr')\n",
    "        \n",
    "    m_spl_25, s_spl_25  = get_time(X_all, y_all, n_feature=n_features, method=SPL_MLE, C=None, S=S, \n",
    "                                   num_trials=10, scale_factors=scale_factors)\n",
    "\n",
    "    df = [10,10]\n",
    "    S = build_spline_matrix(dims=dims, df=df, smooth='cr')\n",
    "    m_spl_100, s_spl_100  = get_time(X_all, y_all, n_feature=n_features, method=SPL_MLE, C=None, S=S, \n",
    "                                     num_trials=10, scale_factors=scale_factors)\n",
    "\n",
    "\n",
    "    ax[xx].errorbar(xaxis, m_sta, s_sta, marker='.', capsize=0, lw=2, label='STA')\n",
    "    ax[xx].errorbar(xaxis, m_mle, s_mle, marker='.', capsize=0, lw=2, label='MLE')\n",
    "    ax[xx].errorbar(xaxis, m_map, s_map, marker='.', capsize=0, lw=2, label='MAP')\n",
    "    ax[xx].errorbar(xaxis, m_spl_25, s_spl_25, marker='.', capsize=0, lw=2, label='SPL(df=25) ')\n",
    "    ax[xx].errorbar(xaxis, m_spl_100, s_spl_100, marker='.', capsize=0, lw=2, label='SPL(df=100)')\n",
    "\n",
    "#     ax[xx].set_ylim(0, 0.5)\n",
    "    ax[xx].set_xticklabels(xlabel)\n",
    "    ax[xx].tick_params(axis='both', labelsize=12)\n",
    "    ax[xx].spines['right'].set_visible(False)\n",
    "    ax[xx].spines['top'].set_visible(False)\n",
    "    if xx == 2:\n",
    "        ax[xx].legend(frameon=False)\n",
    "    ax[xx].set_xlabel('Data (minutes)', fontsize=14)\n",
    "    if xx == 0:\n",
    "        ax[xx].set_ylabel('Computation Time (seconds)', fontsize=14)\n",
    "    ax[xx].set_title(f'# STRF coefficients={n_features}', fontsize=16)\n",
    "    \n",
    "    \n",
    "fig.tight_layout()\n",
    "fig.savefig('figs/Figure_time_new.pdf')\n",
    "# import seaborn as sns\n",
    "# sns.despine(offset=0, trim=True)"
   ]
  },
  {
   "cell_type": "code",
   "execution_count": null,
   "metadata": {},
   "outputs": [],
   "source": []
  }
 ],
 "metadata": {
  "kernelspec": {
   "display_name": "Python 3",
   "language": "python",
   "name": "python3"
  },
  "language_info": {
   "codemirror_mode": {
    "name": "ipython",
    "version": 3
   },
   "file_extension": ".py",
   "mimetype": "text/x-python",
   "name": "python",
   "nbconvert_exporter": "python",
   "pygments_lexer": "ipython3",
   "version": "3.7.7"
  }
 },
 "nbformat": 4,
 "nbformat_minor": 4
}
