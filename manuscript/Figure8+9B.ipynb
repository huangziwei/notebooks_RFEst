{
 "cells": [
  {
   "cell_type": "code",
   "execution_count": 1,
   "metadata": {},
   "outputs": [],
   "source": [
    "import numpy as np\n",
    "import matplotlib.pyplot as plt\n",
    "from scipy.ndimage import gaussian_filter\n",
    "\n",
    "from rfest import GLM, LNP, LNLN\n",
    "from rfest import build_design_matrix\n",
    "from rfest.utils import get_n_samples, split_data, fetch_data, uvec, upsample_data\n",
    "from rfest.check import plot3d, plot_diagnostics"
   ]
  },
  {
   "cell_type": "code",
   "execution_count": 2,
   "metadata": {},
   "outputs": [],
   "source": [
    "import pickle\n",
    "\n",
    "with open('./data/rgc_new.pickle', 'rb') as f:\n",
    "    data = pickle.load(f)"
   ]
  },
  {
   "cell_type": "markdown",
   "metadata": {},
   "source": [
    "### Vanilla model no spline"
   ]
  },
  {
   "cell_type": "code",
   "execution_count": 3,
   "metadata": {},
   "outputs": [],
   "source": [
    "    \n",
    "stim = data['stim']\n",
    "trace = data['trace']\n",
    "tracetime = data['tracetime']\n",
    "triggertime = data['triggertime']"
   ]
  },
  {
   "cell_type": "code",
   "execution_count": 8,
   "metadata": {},
   "outputs": [
    {
     "name": "stdout",
     "output_type": "stream",
     "text": [
      "SUMMARY\n",
      "               N    Minutes   Fraction\n",
      "Total      37531      20.02        1.0\n",
      "Train      18769      10.01        0.5\n",
      "Dev         3750        2.0        0.1\n",
      "Test       15012       8.01        0.4\n"
     ]
    }
   ],
   "source": [
    "i= 2\n",
    "dims = [25, 15, 15]\n",
    "# dims = [25, 15, 15]\n",
    "X, y, dt = upsample_data(stim, triggertime[:], trace[:, i], tracetime[:, i])\n",
    "X = build_design_matrix(X, dims[0], shift=0)\n",
    "(X_train, y_train), (X_dev, y_dev), (X_test, y_test) = split_data(X, np.maximum(0, gaussian_filter(y, sigma=2, truncate=0.25)), dt, \n",
    "                                                                  frac_train=0.5, frac_dev=0.1, verbose=1)"
   ]
  },
  {
   "cell_type": "code",
   "execution_count": 4,
   "metadata": {},
   "outputs": [
    {
     "name": "stderr",
     "output_type": "stream",
     "text": [
      "WARNING:absl:No GPU/TPU found, falling back to CPU. (Set TF_CPP_MIN_LOG_LEVEL=0 and rerun for more info.)\n"
     ]
    },
    {
     "name": "stdout",
     "output_type": "stream",
     "text": [
      "Iters\t  Time (s)\tCost (train)\tCost (dev)\tMetric (train)\tMetric (dev)\n",
      "    0\t     6.091\t  4679.987\t  1459.902\t     0.450\t     0.043\n",
      "  300\t    49.185\t  -351.773\t   468.813\t     0.679\t     0.127\n",
      "  600\t    95.372\t  -360.245\t   421.235\t     0.695\t     0.125\n",
      "Stop at 782 steps: cost (train) has been changing less than 1e-5 for 10 steps.\n",
      "\n",
      "Total time elapsed: 123.181 s.\n",
      "Iters\t  Time (s)\tCost (train)\tCost (dev)\tMetric (train)\tMetric (dev)\n",
      "    0\t     6.342\t  5184.792\t  1403.383\t     0.451\t     0.040\n",
      "  300\t    49.914\t  -145.354\t   225.502\t     0.716\t     0.142\n",
      "  600\t    96.167\t  -163.754\t   240.467\t     0.732\t     0.160\n",
      "  900\t   142.388\t  -213.003\t   219.969\t     0.753\t     0.162\n",
      " 1200\t   188.592\t  -201.604\t   238.455\t     0.759\t     0.143\n",
      "Stop: reached 1500 steps.\n",
      "\n",
      "Total time elapsed: 234.634 s.\n",
      "Iters\t  Time (s)\tCost (train)\tCost (dev)\tMetric (train)\tMetric (dev)\n",
      "    0\t     6.552\t  5709.290\t  1385.564\t     0.453\t     0.043\n",
      "  300\t    49.756\t   -23.307\t   192.897\t     0.684\t     0.184\n",
      "  600\t    95.901\t   -52.992\t   207.250\t     0.703\t     0.156\n",
      "  900\t   142.030\t  -102.703\t   195.212\t     0.732\t     0.167\n",
      " 1200\t   188.211\t   -78.941\t   205.335\t     0.725\t     0.177\n",
      "Stop: reached 1500 steps.\n",
      "\n",
      "Total time elapsed: 234.375 s.\n",
      "Iters\t  Time (s)\tCost (train)\tCost (dev)\tMetric (train)\tMetric (dev)\n",
      "    0\t     7.452\t  6235.191\t  1395.367\t     0.451\t     0.048\n",
      "  300\t    50.335\t    76.064\t   184.960\t     0.666\t     0.153\n",
      "  600\t    95.732\t    18.462\t   169.890\t     0.691\t     0.172\n",
      "  900\t   141.151\t    54.186\t   186.932\t     0.684\t     0.176\n",
      " 1200\t   186.601\t     1.405\t   185.754\t     0.700\t     0.164\n",
      "Stop: reached 1500 steps.\n",
      "\n",
      "Total time elapsed: 231.877 s.\n",
      "Iters\t  Time (s)\tCost (train)\tCost (dev)\tMetric (train)\tMetric (dev)\n",
      "    0\t     7.615\t  6735.822\t  1390.202\t     0.449\t     0.048\n",
      "  300\t    50.296\t   155.019\t   161.875\t     0.648\t     0.173\n",
      "  600\t    95.912\t   117.915\t   178.860\t     0.664\t     0.173\n",
      "  900\t   141.478\t    80.349\t   163.045\t     0.683\t     0.209\n",
      " 1200\t   187.080\t    42.364\t   160.799\t     0.709\t     0.186\n",
      "Stop: reached 1500 steps.\n",
      "\n",
      "Total time elapsed: 232.755 s.\n"
     ]
    }
   ],
   "source": [
    "lnp_nospl = []\n",
    "lnp_nospl_metric = []\n",
    "lnp_nospl_time = []\n",
    "for beta in np.arange(0, 10., 1.):\n",
    "    lnp = LNP(X_train, y_train, dims=dims, dt=dt)\n",
    "    lnp.fit(extra={'X': X_dev, 'y': y_dev}, metric='corrcoef', \n",
    "             num_iters=1500, verbose=300, tolerance=10,\n",
    "             beta=beta, step_size=0.1, random_seed=2046,\n",
    "             fit_history_filter=False)\n",
    "    lnp_nospl.append(lnp)\n",
    "    lnp_nospl_metric.append(lnp.metric_dev_opt)\n",
    "    lnp_nospl_time.append(lnp.total_time_elapsed)\n",
    "    \n",
    "    if (np.diff(lnp_nospl_metric) > 0).all():\n",
    "        continue\n",
    "    else:\n",
    "        break    "
   ]
  },
  {
   "cell_type": "code",
   "execution_count": 5,
   "metadata": {},
   "outputs": [
    {
     "data": {
      "text/plain": [
       "array([123.18076229, 234.63368988, 234.37476611, 231.87712717,\n",
       "       232.75508404])"
      ]
     },
     "execution_count": 5,
     "metadata": {},
     "output_type": "execute_result"
    }
   ],
   "source": [
    "np.array(lnp_nospl_time)"
   ]
  },
  {
   "cell_type": "code",
   "execution_count": 6,
   "metadata": {},
   "outputs": [
    {
     "data": {
      "text/plain": [
       "<matplotlib.lines.Line2D at 0x7fbf83919590>"
      ]
     },
     "execution_count": 6,
     "metadata": {},
     "output_type": "execute_result"
    },
    {
     "data": {
      "image/png": "[encoded data removed]",
      "text/plain": [
       "<Figure size 432x288 with 1 Axes>"
      ]
     },
     "metadata": {
      "needs_background": "light"
     },
     "output_type": "display_data"
    }
   ],
   "source": [
    "plt.plot(np.arange(0, 10., 1.)[:len(lnp_nospl_metric)], lnp_nospl_metric)\n",
    "plt.axvline(np.arange(0, 10., 1.)[:len(lnp_nospl_metric)][np.argmax(lnp_nospl_metric)])"
   ]
  },
  {
   "cell_type": "code",
   "execution_count": 7,
   "metadata": {},
   "outputs": [
    {
     "name": "stdout",
     "output_type": "stream",
     "text": [
      "Iters\t  Time (s)\tCost (train)\tCost (dev)\tMetric (train)\tMetric (dev)\n",
      "    0\t     8.815\t  2507.490\t   543.918\t     0.501\t     0.078\n",
      "  300\t    60.772\t -1063.056\t   550.344\t     0.998\t     0.070\n",
      "  600\t   114.166\t -1070.598\t   635.138\t     0.999\t     0.063\n",
      "Stop at 683 steps: cost (train) has been changing less than 1e-5 for 10 steps.\n",
      "\n",
      "Total time elapsed: 128.903 s.\n",
      "Iters\t  Time (s)\tCost (train)\tCost (dev)\tMetric (train)\tMetric (dev)\n",
      "    0\t     7.337\t  4415.475\t   490.230\t     0.511\t     0.091\n",
      "  300\t    57.809\t  -126.478\t   145.270\t     0.887\t     0.160\n",
      "  600\t   111.239\t  -146.981\t   139.978\t     0.877\t     0.168\n",
      "  900\t   164.361\t  -171.460\t   148.043\t     0.880\t     0.146\n",
      " 1200\t   219.339\t  -156.455\t   147.795\t     0.871\t     0.135\n",
      "Stop: reached 1500 steps.\n",
      "\n",
      "Total time elapsed: 272.397 s.\n",
      "Iters\t  Time (s)\tCost (train)\tCost (dev)\tMetric (train)\tMetric (dev)\n",
      "    0\t     7.802\t  5909.999\t   402.501\t     0.520\t     0.096\n",
      "  300\t    58.158\t   314.956\t   113.036\t     0.840\t     0.204\n",
      "  600\t   115.035\t   267.434\t   110.638\t     0.830\t     0.220\n",
      "  900\t   172.326\t   231.549\t   116.100\t     0.840\t     0.211\n",
      " 1200\t   229.440\t   238.863\t   112.463\t     0.813\t     0.222\n",
      "Stop: reached 1500 steps.\n",
      "\n",
      "Total time elapsed: 287.168 s.\n",
      "Iters\t  Time (s)\tCost (train)\tCost (dev)\tMetric (train)\tMetric (dev)\n",
      "    0\t     8.094\t  7402.709\t   313.082\t     0.502\t     0.097\n",
      "  300\t    60.453\t   716.978\t   104.052\t     0.801\t     0.203\n",
      "  600\t   118.017\t   660.687\t   103.194\t     0.789\t     0.218\n",
      "  900\t   173.966\t   644.207\t   101.941\t     0.770\t     0.186\n",
      " 1200\t   227.888\t   616.533\t   108.031\t     0.774\t     0.185\n",
      "Stop: reached 1500 steps.\n",
      "\n",
      "Total time elapsed: 281.545 s.\n",
      "Iters\t  Time (s)\tCost (train)\tCost (dev)\tMetric (train)\tMetric (dev)\n",
      "    0\t     6.096\t  9128.917\t   245.837\t     0.444\t     0.118\n",
      "  300\t    56.783\t  1034.214\t    98.327\t     0.811\t     0.200\n",
      "Stop at 469 steps: cost (train) has been changing less than 1e-5 for 10 steps.\n",
      "\n",
      "Total time elapsed: 86.837 s.\n"
     ]
    }
   ],
   "source": [
    "lnln_nospl = []\n",
    "lnln_nospl_metric = []\n",
    "lnln_nospl_time = []\n",
    "num_subunits = 4\n",
    "for beta in np.arange(0, 10., 1.):\n",
    "    lnln = LNLN(X_train, y_train, dims=dims, dt=dt)\n",
    "    lnln.fit(extra={'X': X_dev, 'y': y_dev}, metric='corrcoef', \n",
    "             num_subunits=num_subunits, num_iters=1500, verbose=300, tolerance=10,\n",
    "             beta=beta, step_size=0.1, random_seed=2046,\n",
    "             fit_history_filter=False)\n",
    "    lnln_nospl.append(lnln)\n",
    "    lnln_nospl_metric.append(lnln.metric_dev_opt)\n",
    "    lnln_nospl_time.append(lnln.total_time_elapsed)\n",
    "    \n",
    "    if (np.diff(lnln_nospl_metric) > 0).all():\n",
    "        continue\n",
    "    else:\n",
    "        break    "
   ]
  },
  {
   "cell_type": "code",
   "execution_count": 8,
   "metadata": {},
   "outputs": [
    {
     "data": {
      "text/plain": [
       "<matplotlib.lines.Line2D at 0x7fbf83919250>"
      ]
     },
     "execution_count": 8,
     "metadata": {},
     "output_type": "execute_result"
    },
    {
     "data": {
      "image/png": "[encoded data removed]",
      "text/plain": [
       "<Figure size 432x288 with 1 Axes>"
      ]
     },
     "metadata": {
      "needs_background": "light"
     },
     "output_type": "display_data"
    }
   ],
   "source": [
    "plt.plot(np.arange(0, 10., 1.)[:len(lnln_nospl_metric)], lnln_nospl_metric)\n",
    "plt.axvline(np.arange(0, 10., 1.)[:len(lnln_nospl_metric)][np.argmax(lnln_nospl_metric)])"
   ]
  },
  {
   "cell_type": "code",
   "execution_count": 14,
   "metadata": {},
   "outputs": [
    {
     "data": {
      "text/plain": [
       "{'whiskers': [<matplotlib.lines.Line2D at 0x7fba05193110>,\n",
       "  <matplotlib.lines.Line2D at 0x7fba05193610>,\n",
       "  <matplotlib.lines.Line2D at 0x7fba0516a510>,\n",
       "  <matplotlib.lines.Line2D at 0x7fba05170b50>],\n",
       " 'caps': [<matplotlib.lines.Line2D at 0x7fba05193b10>,\n",
       "  <matplotlib.lines.Line2D at 0x7fbc5e671490>,\n",
       "  <matplotlib.lines.Line2D at 0x7fba0516aed0>,\n",
       "  <matplotlib.lines.Line2D at 0x7fba05170550>],\n",
       " 'boxes': [<matplotlib.lines.Line2D at 0x7fba0517e450>,\n",
       "  <matplotlib.lines.Line2D at 0x7fba05193bd0>],\n",
       " 'medians': [<matplotlib.lines.Line2D at 0x7fba051705d0>,\n",
       "  <matplotlib.lines.Line2D at 0x7fba0518c910>],\n",
       " 'fliers': [<matplotlib.lines.Line2D at 0x7fba05170a90>,\n",
       "  <matplotlib.lines.Line2D at 0x7fba0518ce10>],\n",
       " 'means': []}"
      ]
     },
     "execution_count": 14,
     "metadata": {},
     "output_type": "execute_result"
    },
    {
     "data": {
      "image/png": "[encoded data removed]",
      "text/plain": [
       "<Figure size 432x288 with 1 Axes>"
      ]
     },
     "metadata": {
      "needs_background": "light"
     },
     "output_type": "display_data"
    }
   ],
   "source": [
    "plt.boxplot([np.array(lnp_nospl_time)/60, np.array(lnln_nospl_time)/60])\n"
   ]
  },
  {
   "cell_type": "code",
   "execution_count": 15,
   "metadata": {},
   "outputs": [
    {
     "data": {
      "text/plain": [
       "([123.18076229095459,\n",
       "  234.6336898803711,\n",
       "  234.3747661113739,\n",
       "  231.87712717056274,\n",
       "  232.75508403778076],\n",
       " [128.9032781124115,\n",
       "  272.3973939418793,\n",
       "  287.16792488098145,\n",
       "  281.545068025589,\n",
       "  86.83727693557739])"
      ]
     },
     "execution_count": 15,
     "metadata": {},
     "output_type": "execute_result"
    }
   ],
   "source": [
    "lnp_nospl_time, lnln_nospl_time"
   ]
  },
  {
   "cell_type": "code",
   "execution_count": 16,
   "metadata": {},
   "outputs": [],
   "source": [
    "lnp_nospl_best = lnp_nospl[np.argmax(lnp_nospl_metric)]\n",
    "lnln_nospl_best = lnln_nospl[np.argmax(lnln_nospl_metric)]"
   ]
  },
  {
   "cell_type": "code",
   "execution_count": 23,
   "metadata": {},
   "outputs": [],
   "source": [
    "def plot_vanilla(lnp0, lnln0, dt=None, shift=None, title=None, response_type='spike', len_time=1, contour=None, figsize=None):\n",
    "    \n",
    "    from rfest.utils import get_spatial_and_temporal_filters\n",
    "    import matplotlib.gridspec as gridspec\n",
    "    import warnings\n",
    "    warnings.filterwarnings(\"ignore\")\n",
    "    \n",
    "    dims = lnln0.dims\n",
    "    dt = lnln0.dt if dt is None else dt\n",
    "    shift = 0 if shift is None else -shift\n",
    "    t_tRF = np.linspace(-(dims[0]-shift)*dt, shift*dt, dims[0]+1)[1:]\n",
    "\n",
    "    fig = plt.figure(figsize=figsize) if figsize is not None else (12,4)\n",
    "    \n",
    "    for counter, (lnp, lnln) in enumerate([(lnp0, lnln0)]):\n",
    "        \n",
    "        (idx0, idx1) = (0, 1) if counter == 0 else (2, 3)\n",
    "\n",
    "#         ws = uvec(lnln.w_opt)\n",
    "        ws = lnln.w_opt\n",
    "        num_subunits = ws.shape[1]\n",
    "\n",
    "        sRFs_max = []\n",
    "        sRFs_min = []\n",
    "        tRFs = []\n",
    "        for i in range(num_subunits):\n",
    "            w = ws[:, i].reshape(dims)\n",
    "            sRF, tRF = get_spatial_and_temporal_filters(w, dims)\n",
    "\n",
    "            ref = [sRF[2:, 2:].max(), sRF[2:, 2:].min()][np.argmax([np.abs(sRF.max()), np.abs(sRF.min())])]\n",
    "            max_coord = np.where(sRF == ref)\n",
    "            tRF = w[:, max_coord[0], max_coord[1]].flatten()\n",
    "            tRF_max = np.argmax(tRF)\n",
    "            sRF_max = w[tRF_max]\n",
    "            sRFs_max.append(sRF_max)\n",
    "            tRF_min = np.argmin(tRF)\n",
    "            sRF_min = w[tRF_min]\n",
    "            sRFs_min.append(sRF_min)\n",
    "            tRFs.append(tRF)\n",
    "\n",
    "        sRFs_max = np.stack(sRFs_max)\n",
    "        sRFs_min = np.stack(sRFs_min)\n",
    "\n",
    "        vmax = np.max([np.abs(sRFs_max.max()), np.abs(sRFs_max.min()), np.abs(sRFs_min.max()), np.abs(sRFs_min.min())])\n",
    "\n",
    "        ncols = num_subunits\n",
    "        ncols += 2 # add lnp\n",
    "        nrows = 4\n",
    "\n",
    "        spec = gridspec.GridSpec(ncols=ncols, nrows=nrows, figure=fig)  \n",
    "        axs = []\n",
    "        ax_sRF_mins= []\n",
    "        ax_sRF_maxs = []    \n",
    "\n",
    "        # LNP\n",
    "        w_lnp = lnp.w_opt.reshape(dims)\n",
    "        vmax_lnp = np.max([np.abs(w_lnp.max()), np.abs(w_lnp.min())])\n",
    "        sRF_lnp, tRF_lnp = get_spatial_and_temporal_filters(w_lnp, dims)\n",
    "        ref = [sRF_lnp[2:, 2:].max(), sRF_lnp[2:, 2:].min()][np.argmax([np.abs(sRF_lnp.max()), np.abs(sRF_lnp.min())])]\n",
    "        max_coord = np.where(sRF_lnp == ref)\n",
    "        tRF_lnp = w_lnp[:, max_coord[0], max_coord[1]].flatten()\n",
    "        tRF_max = np.argmax(tRF_lnp)\n",
    "        sRF_max = w_lnp[tRF_max]\n",
    "        tRF_min = np.argmin(tRF_lnp)\n",
    "        sRF_min = w_lnp[tRF_min]\n",
    "\n",
    "        ax_sRF_min = fig.add_subplot(spec[0, 0])       \n",
    "        ax_sRF_min.imshow(sRF_min, cmap=plt.cm.bwr, vmax=vmax_lnp, vmin=-vmax_lnp, aspect='auto')\n",
    "        ax_sRF_min.set_xticks([])\n",
    "        ax_sRF_min.set_yticks([])\n",
    "        \n",
    "        ax_sRF_max = fig.add_subplot(spec[1, 0])       \n",
    "        ax_sRF_max.imshow(sRF_max, cmap=plt.cm.bwr, vmax=vmax_lnp, vmin=-vmax_lnp, aspect='auto')\n",
    "        ax_sRF_max.set_xticks([])\n",
    "        ax_sRF_max.set_yticks([])\n",
    "        \n",
    "        if counter == 0:\n",
    "            ax_sRF_min.set_title(f'LNP')\n",
    "\n",
    "        if counter == 0:\n",
    "            ax_sRF_min.set_ylabel('No Spline')\n",
    "        else:\n",
    "            ax_sRF_min.set_ylabel('Spline')\n",
    "            \n",
    "        ax_sRF_mins.append(ax_sRF_min)\n",
    "        \n",
    "        ax_tRF = fig.add_subplot(spec[2, 0])       \n",
    "        ax_tRF.plot(t_tRF, tRF_lnp, color='black')\n",
    "        ax_tRF.spines['top'].set_visible(False)\n",
    "        ax_tRF.spines['right'].set_visible(False)\n",
    "#         ax_tRF.set_yticks([])\n",
    "#         ax_tRF.set_xticks([])\n",
    "        ax_tRF.set_xlabel('Time Lag (s)', fontsize=14)\n",
    "#         tRF_max = np.argmax(tRFs[i])\n",
    "        tRF_min = np.argmin(tRF_lnp)\n",
    "#         ax_tRF.axvline(t_tRF[tRF_max], color='C3', linestyle='--', alpha=0.6)\n",
    "        ax_tRF.axvline(t_tRF[tRF_min], color='C0', linestyle='--', alpha=0.6)\n",
    "    \n",
    "        vmax_tRF = np.max([np.abs(w_lnp.min()), np.abs(w_lnp.max()), np.abs(ws.min()), np.abs(ws.max())])\n",
    "        ax_tRF.set_ylim(-vmax_tRF, vmax_tRF)\n",
    "        # LNLN subunits\n",
    "\n",
    "        for i in range(num_subunits):\n",
    "            ax_sRF_min = fig.add_subplot(spec[0, i+1])       \n",
    "            ax_sRF_min.imshow(sRFs_min[i], cmap=plt.cm.bwr, vmax=vmax, vmin=-vmax, aspect='auto')\n",
    "            ax_sRF_min.set_xticks([])\n",
    "            ax_sRF_min.set_yticks([])\n",
    "            \n",
    "            ax_sRF_max = fig.add_subplot(spec[1, i+1])       \n",
    "            ax_sRF_max.imshow(sRFs_max[i], cmap=plt.cm.bwr, vmax=vmax, vmin=-vmax, aspect='auto')\n",
    "            ax_sRF_max.set_xticks([])\n",
    "            ax_sRF_max.set_yticks([])\n",
    "            if i == 0 and counter == 0:\n",
    "                ax_sRF_min.set_title(f'LNLN')\n",
    "\n",
    "            ax_sRF_mins.append(ax_sRF_min)\n",
    "            \n",
    "            ax_tRF = fig.add_subplot(spec[2, i+1])       \n",
    "            ax_tRF.plot(t_tRF, tRFs[i], color='black')\n",
    "            ax_tRF.spines['top'].set_visible(False)\n",
    "            ax_tRF.spines['right'].set_visible(False)\n",
    "            ax_tRF.set_yticks([]) \n",
    "            \n",
    "    #         tRF_max = np.argmax(tRFs[i])\n",
    "            tRF_min = np.argmin(tRFs[i])\n",
    "        \n",
    "    #         ax_tRF.axvline(t_tRF[tRF_max], color='C3', linestyle='--', alpha=0.6)\n",
    "            ax_tRF.axvline(t_tRF[tRF_min], color='C0', linestyle='--', alpha=0.6)\n",
    "            ax_tRF.set_ylim(-vmax_tRF, vmax_tRF)\n",
    "#             ax_tRF.set_ylim(-0.1, 0.1)\n",
    "\n",
    "\n",
    "        if contour is not None and counter == 1: # then plot contour\n",
    "\n",
    "            for i in range(num_subunits+1):\n",
    "\n",
    "                color_min = 'black' if i == 0 else 'lightsteelblue'\n",
    "                color_max = 'black' if i == 0 else 'lightcoral'\n",
    "\n",
    "                ax_sRF_mins[i].contour(sRF_min, levels=[-contour], colors=[color_min], linestyles=['-'], alpha=1)\n",
    "\n",
    "                for j in range(num_subunits):\n",
    "                    if i-1 != j:\n",
    "                        color = 'grey'\n",
    "                        alpha = 0.5\n",
    "                        style = '--'                    \n",
    "                    else:\n",
    "                        color = 'black'\n",
    "                        alpha = 1\n",
    "                        style = '--'\n",
    "                    ax_sRF_mins[i].contour(sRFs_min[j], levels=[-contour], colors=[color], linestyles=[style], alpha=alpha)\n",
    "            \n",
    "    plt.subplots_adjust(wspace=0.5)\n",
    "\n",
    "\n",
    "\n",
    "\n"
   ]
  },
  {
   "cell_type": "code",
   "execution_count": 24,
   "metadata": {},
   "outputs": [
    {
     "data": {
      "image/png": "[encoded data removed]",
      "text/plain": [
       "<Figure size 864x504 with 15 Axes>"
      ]
     },
     "metadata": {
      "needs_background": "light"
     },
     "output_type": "display_data"
    }
   ],
   "source": [
    "plot_vanilla(lnp_nospl_best, lnln_nospl_best, figsize=(12, 3.5*2))\n",
    "# plt.savefig('figs/Figure8b1.pdf')"
   ]
  },
  {
   "cell_type": "code",
   "execution_count": 25,
   "metadata": {},
   "outputs": [],
   "source": [
    "div = int(X_test.shape[0]/4)\n",
    "cc_test_vanilla = np.array([[m.score(X_test[i*div:(i+1)*div], y_test[i*div:(i+1)*div]) for m in [lnp_nospl_best, lnln_nospl_best]] for i in range(4)])"
   ]
  },
  {
   "cell_type": "code",
   "execution_count": 26,
   "metadata": {},
   "outputs": [
    {
     "data": {
      "text/plain": [
       "array([[0.11237787, 0.10017895],\n",
       "       [0.12187291, 0.19099434],\n",
       "       [0.27587909, 0.35431198],\n",
       "       [0.25295237, 0.27356057]])"
      ]
     },
     "execution_count": 26,
     "metadata": {},
     "output_type": "execute_result"
    }
   ],
   "source": [
    "cc_test_vanilla"
   ]
  },
  {
   "cell_type": "markdown",
   "metadata": {},
   "source": [
    "### Select intial degrees of freedom based on cross-validated MLE prediction"
   ]
  },
  {
   "cell_type": "code",
   "execution_count": 5,
   "metadata": {},
   "outputs": [
    {
     "name": "stdout",
     "output_type": "stream",
     "text": [
      "SUMMARY\n",
      "               N    Minutes   Fraction\n",
      "Total      37531      20.02        1.0\n",
      "Train      18769      10.01        0.5\n",
      "Dev         3750        2.0        0.1\n",
      "Test       15012       8.01        0.4\n"
     ]
    }
   ],
   "source": [
    "i = 2\n",
    "X, y, dt = upsample_data(stim, triggertime[:], trace[:, i], tracetime[:, i])\n",
    "(X_train, y_train), (X_dev, y_dev), (X_test, y_test) = split_data(X, np.maximum(0, gaussian_filter(y, sigma=2, truncate=0.25)), dt, \n",
    "                                                                  frac_train=0.5, frac_dev=0.1, verbose=1)"
   ]
  },
  {
   "cell_type": "code",
   "execution_count": 6,
   "metadata": {},
   "outputs": [],
   "source": [
    "def build_model(df):\n",
    "    \n",
    "    m = GLM(distr='poisson', output_nonlinearity='softplus')\n",
    "    m.add_design_matrix(X_train, dims=dims, df=df, smooth='cr', filter_nonlinearity='softplus', name='stimulus') # light stimulus\n",
    "    m.add_design_matrix(X_dev, dims=dims, name='stimulus', kind='dev')\n",
    "    m.initialize({'train': y_train, 'dev': y_dev}, num_subunits=1, dt=dt, method='mle', random_seed=2046)\n",
    "    \n",
    "    return m"
   ]
  },
  {
   "cell_type": "code",
   "execution_count": 12,
   "metadata": {},
   "outputs": [
    {
     "data": {
      "text/plain": [
       "(array([9., 5., 5.]), array([17., 10., 10.]))"
      ]
     },
     "execution_count": 12,
     "metadata": {},
     "output_type": "execute_result"
    }
   ],
   "source": [
    "dims = np.array([25, 15, 15])\n",
    "np.ceil(dims * 1 / 3), np.ceil(dims * 2 / 3)"
   ]
  },
  {
   "cell_type": "code",
   "execution_count": 8,
   "metadata": {},
   "outputs": [
    {
     "data": {
      "text/plain": [
       "(9.0, 17.0)"
      ]
     },
     "execution_count": 8,
     "metadata": {},
     "output_type": "execute_result"
    }
   ],
   "source": [
    "np.ceil(25 * 1 / 3), np.ceil(25 * 2 / 3)"
   ]
  },
  {
   "cell_type": "code",
   "execution_count": 99,
   "metadata": {},
   "outputs": [
    {
     "data": {
      "text/plain": [
       "(array([9., 5., 5.]), array([16., 10., 10.]))"
      ]
     },
     "execution_count": 99,
     "metadata": {},
     "output_type": "execute_result"
    }
   ],
   "source": [
    "np.ceil(np.array(dims) * 1 / 3), np.floor(np.array(dims) * 2 / 3), "
   ]
  },
  {
   "cell_type": "code",
   "execution_count": 100,
   "metadata": {},
   "outputs": [
    {
     "data": {
      "text/plain": [
       "(8, 6)"
      ]
     },
     "execution_count": 100,
     "metadata": {},
     "output_type": "execute_result"
    }
   ],
   "source": [
    "import time\n",
    "dfts = np.arange(9, 16+1, 1)\n",
    "dfss = np.arange(5, 10+1, 1)\n",
    "\n",
    "len(dfts), len(dfss)"
   ]
  },
  {
   "cell_type": "code",
   "execution_count": 101,
   "metadata": {},
   "outputs": [
    {
     "name": "stdout",
     "output_type": "stream",
     "text": [
      "{'df': [9, 5, 5], 'metric': 0.10638344155756767, 'time': 1.5557570457458496}\n",
      "{'df': [9, 6, 6], 'metric': 0.11341830613640805, 'time': 1.5808041095733643}\n",
      "{'df': [9, 7, 7], 'metric': 0.1337821482703908, 'time': 2.025920867919922}\n",
      "{'df': [9, 8, 8], 'metric': 0.16857455425191678, 'time': 2.4060518741607666}\n",
      "{'df': [9, 9, 9], 'metric': 0.17661477307248993, 'time': 2.7879629135131836}\n",
      "{'df': [9, 10, 10], 'metric': 0.17537062020695776, 'time': 3.357599973678589}\n",
      "{'df': [10, 5, 5], 'metric': 0.10274273425130864, 'time': 1.4789440631866455}\n",
      "{'df': [10, 6, 6], 'metric': 0.1112902517830275, 'time': 1.7820591926574707}\n",
      "{'df': [10, 7, 7], 'metric': 0.1328351293330245, 'time': 2.103715658187866}\n",
      "{'df': [10, 8, 8], 'metric': 0.16904913252125686, 'time': 2.567078113555908}\n",
      "{'df': [10, 9, 9], 'metric': 0.1775352584171631, 'time': 3.067823648452759}\n",
      "{'df': [10, 10, 10], 'metric': 0.17626271956650316, 'time': 3.7978460788726807}\n",
      "{'df': [11, 5, 5], 'metric': 0.10099457848277438, 'time': 1.5497841835021973}\n",
      "{'df': [11, 6, 6], 'metric': 0.10941117997442013, 'time': 1.8620169162750244}\n",
      "{'df': [11, 7, 7], 'metric': 0.13294489086820585, 'time': 2.2716071605682373}\n",
      "{'df': [11, 8, 8], 'metric': 0.16921349351062176, 'time': 2.722743034362793}\n",
      "{'df': [11, 9, 9], 'metric': 0.1777331370111188, 'time': 3.3699100017547607}\n",
      "{'df': [11, 10, 10], 'metric': 0.1758086934543529, 'time': 4.317925214767456}\n",
      "{'df': [12, 5, 5], 'metric': 0.10368697783711417, 'time': 1.6329500675201416}\n",
      "{'df': [12, 6, 6], 'metric': 0.1131692493583447, 'time': 1.9798431396484375}\n",
      "{'df': [12, 7, 7], 'metric': 0.13536855354384097, 'time': 2.398336172103882}\n",
      "{'df': [12, 8, 8], 'metric': 0.17081797409074484, 'time': 3.0517659187316895}\n",
      "{'df': [12, 9, 9], 'metric': 0.1785021335676396, 'time': 3.8390190601348877}\n",
      "{'df': [12, 10, 10], 'metric': 0.1765022690329417, 'time': 4.839075803756714}\n",
      "{'df': [13, 5, 5], 'metric': 0.10233039445971473, 'time': 1.5658621788024902}\n",
      "{'df': [13, 6, 6], 'metric': 0.11209077115825378, 'time': 1.917043924331665}\n",
      "{'df': [13, 7, 7], 'metric': 0.13462382688218488, 'time': 2.4703898429870605}\n",
      "{'df': [13, 8, 8], 'metric': 0.17067679805699343, 'time': 3.3331990242004395}\n",
      "{'df': [13, 9, 9], 'metric': 0.1783499159030415, 'time': 4.256098985671997}\n",
      "{'df': [13, 10, 10], 'metric': 0.17586089726849383, 'time': 5.792695999145508}\n",
      "{'df': [14, 5, 5], 'metric': 0.10054886149653358, 'time': 1.661818265914917}\n",
      "{'df': [14, 6, 6], 'metric': 0.11044676953526836, 'time': 2.2564709186553955}\n",
      "{'df': [14, 7, 7], 'metric': 0.13331159868525125, 'time': 2.7113959789276123}\n",
      "{'df': [14, 8, 8], 'metric': 0.1694649601404937, 'time': 3.4939887523651123}\n",
      "{'df': [14, 9, 9], 'metric': 0.1760170232511357, 'time': 4.53042197227478}\n",
      "{'df': [14, 10, 10], 'metric': 0.1734339470761674, 'time': 5.7328948974609375}\n",
      "{'df': [15, 5, 5], 'metric': 0.0999402951927112, 'time': 1.841097116470337}\n",
      "{'df': [15, 6, 6], 'metric': 0.10992744308896413, 'time': 2.262140989303589}\n",
      "{'df': [15, 7, 7], 'metric': 0.1329088670929996, 'time': 2.6930527687072754}\n",
      "{'df': [15, 8, 8], 'metric': 0.16894822450772526, 'time': 3.7110180854797363}\n",
      "{'df': [15, 9, 9], 'metric': 0.17513563353862985, 'time': 4.83304500579834}\n",
      "{'df': [15, 10, 10], 'metric': 0.17271431868885326, 'time': 6.338177919387817}\n",
      "{'df': [16, 5, 5], 'metric': 0.09925935604561126, 'time': 1.8291559219360352}\n",
      "{'df': [16, 6, 6], 'metric': 0.10973552869024693, 'time': 2.3362061977386475}\n",
      "{'df': [16, 7, 7], 'metric': 0.13249634038254615, 'time': 2.906113862991333}\n",
      "{'df': [16, 8, 8], 'metric': 0.16849079808702794, 'time': 3.946547031402588}\n",
      "{'df': [16, 9, 9], 'metric': 0.1746909837885681, 'time': 4.955203056335449}\n",
      "{'df': [16, 10, 10], 'metric': 0.17231303621236777, 'time': 7.021282196044922}\n"
     ]
    }
   ],
   "source": [
    "ms = []\n",
    "results = {}\n",
    "i = 0\n",
    "heatmap = np.zeros([len(dfts), len(dfss)])\n",
    "for ii, dft in enumerate(dfts):\n",
    "    for jj, dfs in enumerate(dfss):\n",
    "        df = [dft, dfs, dfs]\n",
    "        time_start= time.time()\n",
    "        m = build_model(df)\n",
    "        time_elapsed = time.time() - time_start\n",
    "        metric_dev = m._score(m.y['dev'], m.forwardpass(m.p['mle'], 'dev'), 'corrcoef')\n",
    "        \n",
    "        heatmap[ii, jj] = metric_dev\n",
    "        \n",
    "        results[i] = {'df': df, 'metric': metric_dev, 'time': time_elapsed}\n",
    "        print(results[i])\n",
    "        i+= 1"
   ]
  },
  {
   "cell_type": "code",
   "execution_count": 39,
   "metadata": {},
   "outputs": [],
   "source": []
  },
  {
   "cell_type": "code",
   "execution_count": 102,
   "metadata": {},
   "outputs": [
    {
     "data": {
      "text/plain": [
       "2.4456976850827536"
      ]
     },
     "execution_count": 102,
     "metadata": {},
     "output_type": "execute_result"
    }
   ],
   "source": [
    "np.sum([results[i]['time'] for i in range(len(results))]) / 60"
   ]
  },
  {
   "cell_type": "code",
   "execution_count": 105,
   "metadata": {},
   "outputs": [
    {
     "data": {
      "image/png": "[encoded data removed]",
      "text/plain": [
       "<Figure size 576x576 with 2 Axes>"
      ]
     },
     "metadata": {
      "needs_background": "light"
     },
     "output_type": "display_data"
    }
   ],
   "source": [
    "max_y, max_x = np.where(heatmap.max() == heatmap)\n",
    "# max_y = 2\n",
    "# max_x = 4\n",
    "fig, ax = plt.subplots(figsize=(8,8))\n",
    "cbar = ax.imshow(heatmap, cmap=plt.cm.Blues, origin='lower')\n",
    "ax.set_xticklabels(np.hstack([0, dfss]), fontsize=14)\n",
    "ax.set_yticklabels(np.hstack([0, dfts]), fontsize=14)\n",
    "ax.scatter(max_x, max_y, color='red', marker='x', s=80)\n",
    "ax.set_xlabel('$df$ for Spatial Dimenstion', fontsize=18)\n",
    "ax.set_ylabel('$df$ for Temporal Dimenstion', fontsize=18)\n",
    "fig.colorbar(cbar)\n",
    "ax.set_title('Data set (2)', fontsize=20)\n",
    "# cbar.set_label('CV performance')\n",
    "fig.savefig('figs/Figure_CV_b.pdf')"
   ]
  },
  {
   "cell_type": "code",
   "execution_count": 84,
   "metadata": {},
   "outputs": [
    {
     "name": "stdout",
     "output_type": "stream",
     "text": [
      "Iters\t  Time (s)\tCost (train)\tCost (dev)\tcorrcoef (train)\tcorrcoef (dev)\n",
      "    0\t     1.319\t 21276.103\t  4004.308\t     0.064\t     0.054\n",
      "  100\t     4.590\t  3647.826\t   716.140\t     0.662\t     0.298\n",
      "  200\t     7.881\t  3617.532\t   716.489\t     0.667\t     0.289\n",
      "  300\t    11.162\t  3616.994\t   717.455\t     0.668\t     0.288\n",
      "  400\t    15.366\t  3617.174\t   717.870\t     0.668\t     0.286\n",
      "Stop at 421 steps: cost (dev) has been monotonically increasing for 10 steps.\n",
      "\n",
      "0.5 0.2947700992902636\n",
      "Iters\t  Time (s)\tCost (train)\tCost (dev)\tcorrcoef (train)\tcorrcoef (dev)\n",
      "    0\t     1.379\t 21285.973\t  4003.210\t     0.066\t     0.057\n",
      "  100\t     4.715\t  3670.149\t   713.314\t     0.653\t     0.311\n",
      "  200\t     8.032\t  3642.456\t   712.532\t     0.656\t     0.304\n",
      "  300\t    11.362\t  3641.918\t   713.693\t     0.657\t     0.300\n",
      "  400\t    15.635\t  3642.139\t   713.584\t     0.656\t     0.302\n",
      "  500\t    19.905\t  3642.143\t   713.848\t     0.657\t     0.301\n",
      "  600\t    24.114\t  3642.339\t   713.594\t     0.656\t     0.302\n",
      "  700\t    28.331\t  3642.342\t   713.838\t     0.657\t     0.301\n",
      "  800\t    32.555\t  3642.191\t   713.702\t     0.657\t     0.300\n",
      "  900\t    36.761\t  3642.186\t   713.480\t     0.656\t     0.301\n",
      " 1000\t    40.977\t  3642.480\t   713.688\t     0.657\t     0.301\n",
      " 1100\t    45.188\t  3642.450\t   713.518\t     0.657\t     0.299\n",
      " 1200\t    49.391\t  3642.477\t   713.533\t     0.656\t     0.302\n",
      " 1300\t    53.642\t  3642.409\t   713.687\t     0.657\t     0.301\n",
      " 1400\t    57.864\t  3642.870\t   713.531\t     0.657\t     0.301\n",
      "Stop: reached 1500 steps.\n",
      "\n",
      "0.6 0.3076724094178344\n",
      "Iters\t  Time (s)\tCost (train)\tCost (dev)\tcorrcoef (train)\tcorrcoef (dev)\n",
      "    0\t     1.320\t 21295.844\t  4003.688\t     0.065\t     0.055\n",
      "  100\t     4.598\t  3690.829\t   710.758\t     0.643\t     0.322\n",
      "  200\t     7.874\t  3664.816\t   709.171\t     0.646\t     0.319\n",
      "  300\t    11.137\t  3664.078\t   710.339\t     0.646\t     0.315\n",
      "  400\t    15.313\t  3664.637\t   710.276\t     0.646\t     0.315\n",
      "  500\t    19.487\t  3664.482\t   710.477\t     0.645\t     0.313\n",
      "  600\t    23.640\t  3664.823\t   710.133\t     0.646\t     0.317\n",
      "  700\t    27.821\t  3664.692\t   710.027\t     0.646\t     0.315\n",
      "  800\t    31.999\t  3665.040\t   710.187\t     0.647\t     0.316\n",
      "  900\t    36.166\t  3665.039\t   710.231\t     0.646\t     0.315\n",
      " 1000\t    40.338\t  3665.192\t   709.863\t     0.646\t     0.318\n",
      " 1100\t    44.511\t  3665.176\t   709.822\t     0.647\t     0.315\n",
      " 1200\t    48.673\t  3665.198\t   709.750\t     0.646\t     0.317\n",
      " 1300\t    52.827\t  3665.352\t   709.884\t     0.646\t     0.316\n",
      "Stop at 1329 steps: cost (dev) has been monotonically increasing for 10 steps.\n",
      "\n",
      "0.7 0.31927503020031245\n",
      "Iters\t  Time (s)\tCost (train)\tCost (dev)\tcorrcoef (train)\tcorrcoef (dev)\n",
      "    0\t     1.245\t 21305.715\t  4002.980\t     0.066\t     0.059\n",
      "  100\t     4.550\t  3709.481\t   708.876\t     0.633\t     0.332\n",
      "  200\t     7.801\t  3684.689\t   706.501\t     0.635\t     0.330\n",
      "  300\t    11.064\t  3684.784\t   707.007\t     0.634\t     0.329\n",
      "  400\t    15.322\t  3684.852\t   707.474\t     0.636\t     0.326\n",
      "  500\t    19.644\t  3684.742\t   707.309\t     0.635\t     0.328\n",
      "  600\t    23.950\t  3684.937\t   706.983\t     0.635\t     0.327\n",
      "Stop at 630 steps: cost (dev) has been monotonically increasing for 10 steps.\n",
      "\n",
      "0.7999999999999999 0.32932697148009543\n",
      "Iters\t  Time (s)\tCost (train)\tCost (dev)\tcorrcoef (train)\tcorrcoef (dev)\n",
      "    0\t     1.329\t 21315.586\t  4002.090\t     0.070\t     0.057\n",
      "  100\t     4.672\t  3726.870\t   707.443\t     0.622\t     0.340\n",
      "  200\t     7.977\t  3703.241\t   704.813\t     0.626\t     0.337\n",
      "  300\t    11.247\t  3703.416\t   705.050\t     0.624\t     0.337\n",
      "  400\t    15.370\t  3703.562\t   705.479\t     0.626\t     0.335\n",
      "Stop at 498 steps: cost (dev) has been monotonically increasing for 10 steps.\n",
      "\n",
      "0.8999999999999999 0.34005965117081893\n",
      "Iters\t  Time (s)\tCost (train)\tCost (dev)\tcorrcoef (train)\tcorrcoef (dev)\n",
      "    0\t     1.405\t 21325.457\t  4001.734\t     0.069\t     0.055\n",
      "  100\t     4.658\t  3742.483\t   706.189\t     0.614\t     0.346\n",
      "  200\t     7.947\t  3720.819\t   703.650\t     0.617\t     0.343\n",
      "  300\t    11.311\t  3720.501\t   703.758\t     0.615\t     0.342\n",
      "  400\t    15.550\t  3720.128\t   704.012\t     0.617\t     0.343\n",
      "  500\t    19.786\t  3720.899\t   703.903\t     0.617\t     0.342\n",
      "  600\t    24.024\t  3720.956\t   703.326\t     0.617\t     0.346\n",
      "  700\t    28.306\t  3720.925\t   703.830\t     0.617\t     0.344\n",
      "  800\t    32.558\t  3721.399\t   703.969\t     0.616\t     0.342\n",
      "  900\t    36.597\t  3721.484\t   703.778\t     0.616\t     0.342\n",
      " 1000\t    40.763\t  3721.300\t   703.157\t     0.617\t     0.347\n",
      "Stop at 1011 steps: cost (dev) has been monotonically increasing for 10 steps.\n",
      "\n",
      "0.9999999999999999 0.3492117700114286\n",
      "Iters\t  Time (s)\tCost (train)\tCost (dev)\tcorrcoef (train)\tcorrcoef (dev)\n",
      "    0\t     1.373\t 21335.327\t  4001.651\t     0.069\t     0.061\n",
      "  100\t     4.692\t  3757.210\t   705.075\t     0.606\t     0.351\n",
      "  200\t     7.943\t  3735.984\t   702.008\t     0.608\t     0.352\n",
      "  300\t    11.262\t  3736.384\t   702.685\t     0.609\t     0.348\n",
      "  400\t    15.494\t  3736.734\t   702.507\t     0.608\t     0.347\n",
      "  500\t    19.741\t  3736.326\t   702.028\t     0.608\t     0.353\n",
      "  600\t    23.948\t  3736.653\t   702.576\t     0.608\t     0.348\n",
      "  700\t    28.253\t  3737.175\t   702.527\t     0.610\t     0.350\n",
      "Stop at 701 steps: cost (dev) has been monotonically increasing for 10 steps.\n",
      "\n",
      "1.0999999999999999 0.3558542939452908\n",
      "Iters\t  Time (s)\tCost (train)\tCost (dev)\tcorrcoef (train)\tcorrcoef (dev)\n",
      "    0\t     1.374\t 21345.198\t  4001.130\t     0.071\t     0.062\n",
      "  100\t     4.725\t  3771.140\t   704.577\t     0.600\t     0.355\n",
      "  200\t     8.072\t  3751.131\t   701.020\t     0.600\t     0.355\n",
      "  300\t    11.397\t  3750.754\t   701.212\t     0.602\t     0.354\n",
      "  400\t    15.482\t  3751.863\t   700.855\t     0.601\t     0.355\n",
      "  500\t    19.587\t  3751.573\t   701.435\t     0.603\t     0.353\n",
      "Stop at 545 steps: cost (dev) has been monotonically increasing for 10 steps.\n",
      "\n",
      "1.1999999999999997 0.3578733405003549\n",
      "Iters\t  Time (s)\tCost (train)\tCost (dev)\tcorrcoef (train)\tcorrcoef (dev)\n",
      "    0\t     1.392\t 21355.069\t  4000.832\t     0.070\t     0.064\n",
      "  100\t     4.738\t  3784.355\t   703.832\t     0.594\t     0.362\n",
      "  200\t     8.065\t  3765.307\t   700.511\t     0.594\t     0.357\n",
      "  300\t    11.289\t  3764.637\t   700.453\t     0.595\t     0.357\n",
      "  400\t    15.361\t  3765.651\t   700.390\t     0.596\t     0.358\n",
      "  500\t    19.585\t  3765.258\t   700.389\t     0.596\t     0.358\n",
      "  600\t    23.908\t  3765.833\t   700.280\t     0.594\t     0.359\n",
      "  700\t    28.179\t  3765.949\t   700.817\t     0.596\t     0.356\n",
      "  800\t    32.252\t  3765.827\t   699.709\t     0.596\t     0.361\n",
      "  900\t    36.493\t  3766.103\t   700.583\t     0.596\t     0.357\n",
      " 1000\t    40.820\t  3765.786\t   700.706\t     0.596\t     0.355\n",
      "Stop at 1014 steps: cost (dev) has been monotonically increasing for 10 steps.\n",
      "\n",
      "1.2999999999999998 0.36061799490494695\n",
      "Iters\t  Time (s)\tCost (train)\tCost (dev)\tcorrcoef (train)\tcorrcoef (dev)\n",
      "    0\t     1.430\t 21364.940\t  3999.597\t     0.072\t     0.059\n",
      "  100\t     4.725\t  3796.580\t   703.514\t     0.587\t     0.361\n",
      "  200\t     8.036\t  3778.207\t   700.199\t     0.589\t     0.357\n",
      "  300\t    11.279\t  3777.974\t   699.860\t     0.589\t     0.358\n",
      "Stop at 324 steps: cost (dev) has been monotonically increasing for 10 steps.\n",
      "\n",
      "1.4 0.3615047457689188\n"
     ]
    }
   ],
   "source": [
    "ms_lnpspl = []\n",
    "mdev_lnpspl = []\n",
    "lnp_spl_time = []\n",
    "df = [12, 9, 9]\n",
    "for beta in np.arange(0.5 , 1.5, .1):\n",
    "    \n",
    "    lnp_spl = GLM(distr='poisson', output_nonlinearity='softplus')\n",
    "    lnp_spl.add_design_matrix(X_train, dims=dims, df=df, smooth='cr', filter_nonlinearity='softplus', name='stimulus') # light stimulus\n",
    "    lnp_spl.add_design_matrix(X_dev, name='stimulus', kind='dev')\n",
    "    lnp_spl.initialize({'train': y_train, 'dev': y_dev}, num_subunits=1, dt=dt, method='mle', random_seed=2046)\n",
    "    lnp_spl.fit(num_iters=1500, verbose=100, step_size=0.1, beta=beta)\n",
    "    mdev_lnpspl.append(lnp_spl.metric_dev_opt)\n",
    "    ms_lnpspl.append(lnp_spl)\n",
    "    lnp_spl_time.append(lnp_spl.total_time_elapsed)\n",
    "    print(beta, mdev_lnpspl[-1])\n",
    "    plt.show()\n",
    "    \n",
    "    if (np.diff(mdev_lnpspl) > 0).all():\n",
    "        continue\n",
    "    else:\n",
    "        break"
   ]
  },
  {
   "cell_type": "code",
   "execution_count": 41,
   "metadata": {},
   "outputs": [
    {
     "data": {
      "text/plain": [
       "[<matplotlib.lines.Line2D at 0x7fb78c31c790>]"
      ]
     },
     "execution_count": 41,
     "metadata": {},
     "output_type": "execute_result"
    },
    {
     "data": {
      "image/png": "[encoded data removed]",
      "text/plain": [
       "<Figure size 432x288 with 1 Axes>"
      ]
     },
     "metadata": {
      "needs_background": "light"
     },
     "output_type": "display_data"
    }
   ],
   "source": [
    "plt.plot(mdev_lnpspl)"
   ]
  },
  {
   "cell_type": "code",
   "execution_count": 42,
   "metadata": {},
   "outputs": [],
   "source": [
    "lnp_nospl_time= [123.18076229095459,\n",
    "  234.6336898803711,\n",
    "  234.3747661113739,\n",
    "  231.87712717056274,\n",
    "  232.75508403778076]\n",
    "lnln_nospl_time=[128.9032781124115,\n",
    "  272.3973939418793,\n",
    "  287.16792488098145,\n",
    "  281.545068025589,\n",
    "  86.83727693557739]"
   ]
  },
  {
   "cell_type": "code",
   "execution_count": 43,
   "metadata": {},
   "outputs": [
    {
     "data": {
      "text/plain": [
       "array([24.97751999, 39.78730392, 22.27571201, 13.62859082, 12.8681159 ,\n",
       "       13.05415034, 12.15735793, 45.32645297, 14.0872941 ])"
      ]
     },
     "execution_count": 43,
     "metadata": {},
     "output_type": "execute_result"
    }
   ],
   "source": [
    "np.array(lnp_spl_time)"
   ]
  },
  {
   "cell_type": "code",
   "execution_count": 46,
   "metadata": {},
   "outputs": [
    {
     "name": "stdout",
     "output_type": "stream",
     "text": [
      "Iters\t  Time (s)\tCost (train)\tCost (dev)\tcorrcoef (train)\tcorrcoef (dev)\n",
      "    0\t     1.901\t 53500.782\t 10384.513\t     0.052\t     0.034\n",
      "  100\t    12.923\t  3906.320\t   756.635\t     0.613\t     0.303\n",
      "  200\t    23.960\t  3672.668\t   713.816\t     0.651\t     0.316\n",
      "  300\t    34.869\t  3615.354\t   709.973\t     0.698\t     0.323\n",
      "  400\t    46.872\t  3600.992\t   709.199\t     0.713\t     0.333\n",
      "  500\t    58.811\t  3596.652\t   709.767\t     0.719\t     0.334\n",
      "  600\t    70.680\t  3595.243\t   711.905\t     0.722\t     0.331\n",
      "  700\t    82.518\t  3595.121\t   712.635\t     0.722\t     0.332\n",
      "  800\t    94.378\t  3595.058\t   713.307\t     0.723\t     0.329\n",
      "  900\t   106.182\t  3595.463\t   713.161\t     0.722\t     0.331\n",
      " 1000\t   118.071\t  3595.972\t   713.917\t     0.723\t     0.328\n",
      " 1100\t   129.946\t  3596.021\t   713.483\t     0.723\t     0.328\n",
      " 1200\t   141.772\t  3595.990\t   713.531\t     0.724\t     0.328\n",
      "Stop at 1279 steps: cost (dev) has been monotonically increasing for 10 steps.\n",
      "\n",
      "0.5 0.3357273330452972\n",
      "Iters\t  Time (s)\tCost (train)\tCost (dev)\tcorrcoef (train)\tcorrcoef (dev)\n",
      "    0\t     1.922\t 53538.853\t 10386.510\t     0.052\t     0.033\n",
      "  100\t    12.934\t  3926.018\t   755.075\t     0.605\t     0.309\n",
      "  200\t    23.971\t  3701.224\t   711.252\t     0.636\t     0.326\n",
      "  300\t    35.151\t  3641.576\t   706.901\t     0.674\t     0.335\n",
      "  400\t    47.112\t  3631.853\t   705.276\t     0.684\t     0.349\n",
      "  500\t    59.176\t  3630.791\t   704.994\t     0.688\t     0.356\n",
      "  600\t    71.241\t  3630.640\t   704.985\t     0.690\t     0.356\n",
      "  700\t    83.210\t  3631.531\t   704.824\t     0.690\t     0.357\n",
      "  800\t    95.665\t  3631.732\t   704.767\t     0.691\t     0.361\n",
      "  900\t   107.806\t  3632.308\t   705.047\t     0.691\t     0.362\n",
      " 1000\t   119.797\t  3632.653\t   705.003\t     0.691\t     0.360\n",
      " 1100\t   131.808\t  3632.809\t   705.154\t     0.692\t     0.359\n",
      " 1200\t   143.803\t  3632.861\t   704.857\t     0.691\t     0.360\n",
      " 1300\t   155.815\t  3633.578\t   705.081\t     0.692\t     0.359\n",
      " 1400\t   167.805\t  3633.847\t   705.415\t     0.692\t     0.356\n",
      "Stop: reached 1500 steps.\n",
      "\n",
      "0.6 0.36325195265350363\n",
      "Iters\t  Time (s)\tCost (train)\tCost (dev)\tcorrcoef (train)\tcorrcoef (dev)\n",
      "    0\t     1.590\t 53576.923\t 10382.596\t     0.047\t     0.030\n",
      "  100\t    12.588\t  3944.427\t   753.414\t     0.595\t     0.315\n",
      "  200\t    23.672\t  3728.578\t   709.567\t     0.623\t     0.334\n",
      "  300\t    34.740\t  3677.264\t   706.507\t     0.659\t     0.333\n",
      "  400\t    46.800\t  3664.090\t   703.955\t     0.667\t     0.351\n",
      "  500\t    58.815\t  3662.363\t   702.368\t     0.671\t     0.363\n",
      "  600\t    70.851\t  3662.275\t   702.433\t     0.674\t     0.366\n",
      "  700\t    82.787\t  3662.737\t   702.548\t     0.673\t     0.365\n",
      "  800\t    94.746\t  3663.604\t   702.006\t     0.675\t     0.368\n",
      "  900\t   106.686\t  3663.667\t   703.473\t     0.675\t     0.363\n",
      " 1000\t   118.610\t  3664.286\t   702.303\t     0.675\t     0.366\n",
      " 1100\t   130.542\t  3664.522\t   702.153\t     0.675\t     0.366\n",
      " 1200\t   142.464\t  3664.627\t   702.158\t     0.676\t     0.371\n",
      " 1300\t   154.396\t  3664.592\t   702.678\t     0.676\t     0.366\n",
      " 1400\t   166.356\t  3664.845\t   702.655\t     0.675\t     0.367\n",
      "Stop: reached 1500 steps.\n",
      "\n",
      "0.7 0.36995518513439773\n",
      "Iters\t  Time (s)\tCost (train)\tCost (dev)\tcorrcoef (train)\tcorrcoef (dev)\n",
      "    0\t     1.597\t 53614.993\t 10378.699\t     0.049\t     0.031\n",
      "  100\t    12.632\t  3961.919\t   751.787\t     0.587\t     0.322\n",
      "  200\t    23.662\t  3751.879\t   708.472\t     0.613\t     0.340\n",
      "  300\t    34.702\t  3700.551\t   704.237\t     0.647\t     0.345\n",
      "  400\t    46.686\t  3691.557\t   702.529\t     0.653\t     0.356\n",
      "  500\t    58.709\t  3690.761\t   701.149\t     0.657\t     0.367\n",
      "  600\t    70.680\t  3690.397\t   700.507\t     0.658\t     0.371\n",
      "  700\t    82.657\t  3691.710\t   700.767\t     0.660\t     0.368\n",
      "  800\t    94.700\t  3691.622\t   700.550\t     0.659\t     0.371\n",
      "  900\t   106.664\t  3691.939\t   700.220\t     0.660\t     0.373\n",
      " 1000\t   118.631\t  3692.567\t   700.463\t     0.660\t     0.372\n",
      " 1100\t   130.587\t  3693.001\t   700.890\t     0.660\t     0.366\n",
      " 1200\t   142.583\t  3692.901\t   700.645\t     0.661\t     0.372\n",
      " 1300\t   154.664\t  3693.380\t   700.557\t     0.661\t     0.369\n",
      " 1400\t   167.658\t  3693.325\t   700.708\t     0.661\t     0.368\n",
      "Stop: reached 1500 steps.\n",
      "\n",
      "0.7999999999999999 0.37452834581327676\n",
      "Iters\t  Time (s)\tCost (train)\tCost (dev)\tcorrcoef (train)\tcorrcoef (dev)\n",
      "    0\t     1.746\t 53653.064\t 10381.109\t     0.050\t     0.030\n",
      "  100\t    12.850\t  3978.802\t   750.714\t     0.580\t     0.327\n",
      "  200\t    23.956\t  3768.940\t   707.001\t     0.608\t     0.348\n",
      "  300\t    35.094\t  3720.449\t   702.197\t     0.637\t     0.359\n",
      "  400\t    47.181\t  3716.081\t   701.297\t     0.641\t     0.361\n",
      "  500\t    59.345\t  3716.454\t   701.092\t     0.643\t     0.360\n",
      "  600\t    71.217\t  3716.667\t   700.762\t     0.645\t     0.360\n",
      "  700\t    83.113\t  3717.099\t   700.218\t     0.645\t     0.365\n",
      "  800\t    94.965\t  3717.284\t   699.767\t     0.645\t     0.372\n",
      "  900\t   106.837\t  3718.410\t   700.573\t     0.647\t     0.364\n",
      " 1000\t   118.673\t  3718.325\t   700.128\t     0.647\t     0.368\n",
      " 1100\t   130.510\t  3718.607\t   700.316\t     0.648\t     0.370\n",
      " 1200\t   142.355\t  3718.884\t   700.306\t     0.648\t     0.367\n",
      " 1300\t   154.147\t  3719.738\t   699.785\t     0.647\t     0.369\n",
      " 1400\t   165.990\t  3719.627\t   699.365\t     0.647\t     0.374\n",
      "Stop: reached 1500 steps.\n",
      "\n",
      "0.8999999999999999 0.3760336543151102\n",
      "Iters\t  Time (s)\tCost (train)\tCost (dev)\tcorrcoef (train)\tcorrcoef (dev)\n",
      "    0\t     1.822\t 53691.134\t 10380.078\t     0.050\t     0.029\n",
      "  100\t    12.855\t  3993.772\t   749.443\t     0.574\t     0.332\n",
      "  200\t    23.866\t  3792.094\t   707.217\t     0.597\t     0.344\n",
      "  300\t    35.177\t  3748.460\t   700.948\t     0.624\t     0.365\n",
      "  400\t    47.449\t  3739.660\t   700.471\t     0.631\t     0.364\n",
      "  500\t    59.693\t  3740.425\t   700.461\t     0.631\t     0.363\n",
      "  600\t    71.873\t  3740.093\t   699.821\t     0.632\t     0.365\n",
      "  700\t    84.017\t  3740.607\t   699.962\t     0.634\t     0.365\n",
      "Stop at 725 steps: cost (dev) has been monotonically increasing for 10 steps.\n",
      "\n",
      "0.9999999999999999 0.3693628449112384\n"
     ]
    }
   ],
   "source": [
    "ms_lnlnspl = []\n",
    "mdev_lnlnspl = []\n",
    "lnln_spl_time = []\n",
    "\n",
    "for beta in np.arange(0.5 , 1.5, .1):\n",
    "    \n",
    "    lnln_spl = GLM(distr='poisson', output_nonlinearity='softplus')\n",
    "    lnln_spl.add_design_matrix(X_train, dims=dims, df=df, smooth='cr', filter_nonlinearity='softplus', name='stimulus') # light stimulus\n",
    "    lnln_spl.add_design_matrix(X_dev, name='stimulus', kind='dev')\n",
    "    lnln_spl.initialize({'train': y_train, 'dev': y_dev}, num_subunits=4, dt=dt, method='mle', random_seed=2046)\n",
    "    lnln_spl.fit(num_iters=1500, verbose=100, step_size=0.1, beta=beta)\n",
    "    \n",
    "    mdev_lnlnspl.append(lnln_spl.metric_dev_opt)\n",
    "    ms_lnlnspl.append(lnln_spl)\n",
    "    lnln_spl_time.append(lnln_spl.total_time_elapsed)\n",
    "    \n",
    "    print(beta, mdev_lnlnspl[-1])\n",
    "    plt.show()\n",
    "    \n",
    "    if (np.diff(mdev_lnlnspl) > 0).all():\n",
    "        continue\n",
    "    else:\n",
    "        break"
   ]
  },
  {
   "cell_type": "code",
   "execution_count": 48,
   "metadata": {},
   "outputs": [
    {
     "data": {
      "text/plain": [
       "[<matplotlib.lines.Line2D at 0x7fb63c386350>]"
      ]
     },
     "execution_count": 48,
     "metadata": {},
     "output_type": "execute_result"
    },
    {
     "data": {
      "image/png": "[encoded data removed]",
      "text/plain": [
       "<Figure size 432x288 with 1 Axes>"
      ]
     },
     "metadata": {
      "needs_background": "light"
     },
     "output_type": "display_data"
    }
   ],
   "source": [
    "plt.plot(mdev_lnlnspl)"
   ]
  },
  {
   "cell_type": "code",
   "execution_count": 49,
   "metadata": {},
   "outputs": [
    {
     "data": {
      "text/plain": [
       "{'whiskers': [<matplotlib.lines.Line2D at 0x7fb58e4223d0>,\n",
       "  <matplotlib.lines.Line2D at 0x7fb63c397cd0>,\n",
       "  <matplotlib.lines.Line2D at 0x7fb58e43acd0>,\n",
       "  <matplotlib.lines.Line2D at 0x7fb58a59a290>,\n",
       "  <matplotlib.lines.Line2D at 0x7fb58e446bd0>,\n",
       "  <matplotlib.lines.Line2D at 0x7fb58e457d90>,\n",
       "  <matplotlib.lines.Line2D at 0x7fb58e45f4d0>,\n",
       "  <matplotlib.lines.Line2D at 0x7fb58e45ce90>],\n",
       " 'caps': [<matplotlib.lines.Line2D at 0x7fb63c588750>,\n",
       "  <matplotlib.lines.Line2D at 0x7fb63c5882d0>,\n",
       "  <matplotlib.lines.Line2D at 0x7fb58a585150>,\n",
       "  <matplotlib.lines.Line2D at 0x7fb58e426790>,\n",
       "  <matplotlib.lines.Line2D at 0x7fb58e449810>,\n",
       "  <matplotlib.lines.Line2D at 0x7fb58e460f90>,\n",
       "  <matplotlib.lines.Line2D at 0x7fb58e468550>,\n",
       "  <matplotlib.lines.Line2D at 0x7fb58e45ca10>],\n",
       " 'boxes': [<matplotlib.lines.Line2D at 0x7fb63c3971d0>,\n",
       "  <matplotlib.lines.Line2D at 0x7fb58e43a610>,\n",
       "  <matplotlib.lines.Line2D at 0x7fb58e41e510>,\n",
       "  <matplotlib.lines.Line2D at 0x7fb58e4625d0>],\n",
       " 'medians': [<matplotlib.lines.Line2D at 0x7fb58e429bd0>,\n",
       "  <matplotlib.lines.Line2D at 0x7fb58e41be10>,\n",
       "  <matplotlib.lines.Line2D at 0x7fb58e4654d0>,\n",
       "  <matplotlib.lines.Line2D at 0x7fb63c582310>],\n",
       " 'fliers': [<matplotlib.lines.Line2D at 0x7fb58e4348d0>,\n",
       "  <matplotlib.lines.Line2D at 0x7fb58e413850>,\n",
       "  <matplotlib.lines.Line2D at 0x7fb58e460750>,\n",
       "  <matplotlib.lines.Line2D at 0x7fb58e461950>],\n",
       " 'means': []}"
      ]
     },
     "execution_count": 49,
     "metadata": {},
     "output_type": "execute_result"
    },
    {
     "data": {
      "image/png": "[encoded data removed]",
      "text/plain": [
       "<Figure size 432x288 with 1 Axes>"
      ]
     },
     "metadata": {
      "needs_background": "light"
     },
     "output_type": "display_data"
    }
   ],
   "source": [
    "plt.boxplot([np.array(lnp_nospl_time), np.array(lnln_nospl_time), np.array(lnp_spl_time), np.array(lnln_spl_time)])"
   ]
  },
  {
   "cell_type": "code",
   "execution_count": 50,
   "metadata": {},
   "outputs": [],
   "source": [
    "lnp_spl = ms_lnpspl[np.argmax(mdev_lnpspl)]\n",
    "lnln_spl = ms_lnlnspl[np.argmax(mdev_lnlnspl)]"
   ]
  },
  {
   "cell_type": "code",
   "execution_count": 82,
   "metadata": {},
   "outputs": [],
   "source": [
    "from rfest.check import significance\n",
    "\n",
    "def plot_spline(lnp0, lnln0, dt=None, shift=None, title=None, response_type='spike', len_time=1, contour=None, figsize=None):\n",
    "    \n",
    "    from rfest.utils import get_spatial_and_temporal_filters\n",
    "    import matplotlib.gridspec as gridspec\n",
    "    import warnings\n",
    "    warnings.filterwarnings(\"ignore\")\n",
    "    \n",
    "    dims = lnln0.dims['stimulus']\n",
    "    dt = lnln0.dt if dt is None else dt\n",
    "    shift = 0 if shift is None else -shift\n",
    "    t_tRF = np.linspace(-(dims[0]-shift)*dt, shift*dt, dims[0]+1)[1:]\n",
    "\n",
    "    W_score_lnp, p_values_lnp = significance(lnp0, 'opt')\n",
    "    W_score_lnln, p_values_lnln = significance(lnln0, 'opt')\n",
    "    \n",
    "    fig = plt.figure(figsize=figsize) if figsize is not None else (12,4)\n",
    "    \n",
    "    for counter, (lnp, lnln) in enumerate([(lnp0, lnln0)]):\n",
    "        \n",
    "        (idx0, idx1) = (0, 1) if counter == 0 else (2, 3)\n",
    "\n",
    "#         ws = uvec(lnln.w_opt)\n",
    "        ws = np.hstack([lnln.w['opt'][name] for name in lnln.w['opt']])\n",
    "        num_subunits = ws.shape[1]\n",
    "\n",
    "        sRFs_max = []\n",
    "        sRFs_min = []\n",
    "        tRFs = []\n",
    "        tRFs_u = []\n",
    "        tRFs_l = []\n",
    "        for i, name in enumerate(lnln0.filter_names):\n",
    "            w = lnln.w['opt'][name].flatten()\n",
    "            w_se = lnln.w_se['opt'][name].flatten()\n",
    "            wu = w + 2 * w_se\n",
    "            wl = w - 2 * w_se\n",
    "            \n",
    "            w = w.reshape(dims)\n",
    "            wu = wu.reshape(dims)\n",
    "            wl = wl.reshape(dims)\n",
    "            \n",
    "            sRF, tRF = get_spatial_and_temporal_filters(w, dims)\n",
    "\n",
    "            ref = [sRF[2:, 2:].max(), sRF[2:, 2:].min()][np.argmax([np.abs(sRF.max()), np.abs(sRF.min())])]\n",
    "            max_coord = np.where(sRF == ref)\n",
    "            tRF = w[:, max_coord[0], max_coord[1]].flatten()\n",
    "            tRFu = wu[:, max_coord[0], max_coord[1]].flatten()\n",
    "            tRFl = wl[:, max_coord[0], max_coord[1]].flatten()\n",
    "\n",
    "            tRF_max = np.argmax(tRF)\n",
    "            sRF_max = w[tRF_max]\n",
    "            sRFs_max.append(sRF_max)\n",
    "            tRF_min = np.argmin(tRF)\n",
    "            sRF_min = w[tRF_min]\n",
    "            sRFs_min.append(sRF_min)\n",
    "            tRFs.append(tRF)\n",
    "            tRFs_u.append(tRFu)\n",
    "            tRFs_l.append(tRFl)\n",
    "\n",
    "        sRFs_max = np.stack(sRFs_max)\n",
    "        sRFs_min = np.stack(sRFs_min)\n",
    "\n",
    "        vmax = np.max([np.abs(sRFs_max.max()), np.abs(sRFs_max.min()), np.abs(sRFs_min.max()), np.abs(sRFs_min.min())])\n",
    "\n",
    "        ncols = num_subunits\n",
    "        ncols += 2 # add lnp\n",
    "        nrows = 4\n",
    "\n",
    "        spec = gridspec.GridSpec(ncols=ncols, nrows=nrows, figure=fig)  \n",
    "        axs = []\n",
    "        ax_sRF_mins= []\n",
    "        ax_sRF_maxs = []    \n",
    "\n",
    "        # LNP\n",
    "        w_lnp = lnp.w['opt']['stimulus'].flatten()\n",
    "        w_se_lnp = lnp.w_se['opt']['stimulus'].flatten()\n",
    "        wu_lnp = w_lnp + 2 * w_se_lnp\n",
    "        wl_lnp = w_lnp - 2 * w_se_lnp\n",
    "        \n",
    "        w_lnp = w_lnp.reshape(dims)\n",
    "        wu_lnp = wu_lnp.reshape(dims)\n",
    "        wl_lnp = wl_lnp.reshape(dims)\n",
    "        \n",
    "        vmax_lnp = np.max([np.abs(w_lnp.max()), np.abs(w_lnp.min())])\n",
    "        sRF_lnp, tRF_lnp = get_spatial_and_temporal_filters(w_lnp, dims)\n",
    "        ref = [sRF_lnp[2:, 2:].max(), sRF_lnp[2:, 2:].min()][np.argmax([np.abs(sRF_lnp.max()), np.abs(sRF_lnp.min())])]\n",
    "        max_coord = np.where(sRF_lnp == ref)\n",
    "        \n",
    "        tRF_lnp = w_lnp[:, max_coord[0], max_coord[1]].flatten()\n",
    "        tRFu_lnp = wu_lnp[:, max_coord[0], max_coord[1]].flatten()\n",
    "        tRFl_lnp = wl_lnp[:, max_coord[0], max_coord[1]].flatten()\n",
    "        \n",
    "        tRF_max = np.argmax(tRF_lnp)\n",
    "        sRF_max = w_lnp[tRF_max]\n",
    "        tRF_min = np.argmin(tRF_lnp)\n",
    "        sRF_min = w_lnp[tRF_min]\n",
    "\n",
    "        ax_sRF_min = fig.add_subplot(spec[0, 0])       \n",
    "        ax_sRF_min.imshow(sRF_min, cmap=plt.cm.bwr, vmax=vmax_lnp, vmin=-vmax_lnp, aspect='auto')\n",
    "        ax_sRF_min.set_xticks([])\n",
    "        ax_sRF_min.set_yticks([])\n",
    "        \n",
    "        ax_sRF_max = fig.add_subplot(spec[1, 0])       \n",
    "        ax_sRF_max.imshow(sRF_max, cmap=plt.cm.bwr, vmax=vmax_lnp, vmin=-vmax_lnp, aspect='auto')\n",
    "        ax_sRF_max.set_xticks([])\n",
    "        ax_sRF_max.set_yticks([])\n",
    "#         ax_sRF_min.set_title(f'')\n",
    "        p = p_values_lnp['stimulus']\n",
    "\n",
    "        stars = '*'\n",
    "\n",
    "        if p < 0.001:\n",
    "            stars *= 3\n",
    "            ax_sRF_min.set_title(f'p<0.001{stars} ', fontsize=14)\n",
    "        elif p<0.01:\n",
    "            stars *= 2\n",
    "            ax_sRF_min.set_title(f'p<0.01{stars} ', fontsize=14)\n",
    "        elif p<0.05:\n",
    "            stars *= 1\n",
    "            ax_sRF_min.set_title(f'p<0.05{stars} ', fontsize=14)\n",
    "        else:\n",
    "            stars = '[n.s.]'\n",
    "            ax_sRF_min.set_title(f'p>0.05{stars} ', fontsize=14)\n",
    "\n",
    "#         ax_sRF_min.set_ylabel('Spline')\n",
    "            \n",
    "        ax_sRF_mins.append(ax_sRF_min)\n",
    "        ax_sRF_maxs.append(ax_sRF_max)\n",
    "\n",
    "        \n",
    "        ax_tRF = fig.add_subplot(spec[2, 0])       \n",
    "        ax_tRF.plot(t_tRF, tRF_lnp, color='black')\n",
    "        ax_tRF.fill_between(t_tRF, tRFu_lnp, tRFl_lnp, color='gray', alpha=0.5)\n",
    "\n",
    "\n",
    "        ax_tRF.spines['top'].set_visible(False)\n",
    "        ax_tRF.spines['right'].set_visible(False)\n",
    "#         ax_tRF.set_yticks([])\n",
    "#         ax_tRF.set_xticks([])\n",
    "#         tRF_max = np.argmax(tRFs[i])\n",
    "        tRF_min = np.argmin(tRF_lnp)\n",
    "        ax_tRF.axvline(t_tRF[tRF_max], color='C3', linestyle='--', alpha=0.6)\n",
    "        ax_tRF.axvline(t_tRF[tRF_min], color='C0', linestyle='--', alpha=0.6)\n",
    "        ax_tRF.set_xlabel('Time Lag (s)', fontsize=14)\n",
    "\n",
    "    \n",
    "        vmax_tRF = np.max([np.abs(w_lnp.min()), np.abs(w_lnp.max()), np.abs(ws.min()), np.abs(ws.max())])\n",
    "        ax_tRF.set_ylim(-vmax_tRF, vmax_tRF)\n",
    "        # LNLN subunits\n",
    "\n",
    "        for i, name in enumerate(lnln0.filter_names):\n",
    "            ax_sRF_min = fig.add_subplot(spec[0, i+1])       \n",
    "            ax_sRF_min.imshow(sRFs_min[i], cmap=plt.cm.bwr, vmax=vmax, vmin=-vmax, aspect='auto')\n",
    "            ax_sRF_min.set_xticks([])\n",
    "            ax_sRF_min.set_yticks([])\n",
    "            \n",
    "            ax_sRF_max = fig.add_subplot(spec[1, i+1])       \n",
    "            ax_sRF_max.imshow(sRFs_max[i], cmap=plt.cm.bwr, vmax=vmax, vmin=-vmax, aspect='auto')\n",
    "            ax_sRF_max.set_xticks([])\n",
    "            ax_sRF_max.set_yticks([])            \n",
    "\n",
    "            if i == 0 and counter == 0:\n",
    "                ax_sRF_min.set_title(f'LNLN')\n",
    "\n",
    "            ax_sRF_mins.append(ax_sRF_min)\n",
    "            ax_sRF_maxs.append(ax_sRF_max)\n",
    "\n",
    "            \n",
    "            ax_tRF = fig.add_subplot(spec[2, i+1])       \n",
    "            ax_tRF.plot(t_tRF, tRFs[i], color='black')\n",
    "            ax_tRF.fill_between(t_tRF, tRFs_u[i], tRFs_l[i], color='gray', alpha=0.5)\n",
    "            ax_tRF.spines['top'].set_visible(False)\n",
    "            ax_tRF.spines['right'].set_visible(False)\n",
    "            ax_tRF.set_yticks([]) \n",
    "#             ax_tRF.set_xticks([])\n",
    "    #         tRF_max = np.argmax(tRFs[i])\n",
    "            tRF_min = np.argmin(tRFs[i])\n",
    "            \n",
    "            ax_tRF.axvline(t_tRF[tRF_max], color='C3', linestyle='--', alpha=0.6)\n",
    "            ax_tRF.axvline(t_tRF[tRF_min], color='C0', linestyle='--', alpha=0.6)\n",
    "            ax_tRF.set_ylim(-vmax_tRF, vmax_tRF)\n",
    "#             ax_tRF.set_ylim(-0.1, 0.1)\n",
    "\n",
    "            p = p_values_lnln[name]\n",
    "\n",
    "            stars = '*'\n",
    "\n",
    "            if p < 0.001:\n",
    "                stars *= 3\n",
    "                ax_sRF_min.set_title(f'p<0.001{stars} ', fontsize=14)\n",
    "            elif p<0.01:\n",
    "                stars *= 2\n",
    "                ax_sRF_min.set_title(f'p<0.01{stars} ', fontsize=14)\n",
    "            elif p<0.05:\n",
    "                stars *= 1\n",
    "                ax_sRF_min.set_title(f'p<0.05{stars} ', fontsize=14)\n",
    "            else:\n",
    "                stars = '[n.s.]'\n",
    "                ax_sRF_min.set_title(f'p>0.05{stars} ', fontsize=14)\n",
    "\n",
    "        if contour is not None and counter == 0: # then plot contour\n",
    "\n",
    "            for i in range(num_subunits+1):\n",
    "\n",
    "                color_min = 'black' if i == 0 else 'gray'\n",
    "                color_max = 'black' if i == 0 else 'gray'\n",
    "\n",
    "                ax_sRF_mins[i].contour(sRF_min, levels=[-contour], colors=[color_min], linestyles=['-'], alpha=1)\n",
    "                ax_sRF_maxs[i].contour(sRF_max, levels=[contour], colors=[color_max], linestyles=['-'], alpha=1)\n",
    "\n",
    "\n",
    "                for j in range(num_subunits):\n",
    "                    if i-1 != j:\n",
    "                        color = 'grey'\n",
    "                        alpha = 0.5\n",
    "                        style = '--'                    \n",
    "                    else:\n",
    "                        color = 'black'\n",
    "                        alpha = 1\n",
    "                        style = '--'\n",
    "                    ax_sRF_mins[i].contour(sRFs_min[j], levels=[-contour], colors=[color], linestyles=[style], alpha=alpha)\n",
    "                    ax_sRF_maxs[i].contour(sRFs_max[j], levels=[contour], colors=[color], linestyles=[style], alpha=alpha)\n",
    "\n",
    "            \n",
    "    plt.subplots_adjust(wspace=0.5)\n",
    "\n",
    "\n",
    "\n",
    "\n",
    "\n"
   ]
  },
  {
   "cell_type": "code",
   "execution_count": 83,
   "metadata": {},
   "outputs": [
    {
     "data": {
      "image/png": "[encoded data removed]",
      "text/plain": [
       "<Figure size 864x504 with 15 Axes>"
      ]
     },
     "metadata": {
      "needs_background": "light"
     },
     "output_type": "display_data"
    }
   ],
   "source": [
    "plot_spline(lnp_spl, lnln_spl, figsize=(12, 3.5*2), contour=0.035)\n",
    "plt.savefig('figs/Figure8b2.pdf')"
   ]
  },
  {
   "cell_type": "code",
   "execution_count": 81,
   "metadata": {},
   "outputs": [
    {
     "data": {
      "text/plain": [
       "({'stimulus': DeviceArray(946.78104462, dtype=float64)},\n",
       " {'stimulus': 0.7128896950675678})"
      ]
     },
     "execution_count": 81,
     "metadata": {},
     "output_type": "execute_result"
    }
   ],
   "source": [
    "significance(lnp_spl)"
   ]
  },
  {
   "cell_type": "code",
   "execution_count": 53,
   "metadata": {},
   "outputs": [],
   "source": [
    "div = int(X_test.shape[0]/4)\n",
    "cc_test_spline = np.array([[m.score(X_test[i*div:(i+1)*div], y_test[i*div:(i+1)*div]) for m in [lnp_spl, lnln_spl]] for i in range(4)])"
   ]
  },
  {
   "cell_type": "code",
   "execution_count": 54,
   "metadata": {},
   "outputs": [],
   "source": [
    "cc_test_vanilla= np.array([[0.11237787, 0.10017895],\n",
    "       [0.12187291, 0.19099434],\n",
    "       [0.27587909, 0.35431198],\n",
    "       [0.25295237, 0.27356057]])"
   ]
  },
  {
   "cell_type": "code",
   "execution_count": 55,
   "metadata": {},
   "outputs": [
    {
     "data": {
      "image/png": "[encoded data removed]",
      "text/plain": [
       "<Figure size 216x288 with 1 Axes>"
      ]
     },
     "metadata": {
      "needs_background": "light"
     },
     "output_type": "display_data"
    }
   ],
   "source": [
    "cc_test = np.hstack([cc_test_vanilla, cc_test_spline])\n",
    "cc_test_mean = cc_test.mean(0)\n",
    "\n",
    "\n",
    "cc_test_std = cc_test.std(0)\n",
    "fig, ax_bar = plt.subplots(figsize=(3,4))\n",
    "\n",
    "x = [0, 1, 2, 3]\n",
    "ax_bar.bar(x, cc_test_mean, yerr=cc_test_std, width=1, color=['lightblue', 'lightcoral', 'steelblue', 'firebrick'], capsize=5)\n",
    "labels = ['LNP',  'LNLN', 'LNP (spline)', 'LNLN (spline)']\n",
    "\n",
    "ax_bar.spines['top'].set_visible(False)\n",
    "ax_bar.spines['right'].set_visible(False)\n",
    "ax_bar.set_xticks(x)\n",
    "ax_bar.set_xticklabels(labels, rotation=90, fontsize=14)\n",
    "ax_bar.set_ylim(0, 0.5)\n",
    "ax_bar.set_ylabel('Correlation Coefficient', fontsize=14)\n",
    "\n",
    "plt.savefig('figs/Figure8b3.pdf')"
   ]
  },
  {
   "cell_type": "code",
   "execution_count": 56,
   "metadata": {},
   "outputs": [
    {
     "data": {
      "image/png": "[encoded data removed]",
      "text/plain": [
       "<Figure size 216x288 with 1 Axes>"
      ]
     },
     "metadata": {
      "needs_background": "light"
     },
     "output_type": "display_data"
    }
   ],
   "source": [
    "fig, ax_box = plt.subplots(figsize=(3,4))\n",
    "ax_box.boxplot([np.array(lnp_nospl_time)/60, np.array(lnln_nospl_time)/60, np.array(lnp_spl_time)/60, np.array(lnln_spl_time)/60])\n",
    "\n",
    "labels = ['LNP',  'LNLN', 'LNP (spline)', 'LNLN (spline)']\n",
    "\n",
    "ax_box.spines['top'].set_visible(False)\n",
    "ax_box.spines['right'].set_visible(False)\n",
    "ax_box.set_ylabel('Time (minutes)', fontsize=14)\n",
    "# ax_box.set_xticks(x)\n",
    "ax_box.set_xticklabels(labels, rotation=90, fontsize=14)\n",
    "\n",
    "plt.savefig('figs/Figure8b4.pdf')"
   ]
  },
  {
   "cell_type": "code",
   "execution_count": null,
   "metadata": {},
   "outputs": [],
   "source": []
  }
 ],
 "metadata": {
  "kernelspec": {
   "display_name": "Python 3",
   "language": "python",
   "name": "python3"
  },
  "language_info": {
   "codemirror_mode": {
    "name": "ipython",
    "version": 3
   },
   "file_extension": ".py",
   "mimetype": "text/x-python",
   "name": "python",
   "nbconvert_exporter": "python",
   "pygments_lexer": "ipython3",
   "version": "3.7.7"
  },
  "varInspector": {
   "cols": {
    "lenName": 16,
    "lenType": 16,
    "lenVar": 40
   },
   "kernels_config": {
    "python": {
     "delete_cmd_postfix": "",
     "delete_cmd_prefix": "del ",
     "library": "var_list.py",
     "varRefreshCmd": "print(var_dic_list())"
    },
    "r": {
     "delete_cmd_postfix": ") ",
     "delete_cmd_prefix": "rm(",
     "library": "var_list.r",
     "varRefreshCmd": "cat(var_dic_list()) "
    }
   },
   "types_to_exclude": [
    "module",
    "function",
    "builtin_function_or_method",
    "instance",
    "_Feature"
   ],
   "window_display": false
  }
 },
 "nbformat": 4,
 "nbformat_minor": 4
}
