{
 "cells": [
  {
   "cell_type": "code",
   "execution_count": 1,
   "metadata": {},
   "outputs": [],
   "source": [
    "import numpy as np\n",
    "import matplotlib.pyplot as plt\n",
    "\n",
    "from rfest import LNP, splineLNP, LNLN, splineLNLN\n",
    "from rfest import build_design_matrix\n",
    "from rfest.utils import get_n_samples, split_data, fetch_data, uvec\n",
    "from rfest.plot import plot_subunits2d, plot_subunits3d, plot2d, plot3d, compare_LNP_and_LNLN"
   ]
  },
  {
   "cell_type": "code",
   "execution_count": 2,
   "metadata": {},
   "outputs": [
    {
     "name": "stdout",
     "output_type": "stream",
     "text": [
      "(Rust, et al., 2005) is already downloaded. To re-download the same file, please set `overwrite=False`.\n",
      "Loading data...\n",
      "Done.\n"
     ]
    }
   ],
   "source": [
    "data_rust = fetch_data(1)\n",
    "\n"
   ]
  },
  {
   "cell_type": "code",
   "execution_count": 3,
   "metadata": {},
   "outputs": [
    {
     "name": "stdout",
     "output_type": "stream",
     "text": [
      "SUMMARY\n",
      "               N    Minutes   Fraction\n",
      "Total     120000       20.0        1.0\n",
      "Train      60000       10.0        0.5\n",
      "Dev        12000        2.0        0.1\n",
      "Test       48000        8.0        0.4\n"
     ]
    }
   ],
   "source": [
    "dt = 0.01\n",
    "# df = [13, 21]\n",
    "df = [11, 17]\n",
    "dims=[16, 24]\n",
    "num_subunits = 4\n",
    "\n",
    "n_samples = get_n_samples(20, dt) # 20 mins of the full dataset\n",
    "stim = data_rust['stim'].T\n",
    "X = build_design_matrix(stim, dims[0])[:n_samples]\n",
    "y = data_rust['spikes_per_frm'].flatten()[:n_samples]\n",
    "\n",
    "(X_train, y_train), (X_dev, y_dev), (X_test, y_test) = split_data(X, y, dt, frac_train=0.5, frac_dev=0.1)"
   ]
  },
  {
   "cell_type": "code",
   "execution_count": 4,
   "metadata": {},
   "outputs": [
    {
     "name": "stderr",
     "output_type": "stream",
     "text": [
      "WARNING:absl:No GPU/TPU found, falling back to CPU. (Set TF_CPP_MIN_LOG_LEVEL=0 and rerun for more info.)\n"
     ]
    },
    {
     "name": "stdout",
     "output_type": "stream",
     "text": [
      "Iters\t  Time (s)\tCost (train)\tCost (dev)\tMetric (train)\tMetric (dev)\n",
      "    0\t     2.379\t 12083.060\t  3221.202\t     0.073\t     0.024\n",
      "  300\t    16.976\t-139514.365\t-26498.578\t     0.111\t     0.051\n",
      "Stop at 301 steps: cost (dev) has been monotonically increasing for 10 steps.\n",
      "\n",
      "Total time elapsed: 17.024 s.\n",
      "Iters\t  Time (s)\tCost (train)\tCost (dev)\tMetric (train)\tMetric (dev)\n",
      "    0\t     1.091\t  8632.750\t  1713.743\t     0.066\t     0.032\n",
      "  300\t    10.668\t-139370.491\t-26523.095\t     0.100\t     0.056\n",
      "Stop at 304 steps: cost (dev) has been monotonically increasing for 10 steps.\n",
      "\n",
      "Total time elapsed: 10.830 s.\n",
      "Iters\t  Time (s)\tCost (train)\tCost (dev)\tMetric (train)\tMetric (dev)\n",
      "    0\t     2.003\t-19285.192\t -3394.234\t     0.080\t     0.027\n",
      "  300\t    19.162\t-144002.453\t-27189.086\t     0.373\t     0.285\n",
      "  600\t    39.348\t-145603.685\t-27473.779\t     0.416\t     0.336\n",
      "Stop at 633 steps: cost (dev) has been monotonically increasing for 10 steps.\n",
      "\n",
      "Total time elapsed: 41.568 s.\n",
      "Iters\t  Time (s)\tCost (train)\tCost (dev)\tMetric (train)\tMetric (dev)\n",
      "    0\t     1.384\t -9955.333\t -1912.152\t     0.071\t     0.037\n",
      "  300\t    15.216\t-139499.238\t-26747.937\t     0.234\t     0.204\n",
      "  600\t    32.211\t-140330.641\t-26967.819\t     0.326\t     0.295\n",
      "  900\t    49.444\t-140920.791\t-27141.673\t     0.343\t     0.310\n",
      " 1200\t    67.755\t-141587.806\t-27318.546\t     0.360\t     0.325\n",
      " 1500\t    84.610\t-142253.473\t-27479.133\t     0.377\t     0.341\n",
      " 1800\t   100.571\t-142707.302\t-27549.756\t     0.385\t     0.349\n",
      " 2100\t   116.055\t-143028.756\t-27573.962\t     0.390\t     0.353\n",
      " 2400\t   131.578\t-143329.943\t-27598.952\t     0.395\t     0.357\n",
      " 2700\t   146.915\t-143545.294\t-27615.694\t     0.398\t     0.358\n",
      " 3000\t   162.721\t-143717.876\t-27628.275\t     0.400\t     0.360\n",
      " 3300\t   178.373\t-143865.766\t-27638.196\t     0.402\t     0.361\n",
      " 3600\t   194.145\t-143994.982\t-27642.562\t     0.404\t     0.361\n",
      " 3900\t   209.829\t-144106.114\t-27647.122\t     0.405\t     0.362\n",
      " 4200\t   225.250\t-144203.981\t-27651.747\t     0.406\t     0.362\n",
      " 4500\t   241.033\t-144290.487\t-27655.010\t     0.406\t     0.362\n",
      " 4800\t   263.316\t-144367.589\t-27657.765\t     0.407\t     0.363\n",
      "Stop: reached 5000 steps.\n",
      "\n",
      "Total time elapsed: 285.525 s.\n"
     ]
    }
   ],
   "source": [
    "r1_nospl_lnp = LNP(X_train, y_train, dims=dims, dt=dt, \n",
    "                 filter_nonlinearity='softplus', output_nonlinearity='softplus')\n",
    "r1_nospl_lnp.fit(extra={'X': X_dev, 'y': y_dev}, metric='corrcoef', \n",
    "             num_iters=5000, step_size=0.1,\n",
    "             beta=.3, verbose=300, random_seed=2046,\n",
    "             fit_history_filter=False)\n",
    "\n",
    "r1_spl_lnp = splineLNP(X_train, y_train, dims=dims, dt=dt, df=df,\n",
    "                 filter_nonlinearity='softplus', output_nonlinearity='softplus')\n",
    "r1_spl_lnp.fit(extra={'X': X_dev, 'y': y_dev}, metric='corrcoef', \n",
    "             num_iters=5000, step_size=0.1,\n",
    "             beta=.3, verbose=300, random_seed=2046,\n",
    "             fit_history_filter=False)\n",
    "\n",
    "r1_nospl_lnln = LNLN(X_train, y_train, dims=dims, dt=dt, \n",
    "                 filter_nonlinearity='softplus', output_nonlinearity='softplus')\n",
    "r1_nospl_lnln.fit(extra={'X': X_dev, 'y': y_dev}, metric='corrcoef', \n",
    "             num_subunits=num_subunits, num_iters=5000, step_size=0.1,\n",
    "             beta=.5, verbose=300, random_seed=2046,\n",
    "             fit_history_filter=False)\n",
    "\n",
    "r1_spl_lnln = splineLNLN(X_train, y_train, dims=dims, dt=dt, df=df,\n",
    "                 filter_nonlinearity='softplus', output_nonlinearity='softplus')\n",
    "r1_spl_lnln.fit(extra={'X': X_dev, 'y': y_dev}, metric='corrcoef', \n",
    "             num_subunits=num_subunits, num_iters=5000, step_size=0.1,\n",
    "             beta=1., verbose=300, random_seed=2046,\n",
    "             fit_history_filter=False)"
   ]
  },
  {
   "cell_type": "code",
   "execution_count": 10,
   "metadata": {},
   "outputs": [
    {
     "data": {
      "image/png": "[encoded data removed]",
      "text/plain": [
       "<Figure size 864x252 with 12 Axes>"
      ]
     },
     "metadata": {
      "needs_background": "light"
     },
     "output_type": "display_data"
    }
   ],
   "source": [
    "fig, ax = plt.subplots(2, 6, figsize=(12, 3.5))\n",
    "\n",
    "w = uvec(r1_nospl_lnp.w_opt)\n",
    "vmax = np.max([np.abs(w.max()), np.abs(w.min())])\n",
    "ax[0, 0].imshow(uvec(r1_nospl_lnp.w_opt.reshape(dims).T), \n",
    "                cmap=plt.cm.bwr, vmin=-vmax, vmax=vmax,\n",
    "               aspect='auto')\n",
    "\n",
    "\n",
    "w = uvec(r1_spl_lnp.w_opt.reshape(dims).T)\n",
    "vmax = np.max([np.abs(w.max()), np.abs(w.min())])\n",
    "ax[1, 0].imshow(uvec(r1_spl_lnp.w_opt.reshape(dims).T), \n",
    "                cmap=plt.cm.bwr, vmin=-vmax, vmax=vmax,\n",
    "               aspect='auto')\n",
    "\n",
    "ws0 = uvec(r1_nospl_lnln.w_opt)\n",
    "vmax0 = np.max([np.abs(ws0.max()), np.abs(ws0.min())])\n",
    "\n",
    "ws1 = uvec(r1_spl_lnln.w_opt)\n",
    "vmax1 = np.max([np.abs(ws1.max()), np.abs(ws1.min())])\n",
    "for i in range(1, 5):\n",
    "    ax[0, i].imshow(ws0[:, i-1].reshape(dims).T, \n",
    "                    cmap=plt.cm.bwr, vmin=-vmax0, vmax=vmax0,\n",
    "                   aspect='auto')\n",
    "    ax[1, i].imshow(ws1[:, i-1].reshape(dims).T, \n",
    "                    cmap=plt.cm.bwr, vmin=-vmax1, vmax=vmax1,\n",
    "                   aspect='auto')\n",
    "    \n",
    "div = int(X_test.shape[0]/4)\n",
    "cc_test = np.array([[m.score(X_test[i*div:(i+1)*div], y_test[i*div:(i+1)*div]) for m \n",
    "                     in [r1_nospl_lnp, r1_spl_lnp, r1_nospl_lnln, r1_spl_lnln]] for i\n",
    "                     in range(4)])\n",
    "cc_test_mean = cc_test.mean(0)\n",
    "cc_test_std = cc_test.std(0)\n",
    "x = [0, 1, 2, 3]\n",
    "ax[0, -1].bar(x, cc_test_mean, yerr=cc_test_std, \n",
    "              width=1, \n",
    "              color=['lightblue', 'lightcoral', 'steelblue', 'firebrick'], \n",
    "              capsize=5)\n",
    "\n",
    "labels = ['LNP', 'LNP (spline)', 'LNLN', 'LNLN (spline)']\n",
    "\n",
    "\n",
    "\n",
    "ax = ax.flatten()\n",
    "for i in range(len(ax)):\n",
    "    if i == 5: \n",
    "        ax[i].spines['top'].set_visible(False)\n",
    "        ax[i].spines['right'].set_visible(False)\n",
    "        ax[i].set_xticks(x)\n",
    "        ax[i].set_xticklabels(labels, rotation=90)\n",
    "        ax[i].set_ylim(0, 0.5)\n",
    "        \n",
    "    elif i == 11:\n",
    "        ax[i].axis('off')\n",
    "    else:    \n",
    "        ax[i].set_xticks([])\n",
    "        ax[i].set_yticks([])\n",
    "\n",
    "ax[0].set_title('LNP')\n",
    "ax[0].set_ylabel('No spline')\n",
    "\n",
    "\n",
    "ax[1].set_title('LNLN')\n",
    "ax[6].set_ylabel('Spline')\n",
    "\n",
    "plt.subplots_adjust(wspace=0.5)\n",
    "\n",
    "# fig.tight_layout()\n",
    "\n",
    "fig.savefig('fig4b.pdf')"
   ]
  },
  {
   "cell_type": "code",
   "execution_count": null,
   "metadata": {},
   "outputs": [],
   "source": []
  }
 ],
 "metadata": {
  "kernelspec": {
   "display_name": "Python 3",
   "language": "python",
   "name": "python3"
  },
  "language_info": {
   "codemirror_mode": {
    "name": "ipython",
    "version": 3
   },
   "file_extension": ".py",
   "mimetype": "text/x-python",
   "name": "python",
   "nbconvert_exporter": "python",
   "pygments_lexer": "ipython3",
   "version": "3.7.7"
  },
  "varInspector": {
   "cols": {
    "lenName": 16,
    "lenType": 16,
    "lenVar": 40
   },
   "kernels_config": {
    "python": {
     "delete_cmd_postfix": "",
     "delete_cmd_prefix": "del ",
     "library": "var_list.py",
     "varRefreshCmd": "print(var_dic_list())"
    },
    "r": {
     "delete_cmd_postfix": ") ",
     "delete_cmd_prefix": "rm(",
     "library": "var_list.r",
     "varRefreshCmd": "cat(var_dic_list()) "
    }
   },
   "types_to_exclude": [
    "module",
    "function",
    "builtin_function_or_method",
    "instance",
    "_Feature"
   ],
   "window_display": false
  }
 },
 "nbformat": 4,
 "nbformat_minor": 4
}
